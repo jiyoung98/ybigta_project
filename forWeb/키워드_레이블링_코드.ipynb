{
  "nbformat": 4,
  "nbformat_minor": 0,
  "metadata": {
    "colab": {
      "name": "키워드 레이블링 코드.ipynb",
      "provenance": []
    },
    "kernelspec": {
      "name": "python3",
      "display_name": "Python 3"
    }
  },
  "cells": [
    {
      "cell_type": "code",
      "metadata": {
        "id": "WyeZK88czHuy"
      },
      "source": [
        "import pandas as pd\n",
        "import numpy as np"
      ],
      "execution_count": 21,
      "outputs": []
    },
    {
      "cell_type": "code",
      "metadata": {
        "id": "0SPKjpASzIw2"
      },
      "source": [
        "data = pd.read_csv('final_keyword_scoring_data.csv')"
      ],
      "execution_count": 22,
      "outputs": []
    },
    {
      "cell_type": "code",
      "metadata": {
        "colab": {
          "base_uri": "https://localhost:8080/",
          "height": 419
        },
        "id": "9ZTopujDzmdd",
        "outputId": "f730c1e0-397f-4ce6-ddda-05db697034a0"
      },
      "source": [
        "data"
      ],
      "execution_count": 23,
      "outputs": [
        {
          "output_type": "execute_result",
          "data": {
            "text/html": [
              "<div>\n",
              "<style scoped>\n",
              "    .dataframe tbody tr th:only-of-type {\n",
              "        vertical-align: middle;\n",
              "    }\n",
              "\n",
              "    .dataframe tbody tr th {\n",
              "        vertical-align: top;\n",
              "    }\n",
              "\n",
              "    .dataframe thead th {\n",
              "        text-align: right;\n",
              "    }\n",
              "</style>\n",
              "<table border=\"1\" class=\"dataframe\">\n",
              "  <thead>\n",
              "    <tr style=\"text-align: right;\">\n",
              "      <th></th>\n",
              "      <th>Unnamed: 0</th>\n",
              "      <th>커피/Noun</th>\n",
              "      <th>가격/Noun</th>\n",
              "      <th>직원/Noun</th>\n",
              "      <th>분위기/Noun</th>\n",
              "    </tr>\n",
              "  </thead>\n",
              "  <tbody>\n",
              "    <tr>\n",
              "      <th>0</th>\n",
              "      <td>하다/Verb</td>\n",
              "      <td>1.017735e-13</td>\n",
              "      <td>1.354741e-18</td>\n",
              "      <td>1.293492e-14</td>\n",
              "      <td>1.507433e-15</td>\n",
              "    </tr>\n",
              "    <tr>\n",
              "      <th>1</th>\n",
              "      <td>좋다/Adjective</td>\n",
              "      <td>1.440535e-12</td>\n",
              "      <td>5.690393e-18</td>\n",
              "      <td>1.584780e-15</td>\n",
              "      <td>3.057179e-11</td>\n",
              "    </tr>\n",
              "    <tr>\n",
              "      <th>2</th>\n",
              "      <td>맛있다/Adjective</td>\n",
              "      <td>8.531844e-13</td>\n",
              "      <td>3.721021e-17</td>\n",
              "      <td>1.747931e-16</td>\n",
              "      <td>1.345982e-13</td>\n",
              "    </tr>\n",
              "    <tr>\n",
              "      <th>3</th>\n",
              "      <td>맛/Noun</td>\n",
              "      <td>3.406623e-11</td>\n",
              "      <td>3.650404e-15</td>\n",
              "      <td>1.590326e-16</td>\n",
              "      <td>1.284656e-13</td>\n",
              "    </tr>\n",
              "    <tr>\n",
              "      <th>4</th>\n",
              "      <td>커피/Noun</td>\n",
              "      <td>1.000000e+00</td>\n",
              "      <td>9.616869e-16</td>\n",
              "      <td>8.931647e-17</td>\n",
              "      <td>6.098449e-12</td>\n",
              "    </tr>\n",
              "    <tr>\n",
              "      <th>...</th>\n",
              "      <td>...</td>\n",
              "      <td>...</td>\n",
              "      <td>...</td>\n",
              "      <td>...</td>\n",
              "      <td>...</td>\n",
              "    </tr>\n",
              "    <tr>\n",
              "      <th>2144</th>\n",
              "      <td>비누/Noun</td>\n",
              "      <td>4.949940e-17</td>\n",
              "      <td>9.981034e-21</td>\n",
              "      <td>5.363301e-17</td>\n",
              "      <td>9.016507e-18</td>\n",
              "    </tr>\n",
              "    <tr>\n",
              "      <th>2145</th>\n",
              "      <td>남편/Noun</td>\n",
              "      <td>6.629397e-15</td>\n",
              "      <td>3.642592e-20</td>\n",
              "      <td>5.131438e-18</td>\n",
              "      <td>3.315588e-15</td>\n",
              "    </tr>\n",
              "    <tr>\n",
              "      <th>2146</th>\n",
              "      <td>시큼하다/Adjective</td>\n",
              "      <td>2.261535e-15</td>\n",
              "      <td>1.272839e-21</td>\n",
              "      <td>8.036501e-19</td>\n",
              "      <td>1.103470e-17</td>\n",
              "    </tr>\n",
              "    <tr>\n",
              "      <th>2147</th>\n",
              "      <td>산모퉁이/Noun</td>\n",
              "      <td>1.493159e-12</td>\n",
              "      <td>2.331639e-18</td>\n",
              "      <td>2.891496e-17</td>\n",
              "      <td>5.686003e-13</td>\n",
              "    </tr>\n",
              "    <tr>\n",
              "      <th>2148</th>\n",
              "      <td>타워/Noun</td>\n",
              "      <td>2.267406e-18</td>\n",
              "      <td>3.345240e-23</td>\n",
              "      <td>2.782450e-20</td>\n",
              "      <td>8.808312e-18</td>\n",
              "    </tr>\n",
              "  </tbody>\n",
              "</table>\n",
              "<p>2149 rows × 5 columns</p>\n",
              "</div>"
            ],
            "text/plain": [
              "          Unnamed: 0       커피/Noun       가격/Noun       직원/Noun      분위기/Noun\n",
              "0            하다/Verb  1.017735e-13  1.354741e-18  1.293492e-14  1.507433e-15\n",
              "1       좋다/Adjective  1.440535e-12  5.690393e-18  1.584780e-15  3.057179e-11\n",
              "2      맛있다/Adjective  8.531844e-13  3.721021e-17  1.747931e-16  1.345982e-13\n",
              "3             맛/Noun  3.406623e-11  3.650404e-15  1.590326e-16  1.284656e-13\n",
              "4            커피/Noun  1.000000e+00  9.616869e-16  8.931647e-17  6.098449e-12\n",
              "...              ...           ...           ...           ...           ...\n",
              "2144         비누/Noun  4.949940e-17  9.981034e-21  5.363301e-17  9.016507e-18\n",
              "2145         남편/Noun  6.629397e-15  3.642592e-20  5.131438e-18  3.315588e-15\n",
              "2146  시큼하다/Adjective  2.261535e-15  1.272839e-21  8.036501e-19  1.103470e-17\n",
              "2147       산모퉁이/Noun  1.493159e-12  2.331639e-18  2.891496e-17  5.686003e-13\n",
              "2148         타워/Noun  2.267406e-18  3.345240e-23  2.782450e-20  8.808312e-18\n",
              "\n",
              "[2149 rows x 5 columns]"
            ]
          },
          "metadata": {
            "tags": []
          },
          "execution_count": 23
        }
      ]
    },
    {
      "cell_type": "code",
      "metadata": {
        "id": "iSHIuYA_1cwU"
      },
      "source": [
        "data = data.rename(columns= {'Unnamed: 0' : 'token'})"
      ],
      "execution_count": 33,
      "outputs": []
    },
    {
      "cell_type": "code",
      "metadata": {
        "id": "_qHx45nmxKzW"
      },
      "source": [
        "def keyword_scoring(exp_sent):\n",
        "  coffeescore = 0\n",
        "  pricescore = 0\n",
        "  manscore = 0\n",
        "  vibescore = 0\n",
        "  for i, word in enumerate(data['token']):\n",
        "    if word in exp_sent:\n",
        "      coffeescore += data['커피/Noun'][i]\n",
        "      pricescore += data['가격/Noun'][i]\n",
        "      manscore += data['직원/Noun'][i]\n",
        "      vibescore += data['분위기/Noun'][i]\n",
        "  print(coffeescore)\n",
        "  print(pricescore)\n",
        "  print(manscore)\n",
        "  print(vibescore)\n"
      ],
      "execution_count": 37,
      "outputs": []
    },
    {
      "cell_type": "code",
      "metadata": {
        "id": "74is6cV0zIzd"
      },
      "source": [
        "exp_sent = ['선곡/Noun', '좋다/Adjective']"
      ],
      "execution_count": 38,
      "outputs": []
    },
    {
      "cell_type": "code",
      "metadata": {
        "colab": {
          "base_uri": "https://localhost:8080/"
        },
        "id": "5b6qa3lGzfpk",
        "outputId": "1e56e1e3-8e07-418c-de81-4bb0954d62b1"
      },
      "source": [
        "keyword_scoring(exp_sent)"
      ],
      "execution_count": 39,
      "outputs": [
        {
          "output_type": "stream",
          "text": [
            "1.4405356574393e-12\n",
            "5.690530628740001e-18\n",
            "1.5848562593999999e-15\n",
            "3.057836606e-11\n"
          ],
          "name": "stdout"
        }
      ]
    },
    {
      "cell_type": "code",
      "metadata": {
        "id": "5pzkrs95zhsD"
      },
      "source": [
        ""
      ],
      "execution_count": null,
      "outputs": []
    }
  ]
}