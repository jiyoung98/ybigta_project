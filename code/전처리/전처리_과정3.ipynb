{
  "nbformat": 4,
  "nbformat_minor": 0,
  "metadata": {
    "colab": {
      "name": "전처리_과정3.ipynb",
      "provenance": [],
      "collapsed_sections": []
    },
    "kernelspec": {
      "name": "python3",
      "display_name": "Python 3"
    }
  },
  "cells": [
    {
      "cell_type": "code",
      "metadata": {
        "id": "xqH5lSvKMBx4"
      },
      "source": [
        "import numpy as np\r\n",
        "import pandas as pd\r\n",
        "\r\n",
        "# tokenizer 불러오기\r\n",
        "from nltk.tokenize import word_tokenize, WordPunctTokenizer"
      ],
      "execution_count": 1,
      "outputs": []
    },
    {
      "cell_type": "code",
      "metadata": {
        "colab": {
          "base_uri": "https://localhost:8080/",
          "height": 935
        },
        "id": "l4xjdVjfMNE4",
        "outputId": "53d07413-9eb5-4716-b74a-d5d558266ced"
      },
      "source": [
        "data = pd.read_csv('/content/drive/MyDrive/신입프로젝트/traindata.csv')\r\n",
        "data.dropna(inplace = True)\r\n",
        "\r\n",
        "data = data[data['2'] != '3점']\r\n",
        "data.head(30)"
      ],
      "execution_count": 21,
      "outputs": [
        {
          "output_type": "execute_result",
          "data": {
            "text/html": [
              "<div>\n",
              "<style scoped>\n",
              "    .dataframe tbody tr th:only-of-type {\n",
              "        vertical-align: middle;\n",
              "    }\n",
              "\n",
              "    .dataframe tbody tr th {\n",
              "        vertical-align: top;\n",
              "    }\n",
              "\n",
              "    .dataframe thead th {\n",
              "        text-align: right;\n",
              "    }\n",
              "</style>\n",
              "<table border=\"1\" class=\"dataframe\">\n",
              "  <thead>\n",
              "    <tr style=\"text-align: right;\">\n",
              "      <th></th>\n",
              "      <th>Unnamed: 0</th>\n",
              "      <th>0</th>\n",
              "      <th>1</th>\n",
              "      <th>2</th>\n",
              "    </tr>\n",
              "  </thead>\n",
              "  <tbody>\n",
              "    <tr>\n",
              "      <th>1</th>\n",
              "      <td>1</td>\n",
              "      <td>카페노티드 청담</td>\n",
              "      <td>계산해주는 직원도 불친절하고 크로플도 두개시켰는데 집에 와서 열어보니 한개만 줬네요...</td>\n",
              "      <td>1점</td>\n",
              "    </tr>\n",
              "    <tr>\n",
              "      <th>2</th>\n",
              "      <td>2</td>\n",
              "      <td>카페노티드 청담</td>\n",
              "      <td>좋아요</td>\n",
              "      <td>4점</td>\n",
              "    </tr>\n",
              "    <tr>\n",
              "      <th>3</th>\n",
              "      <td>3</td>\n",
              "      <td>카페노티드 청담</td>\n",
              "      <td>최고예요</td>\n",
              "      <td>5점</td>\n",
              "    </tr>\n",
              "    <tr>\n",
              "      <th>5</th>\n",
              "      <td>5</td>\n",
              "      <td>카페노티드 청담</td>\n",
              "      <td>최고예요</td>\n",
              "      <td>5점</td>\n",
              "    </tr>\n",
              "    <tr>\n",
              "      <th>6</th>\n",
              "      <td>6</td>\n",
              "      <td>카페노티드 청담</td>\n",
              "      <td>먹고싶었는데 많이 안달아서 진짜 더 좋았던거같아요 줄 정리도 빨라서 좋았습니다</td>\n",
              "      <td>5점</td>\n",
              "    </tr>\n",
              "    <tr>\n",
              "      <th>7</th>\n",
              "      <td>7</td>\n",
              "      <td>카페노티드 청담</td>\n",
              "      <td>최고예요</td>\n",
              "      <td>5점</td>\n",
              "    </tr>\n",
              "    <tr>\n",
              "      <th>8</th>\n",
              "      <td>8</td>\n",
              "      <td>카페노티드 청담</td>\n",
              "      <td>노티드 맛있어요 ㅠㅠㅍ</td>\n",
              "      <td>5점</td>\n",
              "    </tr>\n",
              "    <tr>\n",
              "      <th>10</th>\n",
              "      <td>10</td>\n",
              "      <td>카페노티드 청담</td>\n",
              "      <td>최고예요</td>\n",
              "      <td>5점</td>\n",
              "    </tr>\n",
              "    <tr>\n",
              "      <th>11</th>\n",
              "      <td>11</td>\n",
              "      <td>카페노티드 청담</td>\n",
              "      <td>느끼하지 않고 막 달지 않아서 난 맛있던뎅, 개취인듯. 커피도 무난함.</td>\n",
              "      <td>4점</td>\n",
              "    </tr>\n",
              "    <tr>\n",
              "      <th>12</th>\n",
              "      <td>12</td>\n",
              "      <td>카페노티드 청담</td>\n",
              "      <td>최고예요</td>\n",
              "      <td>5점</td>\n",
              "    </tr>\n",
              "    <tr>\n",
              "      <th>13</th>\n",
              "      <td>13</td>\n",
              "      <td>카페노티드 청담</td>\n",
              "      <td>당 떨어질 때 꼭 가보세요.</td>\n",
              "      <td>5점</td>\n",
              "    </tr>\n",
              "    <tr>\n",
              "      <th>14</th>\n",
              "      <td>14</td>\n",
              "      <td>카페노티드 청담</td>\n",
              "      <td>최고예요</td>\n",
              "      <td>5점</td>\n",
              "    </tr>\n",
              "    <tr>\n",
              "      <th>15</th>\n",
              "      <td>15</td>\n",
              "      <td>카페노티드 청담</td>\n",
              "      <td>노티드는 사랑</td>\n",
              "      <td>4점</td>\n",
              "    </tr>\n",
              "    <tr>\n",
              "      <th>16</th>\n",
              "      <td>16</td>\n",
              "      <td>카페노티드 청담</td>\n",
              "      <td>줄 길었는데 맛은 걍 쏘쏘</td>\n",
              "      <td>4점</td>\n",
              "    </tr>\n",
              "    <tr>\n",
              "      <th>17</th>\n",
              "      <td>17</td>\n",
              "      <td>카페노티드 청담</td>\n",
              "      <td>최고예요</td>\n",
              "      <td>5점</td>\n",
              "    </tr>\n",
              "    <tr>\n",
              "      <th>20</th>\n",
              "      <td>20</td>\n",
              "      <td>카페노티드 청담</td>\n",
              "      <td>귀엽</td>\n",
              "      <td>5점</td>\n",
              "    </tr>\n",
              "    <tr>\n",
              "      <th>21</th>\n",
              "      <td>21</td>\n",
              "      <td>카페노티드 청담</td>\n",
              "      <td>ㅈㅁㅌ</td>\n",
              "      <td>4점</td>\n",
              "    </tr>\n",
              "    <tr>\n",
              "      <th>22</th>\n",
              "      <td>22</td>\n",
              "      <td>카페노티드 청담</td>\n",
              "      <td>커스터드크림 진해요. 명란빵은 별로. 빵 자체가 맛있지는 않음..</td>\n",
              "      <td>4점</td>\n",
              "    </tr>\n",
              "    <tr>\n",
              "      <th>24</th>\n",
              "      <td>24</td>\n",
              "      <td>카페노티드 청담</td>\n",
              "      <td>좀 더 맛있는 던킨도넛 이즈니버터도넛: 밍밍한데 묘하게 맛남 스마일케이크: 촉촉 부...</td>\n",
              "      <td>4점</td>\n",
              "    </tr>\n",
              "    <tr>\n",
              "      <th>26</th>\n",
              "      <td>26</td>\n",
              "      <td>카페노티드 청담</td>\n",
              "      <td>우유생크림짱 인테리어 이사가고나서 감성은 조금 떨어졌으나 좌석 많아져서 굿</td>\n",
              "      <td>5점</td>\n",
              "    </tr>\n",
              "    <tr>\n",
              "      <th>28</th>\n",
              "      <td>28</td>\n",
              "      <td>카페노티드 청담</td>\n",
              "      <td>좋아요</td>\n",
              "      <td>4점</td>\n",
              "    </tr>\n",
              "    <tr>\n",
              "      <th>29</th>\n",
              "      <td>29</td>\n",
              "      <td>카페노티드 청담</td>\n",
              "      <td>스마일스티커 귀여움, 도넛은  시장 꽈배기 맛</td>\n",
              "      <td>2점</td>\n",
              "    </tr>\n",
              "    <tr>\n",
              "      <th>30</th>\n",
              "      <td>30</td>\n",
              "      <td>카페노티드 청담</td>\n",
              "      <td>친구가 존맛이래서 먹어봤는데 맛있긴하네요</td>\n",
              "      <td>5점</td>\n",
              "    </tr>\n",
              "    <tr>\n",
              "      <th>31</th>\n",
              "      <td>31</td>\n",
              "      <td>카페노티드 청담</td>\n",
              "      <td>천원 더 내는 싱글 오리진 뜨아, 어떻게 이런 커피를, 주인도 아닌 알바분들에게 뭐...</td>\n",
              "      <td>1점</td>\n",
              "    </tr>\n",
              "    <tr>\n",
              "      <th>32</th>\n",
              "      <td>32</td>\n",
              "      <td>카페노티드 청담</td>\n",
              "      <td>기다려서 먹을정도는 아닙니다 서울숲쪽에서 파는 도넛이 더 맛있어요!</td>\n",
              "      <td>1점</td>\n",
              "    </tr>\n",
              "    <tr>\n",
              "      <th>33</th>\n",
              "      <td>33</td>\n",
              "      <td>카페노티드 청담</td>\n",
              "      <td>크로플만 드세요</td>\n",
              "      <td>4점</td>\n",
              "    </tr>\n",
              "    <tr>\n",
              "      <th>34</th>\n",
              "      <td>34</td>\n",
              "      <td>카페노티드 청담</td>\n",
              "      <td>기다려서 먹을 정도는 아니지만, 그래도 맛있음 아주</td>\n",
              "      <td>4점</td>\n",
              "    </tr>\n",
              "    <tr>\n",
              "      <th>36</th>\n",
              "      <td>36</td>\n",
              "      <td>카페노티드 청담</td>\n",
              "      <td>특별한게 없는줄알았는데 우유크림이 예술이다. 빵도 예술이다. 또먹고 싶다 ㅜ.ㅜ</td>\n",
              "      <td>5점</td>\n",
              "    </tr>\n",
              "    <tr>\n",
              "      <th>37</th>\n",
              "      <td>37</td>\n",
              "      <td>카페노티드 청담</td>\n",
              "      <td>너무 맛있는뎅 살찌기때문에 하나 깎았어여. ㅠㅠ</td>\n",
              "      <td>4점</td>\n",
              "    </tr>\n",
              "    <tr>\n",
              "      <th>38</th>\n",
              "      <td>38</td>\n",
              "      <td>카페노티드 청담</td>\n",
              "      <td>도너츠 맛이 좋아 유명하기보다..가게 컨셉이 좋아 유명한 곳이엇네요~ 안가보면 궁금...</td>\n",
              "      <td>2점</td>\n",
              "    </tr>\n",
              "  </tbody>\n",
              "</table>\n",
              "</div>"
            ],
            "text/plain": [
              "    Unnamed: 0         0                                                  1   2\n",
              "1            1  카페노티드 청담  계산해주는 직원도 불친절하고 크로플도 두개시켰는데 집에 와서 열어보니 한개만 줬네요...  1점\n",
              "2            2  카페노티드 청담                                                좋아요  4점\n",
              "3            3  카페노티드 청담                                               최고예요  5점\n",
              "5            5  카페노티드 청담                                               최고예요  5점\n",
              "6            6  카페노티드 청담        먹고싶었는데 많이 안달아서 진짜 더 좋았던거같아요 줄 정리도 빨라서 좋았습니다  5점\n",
              "7            7  카페노티드 청담                                               최고예요  5점\n",
              "8            8  카페노티드 청담                                       노티드 맛있어요 ㅠㅠㅍ  5점\n",
              "10          10  카페노티드 청담                                               최고예요  5점\n",
              "11          11  카페노티드 청담           느끼하지 않고 막 달지 않아서 난 맛있던뎅, 개취인듯. 커피도 무난함.   4점\n",
              "12          12  카페노티드 청담                                               최고예요  5점\n",
              "13          13  카페노티드 청담                                    당 떨어질 때 꼭 가보세요.  5점\n",
              "14          14  카페노티드 청담                                               최고예요  5점\n",
              "15          15  카페노티드 청담                                            노티드는 사랑  4점\n",
              "16          16  카페노티드 청담                                     줄 길었는데 맛은 걍 쏘쏘  4점\n",
              "17          17  카페노티드 청담                                               최고예요  5점\n",
              "20          20  카페노티드 청담                                                 귀엽  5점\n",
              "21          21  카페노티드 청담                                                ㅈㅁㅌ  4점\n",
              "22          22  카페노티드 청담               커스터드크림 진해요. 명란빵은 별로. 빵 자체가 맛있지는 않음..  4점\n",
              "24          24  카페노티드 청담  좀 더 맛있는 던킨도넛 이즈니버터도넛: 밍밍한데 묘하게 맛남 스마일케이크: 촉촉 부...  4점\n",
              "26          26  카페노티드 청담          우유생크림짱 인테리어 이사가고나서 감성은 조금 떨어졌으나 좌석 많아져서 굿  5점\n",
              "28          28  카페노티드 청담                                                좋아요  4점\n",
              "29          29  카페노티드 청담                          스마일스티커 귀여움, 도넛은  시장 꽈배기 맛  2점\n",
              "30          30  카페노티드 청담                             친구가 존맛이래서 먹어봤는데 맛있긴하네요  5점\n",
              "31          31  카페노티드 청담  천원 더 내는 싱글 오리진 뜨아, 어떻게 이런 커피를, 주인도 아닌 알바분들에게 뭐...  1점\n",
              "32          32  카페노티드 청담              기다려서 먹을정도는 아닙니다 서울숲쪽에서 파는 도넛이 더 맛있어요!  1점\n",
              "33          33  카페노티드 청담                                           크로플만 드세요  4점\n",
              "34          34  카페노티드 청담                       기다려서 먹을 정도는 아니지만, 그래도 맛있음 아주  4점\n",
              "36          36  카페노티드 청담       특별한게 없는줄알았는데 우유크림이 예술이다. 빵도 예술이다. 또먹고 싶다 ㅜ.ㅜ  5점\n",
              "37          37  카페노티드 청담                         너무 맛있는뎅 살찌기때문에 하나 깎았어여. ㅠㅠ  4점\n",
              "38          38  카페노티드 청담  도너츠 맛이 좋아 유명하기보다..가게 컨셉이 좋아 유명한 곳이엇네요~ 안가보면 궁금...  2점"
            ]
          },
          "metadata": {
            "tags": []
          },
          "execution_count": 21
        }
      ]
    },
    {
      "cell_type": "code",
      "metadata": {
        "colab": {
          "base_uri": "https://localhost:8080/"
        },
        "id": "FxxvOQieh-tS",
        "outputId": "0da854bc-beb3-4e4d-837d-b4eb1ae93118"
      },
      "source": [
        "from google.colab import drive\n",
        "drive.mount('/content/drive')"
      ],
      "execution_count": 3,
      "outputs": [
        {
          "output_type": "stream",
          "text": [
            "Mounted at /content/drive\n"
          ],
          "name": "stdout"
        }
      ]
    },
    {
      "cell_type": "code",
      "metadata": {
        "id": "hX-O8hriMaAv"
      },
      "source": [
        "import re\r\n",
        "\r\n",
        "punct = \"/-'?!.,#$%\\'()*+-/:;<=>@[\\\\]^_`{|}~\" + '\"\"“”’' + '∞θ÷α•à−β∅³π‘₹´°£€\\×™√²—–&' \r\n",
        "punct_mapping = {\"‘\": \"'\", \"₹\": \"e\", \"´\": \"'\", \"°\": \"\", \"€\": \"e\", \"™\": \"tm\", \"√\": \" sqrt \", \"×\": \"x\", \"²\": \"2\",\r\n",
        "                 \"—\": \"-\", \"–\": \"-\", \"’\": \"'\", \"_\": \"-\", \"`\": \"'\", '“': '\"', '”': '\"', '“': '\"', \"£\": \"e\", '∞': 'infinity', \r\n",
        "                 'θ': 'theta', '÷': '/', 'α': 'alpha', '•': '.', 'à': 'a', '−': '-', 'β': 'beta', '∅': '', '³': '3', 'π': 'pi'} \r\n",
        "\r\n",
        "def clean_punc(text, punct, mapping): \r\n",
        "  for p in mapping: \r\n",
        "    text = text.replace(p, mapping[p]) \r\n",
        "  for p in punct: \r\n",
        "    text = text.replace(p, f' {p} ') \r\n",
        "    specials = {'\\u200b': ' ', '…': ' ... ', '\\ufeff': '', 'करना': '', 'है': ''} \r\n",
        "  for s in specials: \r\n",
        "    text = text.replace(s, specials[s]) \r\n",
        "   \r\n",
        "  return text.strip() \r\n",
        "\r\n",
        "\r\n",
        "\r\n",
        "def clean_text(texts): \r\n",
        "  corpus = [] \r\n",
        "  for i in range(0, len(texts)): \r\n",
        "    review = re.sub(r'[@%\\\\*=()/~#&\\+á?\\xc3\\xa1\\-\\|\\.\\:\\;\\!\\-\\,\\_\\~\\$\\'\\\"]', '',str(texts[i])) #remove punctuation \r\n",
        "    review = re.sub(r'\\d+','', str(texts[i]))# remove number \r\n",
        "    review = review.lower() #lower case \r\n",
        "    review = re.sub(r'\\s+', ' ', review) #remove extra space \r\n",
        "    review = re.sub(r'<[^>]+>','',review) #remove Html tags \r\n",
        "    review = re.sub(r'\\s+', ' ', review) #remove spaces \r\n",
        "    review = re.sub(r\"^\\s+\", '', review) #remove space from start \r\n",
        "    review = re.sub(r'\\s+$', '', review) #remove space from the end \r\n",
        "    review = re.sub(r'♥','',review)\r\n",
        "    review = re.sub(r'~','',review)\r\n",
        "    review = re.sub(r'&','',review)\r\n",
        "    review = re.sub(r'😱','',review)\r\n",
        "    corpus.append(review) \r\n",
        "  return corpus\r\n",
        "\r\n",
        "\r\n",
        "\r\n",
        "# removing emoji\r\n",
        "\r\n",
        "def rmEmoji(text):\r\n",
        "  review = text.encode('utf-8', 'ignore').decode('utf-8')\r\n",
        "  return review\r\n",
        "\r\n",
        "def rmEmoji_ascii(inputString):\r\n",
        "  review = example.encode('ascii','ignore').decode('ascii')\r\n",
        "  return review\r\n"
      ],
      "execution_count": 5,
      "outputs": []
    },
    {
      "cell_type": "code",
      "metadata": {
        "colab": {
          "base_uri": "https://localhost:8080/"
        },
        "id": "H9xpurNkMm-j",
        "outputId": "f87af8e0-421e-4f61-d119-08ba9d330d8f"
      },
      "source": [
        "!pip install git+https://github.com/ssut/py-hanspell.git\r\n",
        "\r\n",
        "from hanspell import spell_checker\r\n",
        "def grammar_check(text):\r\n",
        "  spelled_sent = spell_checker.check(text)\r\n",
        "  hanspell_sent = spelled_sent.checked\r\n",
        "  return hanspell_sent\r\n",
        "\r\n"
      ],
      "execution_count": 6,
      "outputs": [
        {
          "output_type": "stream",
          "text": [
            "Collecting git+https://github.com/ssut/py-hanspell.git\n",
            "  Cloning https://github.com/ssut/py-hanspell.git to /tmp/pip-req-build-r6ju393e\n",
            "  Running command git clone -q https://github.com/ssut/py-hanspell.git /tmp/pip-req-build-r6ju393e\n",
            "Requirement already satisfied: requests in /usr/local/lib/python3.6/dist-packages (from py-hanspell==1.1) (2.23.0)\n",
            "Requirement already satisfied: chardet<4,>=3.0.2 in /usr/local/lib/python3.6/dist-packages (from requests->py-hanspell==1.1) (3.0.4)\n",
            "Requirement already satisfied: idna<3,>=2.5 in /usr/local/lib/python3.6/dist-packages (from requests->py-hanspell==1.1) (2.10)\n",
            "Requirement already satisfied: urllib3!=1.25.0,!=1.25.1,<1.26,>=1.21.1 in /usr/local/lib/python3.6/dist-packages (from requests->py-hanspell==1.1) (1.24.3)\n",
            "Requirement already satisfied: certifi>=2017.4.17 in /usr/local/lib/python3.6/dist-packages (from requests->py-hanspell==1.1) (2020.12.5)\n",
            "Building wheels for collected packages: py-hanspell\n",
            "  Building wheel for py-hanspell (setup.py) ... \u001b[?25l\u001b[?25hdone\n",
            "  Created wheel for py-hanspell: filename=py_hanspell-1.1-cp36-none-any.whl size=4854 sha256=58eb0b6e1b8fc929c6ec0606f74c147da5c4cb0e495132f04410f28aecd4ce86\n",
            "  Stored in directory: /tmp/pip-ephem-wheel-cache-uug9n_62/wheels/0a/25/d1/e5e96476dbb1c318cc26c992dd493394fe42b0c204b3e65588\n",
            "Successfully built py-hanspell\n",
            "Installing collected packages: py-hanspell\n",
            "Successfully installed py-hanspell-1.1\n"
          ],
          "name": "stdout"
        }
      ]
    },
    {
      "cell_type": "code",
      "metadata": {
        "id": "Ha9qjGkyNxZX"
      },
      "source": [
        "!pip install soynlp\r\n",
        "import urllib.request\r\n",
        "from soynlp import DoublespaceLineCorpus\r\n",
        "from soynlp.word import WordExtractor\r\n",
        "urllib.request.urlretrieve(\"https://raw.githubusercontent.com/lovit/soynlp/master/tutorials/2016-10-20.txt\", filename=\"2016-10-20.txt\")\r\n",
        "corpus = DoublespaceLineCorpus(\"2016-10-20.txt\")\r\n",
        "word_extractor = WordExtractor()\r\n",
        "word_extractor.train(corpus)\r\n",
        "word_score_table = word_extractor.extract()\r\n",
        "\r\n",
        "from soynlp.tokenizer import LTokenizer\r\n",
        "scores = {word:score.cohesion_forward for word, score in word_score_table.items()}\r\n",
        "l_tokenizer = LTokenizer(scores=scores)\r\n",
        "\r\n",
        "def tokenizing(text):\r\n",
        "  return l_tokenizer.tokenize(text, flatten=False)\r\n"
      ],
      "execution_count": null,
      "outputs": []
    },
    {
      "cell_type": "code",
      "metadata": {
        "colab": {
          "base_uri": "https://localhost:8080/",
          "height": 53
        },
        "id": "drnodLJTZmI4",
        "outputId": "efd6a0c7-70b5-4029-c215-998205be0a47"
      },
      "source": [
        "test_sample1 = data['1'][0]\r\n",
        "test_sample1"
      ],
      "execution_count": null,
      "outputs": [
        {
          "output_type": "execute_result",
          "data": {
            "application/vnd.google.colaboratory.intrinsic+json": {
              "type": "string"
            },
            "text/plain": [
              "'도넛 맛은 맛있음 대신 포장해서 갈거면 인내심 길러가야함 뭔가 포장하는 방식이 바뀌어야 할거같음'"
            ]
          },
          "metadata": {
            "tags": []
          },
          "execution_count": 27
        }
      ]
    },
    {
      "cell_type": "code",
      "metadata": {
        "colab": {
          "base_uri": "https://localhost:8080/",
          "height": 53
        },
        "id": "PKX2kJROamLZ",
        "outputId": "1d59af55-215b-4e19-81cb-0106eb917d49"
      },
      "source": [
        "test_sample2 = clean_punc(test_sample1, punct, punct_mapping)\r\n",
        "test_sample2"
      ],
      "execution_count": null,
      "outputs": [
        {
          "output_type": "execute_result",
          "data": {
            "application/vnd.google.colaboratory.intrinsic+json": {
              "type": "string"
            },
            "text/plain": [
              "'도넛 맛은 맛있음 대신 포장해서 갈거면 인내심 길러가야함 뭔가 포장하는 방식이 바뀌어야 할거같음'"
            ]
          },
          "metadata": {
            "tags": []
          },
          "execution_count": 28
        }
      ]
    },
    {
      "cell_type": "code",
      "metadata": {
        "colab": {
          "base_uri": "https://localhost:8080/",
          "height": 35
        },
        "id": "v6rDLcTTamHi",
        "outputId": "d71e38e1-531d-494c-8b8c-be2abd089b48"
      },
      "source": [
        "test_sample3 = ''.join(clean_text(test_sample2))\r\n",
        "test_sample3"
      ],
      "execution_count": null,
      "outputs": [
        {
          "output_type": "execute_result",
          "data": {
            "application/vnd.google.colaboratory.intrinsic+json": {
              "type": "string"
            },
            "text/plain": [
              "'도넛맛은맛있음대신포장해서갈거면인내심길러가야함뭔가포장하는방식이바뀌어야할거같음'"
            ]
          },
          "metadata": {
            "tags": []
          },
          "execution_count": 29
        }
      ]
    },
    {
      "cell_type": "code",
      "metadata": {
        "colab": {
          "base_uri": "https://localhost:8080/",
          "height": 1000
        },
        "id": "gefQ4fEqddai",
        "outputId": "f174150c-7e48-4e88-925d-2f13196c87c0"
      },
      "source": [
        "!pip install git+https://github.com/haven-jeon/PyKoSpacing.git\r\n",
        "\r\n",
        "from pykospacing import spacing\r\n"
      ],
      "execution_count": 9,
      "outputs": [
        {
          "output_type": "stream",
          "text": [
            "Collecting git+https://github.com/haven-jeon/PyKoSpacing.git\n",
            "  Cloning https://github.com/haven-jeon/PyKoSpacing.git to /tmp/pip-req-build-_961hm7w\n",
            "  Running command git clone -q https://github.com/haven-jeon/PyKoSpacing.git /tmp/pip-req-build-_961hm7w\n",
            "Collecting tensorflow==2.4.0\n",
            "\u001b[?25l  Downloading https://files.pythonhosted.org/packages/7a/ce/e76c4e3d2c245f4f20eff1bf9cbcc602109448142881e1f946ba2d7327bb/tensorflow-2.4.0-cp36-cp36m-manylinux2010_x86_64.whl (394.7MB)\n",
            "\u001b[K     |████████████████████████████████| 394.7MB 47kB/s \n",
            "\u001b[?25hRequirement already satisfied: keras>=2.4.3 in /usr/local/lib/python3.6/dist-packages (from pykospacing==0.4) (2.4.3)\n",
            "Requirement already satisfied: h5py==2.10.0 in /usr/local/lib/python3.6/dist-packages (from pykospacing==0.4) (2.10.0)\n",
            "Collecting argparse>=1.4.0\n",
            "  Downloading https://files.pythonhosted.org/packages/f2/94/3af39d34be01a24a6e65433d19e107099374224905f1e0cc6bbe1fd22a2f/argparse-1.4.0-py2.py3-none-any.whl\n",
            "Requirement already satisfied: flatbuffers~=1.12.0 in /usr/local/lib/python3.6/dist-packages (from tensorflow==2.4.0->pykospacing==0.4) (1.12)\n",
            "Requirement already satisfied: absl-py~=0.10 in /usr/local/lib/python3.6/dist-packages (from tensorflow==2.4.0->pykospacing==0.4) (0.10.0)\n",
            "Requirement already satisfied: six~=1.15.0 in /usr/local/lib/python3.6/dist-packages (from tensorflow==2.4.0->pykospacing==0.4) (1.15.0)\n",
            "Requirement already satisfied: google-pasta~=0.2 in /usr/local/lib/python3.6/dist-packages (from tensorflow==2.4.0->pykospacing==0.4) (0.2.0)\n",
            "Requirement already satisfied: grpcio~=1.32.0 in /usr/local/lib/python3.6/dist-packages (from tensorflow==2.4.0->pykospacing==0.4) (1.32.0)\n",
            "Requirement already satisfied: gast==0.3.3 in /usr/local/lib/python3.6/dist-packages (from tensorflow==2.4.0->pykospacing==0.4) (0.3.3)\n",
            "Requirement already satisfied: wrapt~=1.12.1 in /usr/local/lib/python3.6/dist-packages (from tensorflow==2.4.0->pykospacing==0.4) (1.12.1)\n",
            "Requirement already satisfied: opt-einsum~=3.3.0 in /usr/local/lib/python3.6/dist-packages (from tensorflow==2.4.0->pykospacing==0.4) (3.3.0)\n",
            "Requirement already satisfied: keras-preprocessing~=1.1.2 in /usr/local/lib/python3.6/dist-packages (from tensorflow==2.4.0->pykospacing==0.4) (1.1.2)\n",
            "Requirement already satisfied: protobuf>=3.9.2 in /usr/local/lib/python3.6/dist-packages (from tensorflow==2.4.0->pykospacing==0.4) (3.12.4)\n",
            "Requirement already satisfied: tensorflow-estimator<2.5.0,>=2.4.0rc0 in /usr/local/lib/python3.6/dist-packages (from tensorflow==2.4.0->pykospacing==0.4) (2.4.0)\n",
            "Requirement already satisfied: termcolor~=1.1.0 in /usr/local/lib/python3.6/dist-packages (from tensorflow==2.4.0->pykospacing==0.4) (1.1.0)\n",
            "Requirement already satisfied: tensorboard~=2.4 in /usr/local/lib/python3.6/dist-packages (from tensorflow==2.4.0->pykospacing==0.4) (2.4.1)\n",
            "Requirement already satisfied: typing-extensions~=3.7.4 in /usr/local/lib/python3.6/dist-packages (from tensorflow==2.4.0->pykospacing==0.4) (3.7.4.3)\n",
            "Requirement already satisfied: numpy~=1.19.2 in /usr/local/lib/python3.6/dist-packages (from tensorflow==2.4.0->pykospacing==0.4) (1.19.5)\n",
            "Requirement already satisfied: astunparse~=1.6.3 in /usr/local/lib/python3.6/dist-packages (from tensorflow==2.4.0->pykospacing==0.4) (1.6.3)\n",
            "Requirement already satisfied: wheel~=0.35 in /usr/local/lib/python3.6/dist-packages (from tensorflow==2.4.0->pykospacing==0.4) (0.36.2)\n",
            "Requirement already satisfied: scipy>=0.14 in /usr/local/lib/python3.6/dist-packages (from keras>=2.4.3->pykospacing==0.4) (1.4.1)\n",
            "Requirement already satisfied: pyyaml in /usr/local/lib/python3.6/dist-packages (from keras>=2.4.3->pykospacing==0.4) (3.13)\n",
            "Requirement already satisfied: setuptools in /usr/local/lib/python3.6/dist-packages (from protobuf>=3.9.2->tensorflow==2.4.0->pykospacing==0.4) (53.0.0)\n",
            "Requirement already satisfied: requests<3,>=2.21.0 in /usr/local/lib/python3.6/dist-packages (from tensorboard~=2.4->tensorflow==2.4.0->pykospacing==0.4) (2.23.0)\n",
            "Requirement already satisfied: google-auth-oauthlib<0.5,>=0.4.1 in /usr/local/lib/python3.6/dist-packages (from tensorboard~=2.4->tensorflow==2.4.0->pykospacing==0.4) (0.4.2)\n",
            "Requirement already satisfied: markdown>=2.6.8 in /usr/local/lib/python3.6/dist-packages (from tensorboard~=2.4->tensorflow==2.4.0->pykospacing==0.4) (3.3.3)\n",
            "Requirement already satisfied: tensorboard-plugin-wit>=1.6.0 in /usr/local/lib/python3.6/dist-packages (from tensorboard~=2.4->tensorflow==2.4.0->pykospacing==0.4) (1.8.0)\n",
            "Requirement already satisfied: werkzeug>=0.11.15 in /usr/local/lib/python3.6/dist-packages (from tensorboard~=2.4->tensorflow==2.4.0->pykospacing==0.4) (1.0.1)\n",
            "Requirement already satisfied: google-auth<2,>=1.6.3 in /usr/local/lib/python3.6/dist-packages (from tensorboard~=2.4->tensorflow==2.4.0->pykospacing==0.4) (1.25.0)\n",
            "Requirement already satisfied: chardet<4,>=3.0.2 in /usr/local/lib/python3.6/dist-packages (from requests<3,>=2.21.0->tensorboard~=2.4->tensorflow==2.4.0->pykospacing==0.4) (3.0.4)\n",
            "Requirement already satisfied: urllib3!=1.25.0,!=1.25.1,<1.26,>=1.21.1 in /usr/local/lib/python3.6/dist-packages (from requests<3,>=2.21.0->tensorboard~=2.4->tensorflow==2.4.0->pykospacing==0.4) (1.24.3)\n",
            "Requirement already satisfied: certifi>=2017.4.17 in /usr/local/lib/python3.6/dist-packages (from requests<3,>=2.21.0->tensorboard~=2.4->tensorflow==2.4.0->pykospacing==0.4) (2020.12.5)\n",
            "Requirement already satisfied: idna<3,>=2.5 in /usr/local/lib/python3.6/dist-packages (from requests<3,>=2.21.0->tensorboard~=2.4->tensorflow==2.4.0->pykospacing==0.4) (2.10)\n",
            "Requirement already satisfied: requests-oauthlib>=0.7.0 in /usr/local/lib/python3.6/dist-packages (from google-auth-oauthlib<0.5,>=0.4.1->tensorboard~=2.4->tensorflow==2.4.0->pykospacing==0.4) (1.3.0)\n",
            "Requirement already satisfied: importlib-metadata; python_version < \"3.8\" in /usr/local/lib/python3.6/dist-packages (from markdown>=2.6.8->tensorboard~=2.4->tensorflow==2.4.0->pykospacing==0.4) (3.4.0)\n",
            "Requirement already satisfied: cachetools<5.0,>=2.0.0 in /usr/local/lib/python3.6/dist-packages (from google-auth<2,>=1.6.3->tensorboard~=2.4->tensorflow==2.4.0->pykospacing==0.4) (4.2.1)\n",
            "Requirement already satisfied: rsa<5,>=3.1.4; python_version >= \"3.6\" in /usr/local/lib/python3.6/dist-packages (from google-auth<2,>=1.6.3->tensorboard~=2.4->tensorflow==2.4.0->pykospacing==0.4) (4.7)\n",
            "Requirement already satisfied: pyasn1-modules>=0.2.1 in /usr/local/lib/python3.6/dist-packages (from google-auth<2,>=1.6.3->tensorboard~=2.4->tensorflow==2.4.0->pykospacing==0.4) (0.2.8)\n",
            "Requirement already satisfied: oauthlib>=3.0.0 in /usr/local/lib/python3.6/dist-packages (from requests-oauthlib>=0.7.0->google-auth-oauthlib<0.5,>=0.4.1->tensorboard~=2.4->tensorflow==2.4.0->pykospacing==0.4) (3.1.0)\n",
            "Requirement already satisfied: zipp>=0.5 in /usr/local/lib/python3.6/dist-packages (from importlib-metadata; python_version < \"3.8\"->markdown>=2.6.8->tensorboard~=2.4->tensorflow==2.4.0->pykospacing==0.4) (3.4.0)\n",
            "Requirement already satisfied: pyasn1>=0.1.3 in /usr/local/lib/python3.6/dist-packages (from rsa<5,>=3.1.4; python_version >= \"3.6\"->google-auth<2,>=1.6.3->tensorboard~=2.4->tensorflow==2.4.0->pykospacing==0.4) (0.4.8)\n",
            "Building wheels for collected packages: pykospacing\n",
            "  Building wheel for pykospacing (setup.py) ... \u001b[?25l\u001b[?25hdone\n",
            "  Created wheel for pykospacing: filename=pykospacing-0.4-cp36-none-any.whl size=2255638 sha256=063a6a7ca7bbfade88124aaa7f67ecb8b89e13b7582efa3cbf6a4e8b4dae19f4\n",
            "  Stored in directory: /tmp/pip-ephem-wheel-cache-3s2f541c/wheels/4d/45/58/e26cb2b7f6a063d234158c6fd1e5700f6e15b99d67154340ba\n",
            "Successfully built pykospacing\n",
            "Installing collected packages: tensorflow, argparse, pykospacing\n",
            "  Found existing installation: tensorflow 2.4.1\n",
            "    Uninstalling tensorflow-2.4.1:\n",
            "      Successfully uninstalled tensorflow-2.4.1\n",
            "Successfully installed argparse-1.4.0 pykospacing-0.4 tensorflow-2.4.0\n"
          ],
          "name": "stdout"
        },
        {
          "output_type": "display_data",
          "data": {
            "application/vnd.colab-display-data+json": {
              "pip_warning": {
                "packages": [
                  "argparse"
                ]
              }
            }
          },
          "metadata": {
            "tags": []
          }
        }
      ]
    },
    {
      "cell_type": "code",
      "metadata": {
        "colab": {
          "base_uri": "https://localhost:8080/"
        },
        "id": "xahiZmvrfjIl",
        "outputId": "ff160933-f847-4b52-9aa5-cd7286d337ca"
      },
      "source": [
        "import nltk\r\n",
        "from nltk.corpus import stopwords \r\n",
        "from nltk.tokenize import word_tokenize \r\n",
        "# NLTK Data 다운\r\n",
        "nltk.download('punkt')\r\n",
        "nltk.download('wordnet')\r\n",
        "nltk.download('stopwords')\r\n",
        "\r\n",
        "stop_words = open('/content/drive/MyDrive/신입프로젝트/korean_stopwords.txt').read()\r\n",
        "\r\n",
        "\r\n",
        "# 위의 불용어는 명사가 아닌 단어 중에서 저자가 임의로 선정한 것으로 실제 의미있는 선정 기준이 아님\r\n",
        "stop_words=stop_words.split('\\n')"
      ],
      "execution_count": 8,
      "outputs": [
        {
          "output_type": "stream",
          "text": [
            "[nltk_data] Downloading package punkt to /root/nltk_data...\n",
            "[nltk_data]   Unzipping tokenizers/punkt.zip.\n",
            "[nltk_data] Downloading package wordnet to /root/nltk_data...\n",
            "[nltk_data]   Unzipping corpora/wordnet.zip.\n",
            "[nltk_data] Downloading package stopwords to /root/nltk_data...\n",
            "[nltk_data]   Unzipping corpora/stopwords.zip.\n"
          ],
          "name": "stdout"
        }
      ]
    },
    {
      "cell_type": "code",
      "metadata": {
        "id": "sr_xayGHOx0q"
      },
      "source": [
        "# normalizer는 아직 미완\r\n",
        "from soynlp.normalizer import *\r\n"
      ],
      "execution_count": null,
      "outputs": []
    },
    {
      "cell_type": "code",
      "metadata": {
        "colab": {
          "base_uri": "https://localhost:8080/"
        },
        "id": "YZPcf4a5O8IC",
        "outputId": "5a9f0dd9-e479-4f7d-ec11-ca46caaf02b3"
      },
      "source": [
        "!pip install konlpy \r\n",
        "from konlpy.tag import Okt\r\n",
        "okt = Okt()\r\n",
        "\r\n",
        "def tokenize_tagged(text):\r\n",
        "  #형태소와 품사를 join\r\n",
        "\r\n",
        "  temp_X = okt.pos(text, norm=True, stem=True) # 토큰화\r\n",
        "  temp_X = [word for word in temp_X if not word in stop_words] # 불용어 제거\r\n",
        "  return ['/'.join(t) for t in temp_X]\r\n",
        "  \r\n",
        "  #return ['/'.join(t) for t in okt.pos(text, norm=True, stem=True)]"
      ],
      "execution_count": 7,
      "outputs": [
        {
          "output_type": "stream",
          "text": [
            "Collecting konlpy\n",
            "\u001b[?25l  Downloading https://files.pythonhosted.org/packages/85/0e/f385566fec837c0b83f216b2da65db9997b35dd675e107752005b7d392b1/konlpy-0.5.2-py2.py3-none-any.whl (19.4MB)\n",
            "\u001b[K     |████████████████████████████████| 19.4MB 1.3MB/s \n",
            "\u001b[?25hCollecting beautifulsoup4==4.6.0\n",
            "\u001b[?25l  Downloading https://files.pythonhosted.org/packages/9e/d4/10f46e5cfac773e22707237bfcd51bbffeaf0a576b0a847ec7ab15bd7ace/beautifulsoup4-4.6.0-py3-none-any.whl (86kB)\n",
            "\u001b[K     |████████████████████████████████| 92kB 6.3MB/s \n",
            "\u001b[?25hRequirement already satisfied: numpy>=1.6 in /usr/local/lib/python3.6/dist-packages (from konlpy) (1.19.5)\n",
            "Collecting JPype1>=0.7.0\n",
            "\u001b[?25l  Downloading https://files.pythonhosted.org/packages/de/af/93f92b38ec1ff3091cd38982ed19cea2800fefb609b5801c41fc43c0781e/JPype1-1.2.1-cp36-cp36m-manylinux2010_x86_64.whl (457kB)\n",
            "\u001b[K     |████████████████████████████████| 460kB 32.8MB/s \n",
            "\u001b[?25hRequirement already satisfied: lxml>=4.1.0 in /usr/local/lib/python3.6/dist-packages (from konlpy) (4.2.6)\n",
            "Collecting tweepy>=3.7.0\n",
            "  Downloading https://files.pythonhosted.org/packages/67/c3/6bed87f3b1e5ed2f34bd58bf7978e308c86e255193916be76e5a5ce5dfca/tweepy-3.10.0-py2.py3-none-any.whl\n",
            "Collecting colorama\n",
            "  Downloading https://files.pythonhosted.org/packages/44/98/5b86278fbbf250d239ae0ecb724f8572af1c91f4a11edf4d36a206189440/colorama-0.4.4-py2.py3-none-any.whl\n",
            "Requirement already satisfied: typing-extensions; python_version < \"3.8\" in /usr/local/lib/python3.6/dist-packages (from JPype1>=0.7.0->konlpy) (3.7.4.3)\n",
            "Requirement already satisfied: six>=1.10.0 in /usr/local/lib/python3.6/dist-packages (from tweepy>=3.7.0->konlpy) (1.15.0)\n",
            "Requirement already satisfied: requests[socks]>=2.11.1 in /usr/local/lib/python3.6/dist-packages (from tweepy>=3.7.0->konlpy) (2.23.0)\n",
            "Requirement already satisfied: requests-oauthlib>=0.7.0 in /usr/local/lib/python3.6/dist-packages (from tweepy>=3.7.0->konlpy) (1.3.0)\n",
            "Requirement already satisfied: urllib3!=1.25.0,!=1.25.1,<1.26,>=1.21.1 in /usr/local/lib/python3.6/dist-packages (from requests[socks]>=2.11.1->tweepy>=3.7.0->konlpy) (1.24.3)\n",
            "Requirement already satisfied: chardet<4,>=3.0.2 in /usr/local/lib/python3.6/dist-packages (from requests[socks]>=2.11.1->tweepy>=3.7.0->konlpy) (3.0.4)\n",
            "Requirement already satisfied: idna<3,>=2.5 in /usr/local/lib/python3.6/dist-packages (from requests[socks]>=2.11.1->tweepy>=3.7.0->konlpy) (2.10)\n",
            "Requirement already satisfied: certifi>=2017.4.17 in /usr/local/lib/python3.6/dist-packages (from requests[socks]>=2.11.1->tweepy>=3.7.0->konlpy) (2020.12.5)\n",
            "Requirement already satisfied: PySocks!=1.5.7,>=1.5.6; extra == \"socks\" in /usr/local/lib/python3.6/dist-packages (from requests[socks]>=2.11.1->tweepy>=3.7.0->konlpy) (1.7.1)\n",
            "Requirement already satisfied: oauthlib>=3.0.0 in /usr/local/lib/python3.6/dist-packages (from requests-oauthlib>=0.7.0->tweepy>=3.7.0->konlpy) (3.1.0)\n",
            "Installing collected packages: beautifulsoup4, JPype1, tweepy, colorama, konlpy\n",
            "  Found existing installation: beautifulsoup4 4.6.3\n",
            "    Uninstalling beautifulsoup4-4.6.3:\n",
            "      Successfully uninstalled beautifulsoup4-4.6.3\n",
            "  Found existing installation: tweepy 3.6.0\n",
            "    Uninstalling tweepy-3.6.0:\n",
            "      Successfully uninstalled tweepy-3.6.0\n",
            "Successfully installed JPype1-1.2.1 beautifulsoup4-4.6.0 colorama-0.4.4 konlpy-0.5.2 tweepy-3.10.0\n"
          ],
          "name": "stdout"
        }
      ]
    },
    {
      "cell_type": "code",
      "metadata": {
        "colab": {
          "base_uri": "https://localhost:8080/"
        },
        "id": "HPa-yQZ0hHUc",
        "outputId": "eaf3e037-82b1-41c9-9020-5b440d3fd573"
      },
      "source": [
        "# stemming\r\n",
        "!pip install soylemma==0.2.0\r\n",
        "from soylemma import Lemmatizer\r\n",
        "\r\n",
        "lemmatizer = Lemmatizer()\r\n",
        "\r\n",
        "# or\r\n",
        "lemmatizer = Lemmatizer(dictionary_name='default')\r\n",
        "\r\n",
        "text = '달렸는데'\r\n",
        "print(lemmatizer.lemmatize(text))"
      ],
      "execution_count": null,
      "outputs": [
        {
          "output_type": "stream",
          "text": [
            "Collecting soylemma==0.2.0\n",
            "\u001b[?25l  Downloading https://files.pythonhosted.org/packages/03/f5/d612c52b363a1e04b2df6dbde86bedd84035ba3d07651c586dcfdac50b53/soylemma-0.2.0-py3-none-any.whl (124kB)\n",
            "\r\u001b[K     |██▋                             | 10kB 17.5MB/s eta 0:00:01\r\u001b[K     |█████▎                          | 20kB 22.0MB/s eta 0:00:01\r\u001b[K     |████████                        | 30kB 10.9MB/s eta 0:00:01\r\u001b[K     |██████████▋                     | 40kB 8.7MB/s eta 0:00:01\r\u001b[K     |█████████████▏                  | 51kB 7.1MB/s eta 0:00:01\r\u001b[K     |███████████████▉                | 61kB 6.9MB/s eta 0:00:01\r\u001b[K     |██████████████████▌             | 71kB 7.2MB/s eta 0:00:01\r\u001b[K     |█████████████████████▏          | 81kB 8.0MB/s eta 0:00:01\r\u001b[K     |███████████████████████▊        | 92kB 7.8MB/s eta 0:00:01\r\u001b[K     |██████████████████████████▍     | 102kB 8.1MB/s eta 0:00:01\r\u001b[K     |█████████████████████████████   | 112kB 8.1MB/s eta 0:00:01\r\u001b[K     |███████████████████████████████▊| 122kB 8.1MB/s eta 0:00:01\r\u001b[K     |████████████████████████████████| 133kB 8.1MB/s \n",
            "\u001b[?25hInstalling collected packages: soylemma\n",
            "Successfully installed soylemma-0.2.0\n",
            "[('달리다', 'Verb')]\n"
          ],
          "name": "stdout"
        }
      ]
    },
    {
      "cell_type": "code",
      "metadata": {
        "colab": {
          "base_uri": "https://localhost:8080/",
          "height": 1000
        },
        "id": "KomjWlTjQCtt",
        "outputId": "ede3755a-1809-4aad-92ce-d70a7c6ecd19"
      },
      "source": [
        "#main()\r\n",
        "import regex as re\r\n",
        "token_list = []\r\n",
        "i = 0\r\n",
        "for text in data['1']:\r\n",
        "  i += 1\r\n",
        "  #print(str(i) + '번째 리뷰!')\r\n",
        "  text1 = clean_punc(text, punct, punct_mapping)\r\n",
        "  text2 = ''.join(clean_text(text1))\r\n",
        "  text3 = spacing(text2)\r\n",
        "  text4 = grammar_check(text3)\r\n",
        " #text5 = tokenizing(text4)\r\n",
        "  text_ = tokenize_tagged(text4)\r\n",
        "  regex = re.compile('Josa$')\r\n",
        "  text_nj = []\r\n",
        "  for item in text_:\r\n",
        "    mo = regex.search(item)\r\n",
        "    if mo == None:\r\n",
        "      text_nj.append(item)\r\n",
        "  print(text_nj)\r\n",
        "  token_list.append(text_nj)\r\n",
        "\r\n",
        "\r\n",
        "#token_list 반환"
      ],
      "execution_count": 17,
      "outputs": [
        {
          "output_type": "stream",
          "text": [
            "['도넛/Noun', '맛/Noun', '맛있다/Adjective', '대신/Noun', '포장/Noun', '하다/Verb', '갈다/Verb', '거/Noun', '인내심/Noun', '기르다/Verb', '가야/Noun', '함/Noun', '뭔가/Noun', '포장/Noun', '하다/Verb', '방식/Noun', '바뀌다/Verb', '하다/Verb', '거/Noun', '같다/Adjective']\n",
            "['계산/Noun', '해주다/Verb', '직원/Noun', '불친절하다/Adjective', '크다/Verb', '프로도/Noun', '두/Noun', '개시/Noun', '켜다/Verb', '집/Noun', '오다/Verb', '열/Modifier', '어보/Noun', '하다/Verb', '개/Noun', '주다/Verb', '...../Punctuation', '다시다/Verb', '안/Noun', '갈다/Verb', '예정/Noun', '이다/Adjective', '../Punctuation']\n",
            "['좋다/Adjective']\n",
            "['최고/Noun']\n",
            "['빵/Noun', '들/Suffix', '더/Noun', '맛있다/Adjective', '저렴하다/Adjective', '데/Noun', '매장/Noun', '분위기/Noun', '좋다/Adjective', '직원/Noun', '들/Suffix', '끼리/Noun', '좀/Noun', '소통/Noun', '안/Noun', '되다/Verb', '느낌/Noun', '아쉽다/Adjective', '계산/Noun', '하다/Verb', '때/Noun', '빵/Noun', '어디서/Adverb', '받다/Verb', '케이크/Noun', '어디서/Adverb', '받다/Verb', '미리/Noun', '말씀/Noun', '해주다/Verb', '../Punctuation']\n",
            "['최고/Noun']\n",
            "['먹다/Verb', '싶다/Verb', '많이/Adverb', '안/Noun', '달다/Verb', '진짜/Noun', '더/Noun', '좋다/Adjective', '거/Noun', '같다/Adjective', '줄/Noun', '정리/Noun', '빨/Noun', '좋다/Adjective']\n",
            "['최고/Noun']\n",
            "['노/Noun', '티스/Noun', '맛있다/Adjective', 'ㅠㅠㅍ/KoreanParticle']\n",
            "['아쉽다/Adjective', 'ㅠㅠ/KoreanParticle', '처음/Noun', '노/Noun', '티스/Noun', '알/Noun', '되다/Verb', '먹다/Verb', '때/Noun', '설레다/Adjective', '감동/Noun', '어느/Adverb', '순간/Noun', '안/Noun', '느껴지다/Verb', './Punctuation', '하다/Verb', '입/Noun', '베다/Verb', '물/Noun', '눈/Noun', '뜨이다/Verb', '오다/Verb', '진짜/Noun', '빵/Noun', '이렇게/Adverb', '다르다/Adjective', '수/Noun', '있다/Adjective', '하다/Verb', '그땐/Noun', '돈/Noun', '없다/Adjective', '한두/Modifier', '개/Noun', '못/Noun', '먹다/Verb', '지금/Noun', '많이/Adverb', '살/Noun', '수/Noun', '있다/Adjective', '감동/Noun', '맛/Noun', '없다/Adjective', 'ㅜㅜ/KoreanParticle', '그렇게/Adverb', '되다/Verb', '지다/Verb', '몇/Noun', '번/Noun', '돼다/Verb', '혹시/Noun', '혹시/Noun', '하다/Verb', '기/Modifier', '대감/Noun', ',/Punctuation', '처음/Noun', '그/Noun', '맛/Noun', '잊다/Verb', '수가/Noun', '없다/Adjective', '또/Noun', '사/Noun', '먹다/Verb', '.../Punctuation']\n",
            "['최고/Noun']\n",
            "['느끼하다/Adjective', '않다/Verb', '막/Noun', '달리/Noun', '않다/Verb', '난/Noun', '맛있다/Adjective', '뎅/Noun', ',/Punctuation', '개취/Noun', '듯/Noun', './Punctuation', '커피/Noun', '무난/Noun', '함/Noun', './Punctuation']\n",
            "['최고/Noun']\n",
            "['당/Noun', '떨어지다/Verb', '때/Noun', '꼭/Noun', '가보다/Verb', './Punctuation']\n",
            "['최고/Noun']\n",
            "['노티/Noun', '들다/Verb', '사랑/Noun']\n",
            "['줄/Noun', '길다/Adjective', '맛/Noun', '걍/Adverb', '쏘다/Verb', '쏘다/Verb']\n",
            "['최고/Noun']\n",
            "['낮/Noun', '사서/Noun', '바로/Noun', '먹다/Verb', '때/Noun', '맛/Noun', '나다/Verb', '저녁/Noun', '먹다/Verb', '빵/Noun', '딱딱하다/Adjective', '감흥/Noun', '없다/Adjective', '그리고/Conjunction', '카야/Noun', './Punctuation', '앙/Adverb', '버터/Noun', '벼로/Noun', '이다/Adjective', '디다/Noun', './Punctuation', '비추다/Verb', '!/Punctuation']\n",
            "['맛있다/Adjective', '줄/Noun', '엄청/Adverb', '길/Noun', '어짐/Noun', '음료/Noun', '그다지/Noun']\n",
            "['귀엽다/Adjective']\n",
            "['ㅈㅁㅌ/KoreanParticle']\n",
            "['커스터드/Noun', '크림/Noun', '진해/Noun', './Punctuation', '명란/Noun', '빵/Noun', '별로/Noun', './Punctuation', '빵/Noun', '자체/Noun', '맛있다/Adjective', '않다/Verb', '../Punctuation']\n",
            "['맛있다/Adjective', '던킨/Noun', '도넛/Noun', '딱/Adverb', '그/Noun', '말/Noun', '맞다/Verb']\n",
            "['좀/Noun', '더/Noun', '맛있다/Adjective', '던킨/Noun', '도넛/Noun', '이즈/Noun', '버터/Noun', '도넛/Noun', ':/Punctuation', '밍밍/Noun', '한/Determiner', '데/Noun', '묘/Noun', '하다/Verb', '맛/Noun', '남/Noun', '스마일/Noun', '케이크/Noun', ':/Punctuation', '촉촉/Noun', '부드럽다/Adjective', '맛/Noun', '남/Noun', '토요일/Noun', '시/Noun', '기준/Noun', ',/Punctuation', '분/Noun', '상/Noun', '대기/Noun']\n",
            "['맛있다/Adjective', '한데/Eomi', '단/Noun', '건/Noun', '너무/Adverb', '담/Noun', '사람/Noun', '조오오/Noun', '올라가다/Verb', '많다/Adjective']\n",
            "['우유/Noun', '생크림/Noun', '짱/Suffix', '인테리어/Noun', '이사/Noun', '고/Noun', '나선/Noun', '감성/Noun', '조금/Noun', '떨어지다/Verb', '좌석/Noun', '많아지다/Verb', '굿/Noun']\n",
            "['궁금하다/Adjective', '하다/Verb', '번/Noun', '쯤/Suffix', '먹다/Verb', '볼/Noun', '만/Noun', 'ㅎㅎ/KoreanParticle']\n",
            "['좋다/Adjective']\n",
            "['스마일/Noun', '스티커/Noun', '귀/Modifier', '여/Modifier', '움/Noun', ',/Punctuation', '도넛/Noun', '시장/Noun', '꽈배기/Noun', '맛/Noun']\n",
            "['친구/Noun', '존/Noun', '맛/Noun', '먹다/Verb', '보다/Verb', '맛있다/Adjective', '하다/Verb']\n",
            "['천/Noun', '원/Noun', '더/Noun', '내다/Verb', '싱글/Noun', '오리진/Noun', '뜨다/Verb', ',/Punctuation', '어떻다/Adjective', '이렇다/Adjective', '커피/Noun', ',/Punctuation', '주인/Noun', '아니다/Adjective', '알바/Noun', '분/Noun', '들/Suffix', '뭐라다/Verb', '하다/Verb', '수도/Noun', '없다/Adjective', '.../Punctuation', '도넛/Noun', '사악하다/Adjective', '가격/Noun', '생각/Noun', '하다/Verb', '..../Punctuation', '기대/Noun', '이하/Noun', './Punctuation', '정말/Noun', '맛없다/Adjective', '기도/Noun', '힘드다/Adjective', '커피/Noun', '이따위/Modifier', '로/Noun', '내놓다/Verb', '태도/Noun', '리뷰/Noun', '남기다/Verb']\n",
            "['기다리다/Verb', '먹다/Verb', '정도/Noun', '아니다/Adjective', '서울숲/Noun', '쪽/Noun', '팔다/Verb', '도넛/Noun', '더/Noun', '맛있다/Adjective', '!/Punctuation']\n",
            "['크다/Verb', '플/Exclamation', '만들다/Verb']\n",
            "['기다리다/Verb', '먹다/Verb', '정도/Noun', '아니다/Adjective', ',/Punctuation', '그래도/Adverb', '맛있다/Adjective', '아주/Noun']\n",
            "['보통/Noun']\n",
            "['특별하다/Adjective', '게/Noun', '없다/Adjective', '줄/Noun', '알다/Verb', '우유/Noun', '크림/Noun', '예술/Noun', './Punctuation', '빵/Noun', '예술/Noun', './Punctuation', '또/Noun', '먹다/Verb', '싶다/Verb', 'ㅜ/KoreanParticle', './Punctuation', 'ㅜ/KoreanParticle']\n",
            "['너무/Adverb', '맛있다/Adjective', '둥/Noun', '살/Noun', '찌다/Verb', '때문/Noun', '하나/Noun', '깎다/Verb', '여/Noun', './Punctuation', 'ㅠㅠ/KoreanParticle']\n",
            "['도넛/Noun', '맛/Noun', '좋다/Adjective', '유명하다/Adjective', '../Punctuation', '가게/Noun', '콘셉트/Noun', '좋다/Adjective', '유명하다/Adjective', '곳/Noun', '엇네/Noun', '안/Noun', '가보다/Verb', '궁금하다/Adjective', '테/Noun', '../Punctuation', '하다/Verb', '번/Noun', '방문/Noun', '하다/Verb', '볼/Noun', '만/Noun', '가게/Noun', '이다/Adjective']\n",
            "['생크림/Noun', '드/Noun', '세요/Eomi', '맛있다/Adjective', '!/Punctuation']\n",
            "['그렇게/Adverb', '맛있다/Adjective', '느낌/Noun', '안/Noun', '들다/Verb', '../Punctuation', '알쏭달쏭하다/Adjective', '다음/Noun', '다시/Noun', '사/Noun', '먹다/Verb', '보다/Verb', '!/Punctuation', '포장/Noun', '해오다/Verb', '가족/Noun', '들/Suffix', '같이/Adverb', '자다/Verb', '먹다/Verb']\n",
            "['플랫/Noun', '화이트/Noun', '시키다/Verb', '라테/Noun', '옴/Noun', '○○○/Foreign']\n",
            "['맛/Noun', '없다/Adjective', '건/Noun', '아니다/Adjective', '그냥/Noun', '일반/Noun', '꽈배기/Noun', '크림/Noun', '있다/Adjective', '맛/Noun', '..../Punctuation']\n",
            "['도넛/Noun', '보통/Noun', '이요/Noun', './Punctuation', '커피/Noun', '맛있다/Adjective', './Punctuation', '층/Noun', '날/Noun', '파리/Noun', '많다/Adjective', '불편하다/Adjective', './Punctuation', '주문/Noun', '하다/Verb', '곳/Noun', '두/Noun', '곳/Noun', '영어/Noun', '필기체/Noun', '알아보다/Verb', '힘들다/Adjective', '한참/Noun', '기다리다/Verb', '다른/Noun', '줄/Noun', '가라/Noun', '안내받다/Verb', './Punctuation']\n",
            "['상담/Noun', '받다/Verb', '사/Noun', '먹다/Verb', '맛있다/Adjective', '!/Punctuation', '자꾸/Noun', '생각나다/Verb', '맛/Noun']\n",
            "['하다/Verb', '번/Noun', '쯤/Suffix', '가보다/Verb', '만/Noun', '카페/Noun', '!/Punctuation', '작/Noun', '야외/Noun', '석도/Noun', '있다/Adjective', '좋다/Adjective']\n",
            "['포장/Noun', '하다/Verb', '이렇게/Adverb', '이쁘다/Adjective', '박스/Noun', '담기다/Verb', '나오다/Verb', '요/Noun', '레몬/Noun', '슈거/Noun', '도넛/Noun', '추천/Noun', '하다/Verb', './Punctuation']\n",
            "['밑/Noun', '별개/Noun', '적당하다/Adjective', '댓글/Noun', '정말/Noun', '인정/Noun', './Punctuation', '마케팅/Noun', '의하다/Adjective', '살짝/Noun', '포장/Noun', '되다/Verb', '베이커리/Noun', '../Punctuation', '맛/Noun', '있다/Adjective', '줄/Noun', '서서/Noun', '먹다/Verb', '정도/Noun', '아니다/Adjective', '.../Punctuation', '그냥/Noun', '이다/Verb', '-/Punctuation', '개/Noun', '사서/Noun', '먹다/Verb', '딱/Adverb', '깔끔하다/Adjective', '맛있다/Adjective', '먹다/Verb', '듯/Noun', './Punctuation', '그/Noun', '이상/Noun', '먹다/Verb', '../Punctuation', '느끼다/Verb', '+/Punctuation', '질리다/Verb', './Punctuation']\n",
            "['좋다/Adjective']\n",
            "['주문/Noun', '하다/Verb', '때/Noun', '줄이다/Verb', '두/Noun', '개/Noun', '헷갈리다/Adjective', './Punctuation', '또/Noun', '도넛/Noun', '종류/Noun', '들/Suffix', '적히다/Verb', '메뉴판/Noun', '하나/Noun', '있다/Adjective', '좋다/Adjective', './Punctuation']\n",
            "['맛있다/Adjective', '!!!!!!!/Punctuation', '집/Noun', '오다/Verb', '때/Noun', '또/Noun', '포장/Noun', '해오다/Verb']\n",
            "['넓다/Adjective', '데/Noun', '이사해/Noun', '자리/Noun', '훨씬/Adverb', '넓다/Adjective', '웨이팅/Noun', '거의/Noun', '없다/Adjective', '좋다/Adjective', '!/Punctuation', '도넛/Noun', '맛있다/Adjective']\n",
            "['쏘다/Verb', '쏘이다/Verb']\n",
            "['도넛/Noun', '맛있다/Adjective', '근데/Adverb', '여러/Noun', '가지/Noun', '도넛/Noun', '시키다/Verb', '하다/Verb', '초코/Noun', '시키다/Verb', '라즈베리/Noun', '나오다/Verb', '나누다/Verb', '먹다/Verb', '칼/Noun', '자르다/Verb', '나서다/Verb', '확인/Noun', '하다/Verb', '그냥/Noun', '먹다/Verb', '하다/Verb', 'ㅋㅋ/KoreanParticle', '엥/Exclamation', '.../Punctuation', '확인/Noun', '좀/Noun', '.../Punctuation']\n",
            "['오픈/Noun', '키친/Noun', '옷/Noun', '개인/Noun', '사복/Noun', '마스크/Noun', '안/Noun', '하다/Verb', ',/Punctuation', '위생/Noun', '모자/Noun', ',/Punctuation', '위생/Noun', '장갑/Noun', '착용/Noun', '안/Noun', '하다/Verb', '손/Noun', '크림/Noun', '만지다/Verb', '-/Punctuation', '대다/Verb', '남/Noun', '성분/Noun', '도대체/Noun', '뭐/Noun', '?/Punctuation', '도/Noun', '넛/Noun', '먹다/Verb', '그/Noun', '모습/Noun', '보고/Noun', '기분/Noun', '속도/Noun', '다/Adverb', '망치다/Verb', './Punctuation', '너무/Adverb', '비위생적/Noun']\n",
            "['창문/Noun', '그림/Noun', '너무/Adverb', '귀엽다/Adjective', 'ㅎㅎ/KoreanParticle', '디저트/Noun', '비싸다/Adjective', '한데/Eomi', '자리/Noun', '편하다/Adjective', '근처/Noun', '공원/Noun', '있다/Adjective']\n",
            "['인기/Noun', '많다/Adjective', '넓다/Adjective', '루/Noun', '이/Noun', '사하다/Verb', '더/Noun', '요/Noun', '종류/Noun', '별로/Noun', '다/Adverb', '먹다/Verb', '보다/Verb', '않다/Verb', '도넛/Noun', '맛있다/Adjective', '사람/Noun', '많다/Adjective', '게/Noun', '흠/Noun', '듯/Noun']\n",
            "['나쁘다/Adjective', '않다/Verb']\n",
            "['그냥/Noun', '도넛/Noun', '맛/Noun', '.../Punctuation', '매장/Noun', '예쁘다/Adjective', '사람/Noun', '많다/Adjective', '건/Noun', '이해/Noun', '되다/Verb', '포장/Noun', '줄이다/Verb', '매장/Noun', '먹다/Verb', '줄/Noun', '훨씬/Adverb', '기다/Verb', '(/Punctuation', '매장/Noun', '들다/Verb', '거의/Noun', '바로/Noun', '착석/Noun', '가능/Noun', ')/Punctuation', '기다리다/Verb', '포장/Noun', '하다/Verb', '갈다/Verb', '정도/Noun', '아니다/Adjective', '그냥/Noun', '흔하다/Adjective', '도넛/Noun', '맛/Noun', '진짜/Noun', '브랜딩/Noun', '마케팅/Noun', '유명하다/Adjective', '집/Noun']\n",
            "['포장/Noun', '줄/Noun', '분/Noun', '기다리다/Verb', '먹다/Verb', './Punctuation', '나쁘다/Adjective', '않다/Verb', '그/Noun', '정도/Noun', '기다리다/Verb', '먹다/Verb', '맛/Noun', '아니다/Adjective', './Punctuation']\n",
            "['별개/Noun', '이하/Noun', '리뷰/Noun', '정확하다/Adjective', '시장/Noun', '도넛/Noun', ',/Punctuation', '마케팅/Noun', '힘/Noun', ',/Punctuation', '동네/Noun', '카페/Noun', '등등/Noun', '다/Adverb', '맞다/Verb', '말/Noun', '임기/Noun', '사서/Noun', '먹다/Verb', '아무리/Adverb', '먹다/Verb', '시장/Noun', '꽈배기/Noun', '크림/Noun', ',/Punctuation', '버터/Noun', ',/Punctuation', '잼/Noun', '발라/Noun', '먹다/Verb', '맛/Noun']\n",
            "['최고/Noun']\n",
            "['최고/Noun']\n",
            "['카페/Noun', '들어가다/Verb', '분/Noun', '정도/Noun', '웨이/Noun', '팅/Noun', '하다/Verb', '후/Noun', '살/Noun', '수/Noun', '있다/Adjective', '넛/Noun', '대기/Noun', '인원/Noun', '홀/Noun', '워낙/Noun', '사람/Noun', '많다/Adjective', '보다/Verb', '정신/Noun', '없다/Adjective', '하다/Verb', '그렇지만/Conjunction', '그만큼/Adverb', '기다리다/Verb', '값/Noun', '어치/Noun', '하다/Verb', '곳/Noun', '솔직하다/Adjective', '너무/Adverb', '맛있다/Adjective', '자꾸/Noun', '생각나다/Verb', '앞/Noun', '서울/Noun', '갈다/Verb', '때/Noun', '들리다/Verb', '싶다/Verb', '곳/Noun', '지점/Noun', '지방/Noun', '특히/Adverb', '천안/Noun', '!/Punctuation', '생기다/Verb', '좋다/Adjective', 'ㅠㅠ/KoreanParticle']\n",
            "['크림/Noun', '맛있다/Adjective', '빵/Noun', '퍼/Noun', '퍼/PreEomi', '석/Noun', '느낌/Noun', '!/Punctuation', '도넛/Noun', '진열/Noun', '하다/Verb', '공간/Noun', '너무/Adverb', '작다/Adjective', '품절/Noun', '속도/Noun', '너무/Adverb', '빨르다/Adjective', '!/Punctuation', '매장/Noun', '너무/Adverb', '시끄럽다/Adjective', '솔직하다/Adjective', '맛/Noun', '브랜딩/Noun', '잘/VerbPrefix', '하다/Verb', '유명하다/Adjective', '것/Noun', '같다/Adjective', '!/Punctuation', '귀엽다/Adjective', '아기자기하다/Adjective', '색감/Noun', '캐릭터/Noun', '폰트/Noun', '다/Adverb', '살리다/Verb']\n",
            "['말/Noun', '하다/Verb', '뭐/Noun', '해/Noun', '이다/Adjective', '!!/Punctuation', '최고/Noun', '디저트/Noun', '폭/Noun', '신한/Noun', '도넛/Noun', '식감/Noun', '차다/Verb', '좋다/Adjective']\n",
            "['먹다/Verb', '또/Noun', '먹다/Verb', '포장/Noun', '-/Punctuation', '너/Modifier', '모/Noun', '맛있다/Adjective']\n",
            "['초코/Noun', '선더/Noun', '주니어/Noun', '케이크/Noun', '정말/Noun', '최강/Noun', '것/Noun', '같다/Adjective', './Punctuation', '이전/Noun', '매장/Noun', '더/Noun', '예쁘다/Adjective', '쾌적하다/Adjective', '완전/Noun', '마음/Noun', '쏙/Noun', '♡/Foreign']\n",
            "['싸다/Verb', '기름/Noun', '튀기다/Verb', '도넛/Noun', '맛/Noun', './Punctuation', '직원/Noun', '분들/Suffix', '친절하다/Adjective', '..../Punctuation', '진짜/Noun', '별로/Noun', './Punctuation']\n",
            "['사람/Noun', '많다/Adjective', '들어가다/Verb', '보이다/Verb', '여자/Noun', '직원/Noun', '분/Suffix', '너무/Adverb', '친절하다/Adjective']\n",
            "['가야/Noun', '이유/Noun', ':/Punctuation', '올드/Noun', '페리/Noun', '도넛/Noun', '프리미엄/Noun', '넷탑/Noun', '안/Noun', '가다/Verb', '이유/Noun', ':/Punctuation', '선택/Noun', '본인/Noun', '몫/Noun', ',/Punctuation', '소란/Noun', '편/Noun', '슈가/Noun', '파우더/Noun', '단맛/Noun', '대부분/Noun', ',/Punctuation', '빵/Noun', '푹신하다/Adjective', '바닐라/Noun', '빈/Noun', '박히다/Verb', '크림/Noun', '맛/Noun', '괜찮다/Adjective', ',/Punctuation', '가격/Noun', '대비/Noun', '고민/Noun', '들다/Verb', '다른/Noun', '디저트/Noun', '들/Suffix', '가격/Noun', '비슷하다/Adjective', ',/Punctuation', '현재/Noun', '자리/Noun', '이전/Noun', '후/Noun', '좌석/Noun', '많아지다/Verb', '상품/Noun', '진열/Noun', '공간/Noun', '좁다/Adjective', '가끔/Noun', '다시/Noun', '채우다/Verb', '시간/Noun', '기다리다/Verb', '함/Noun']\n",
            "['던킨/Noun', '상위/Noun', '버전/Noun', '포장/Noun', '꼭/Noun', '박스/Noun', '여야/Noun', '하다/Verb', '대해/Noun', '박스/Noun', '(/Punctuation', '원/Noun', '별도/Noun', ')/Punctuation', '구매/Noun', '하야/Noun', '함/Noun', '특별하다/Adjective', '맛/Noun', '모르다/Verb', '마케팅/Noun', '이렇게/Adverb', '또/Noun', '낚임/Noun']\n",
            "['그냥/Noun', '던킨/Noun']\n",
            "['우유/Noun', '생크림/Noun', '맛있다/Adjective', '카야/Noun', ',/Punctuation', '베리/Noun', '맛/Noun', '맛있다/Adjective', './Punctuation', '베리/Noun', '엄청/Adverb', '상큼/Noun', '하다/Verb', './Punctuation', '평점/Noun', '쓰다/Verb', '먹다/Verb', '싶다/Verb', '기분/Noun', '../Punctuation']\n",
            "['여기/Noun', '도넛/Noun', '던킨/Noun', '이렇다/Adjective', '거/Noun', '달라/Noun', './Punctuation', '하나/Noun', '안/Noun', '느끼하다/Adjective', '진짜/Noun', '맛있다/Adjective', '../Punctuation']\n",
            "['우유/Noun', '생크림/Noun', '도넛/Noun', '맛있다/Adjective', './Punctuation', '줄/Noun', '서서/Noun', '먹다/Verb', '정돈/Noun', '아니다/Adjective', './Punctuation']\n",
            "['이/Noun', '과연/Noun', '줄/Noun', '서서/Noun', '먹다/Verb', '만/Noun', '가다/Verb', '매우/Noun', '의문/Noun', '스럽다/Adjective', '움/Noun', './Punctuation', '살구/Noun', '로즈메리/Noun', '안/Noun', '필링/Noun', '거의/Noun', '없다/Adjective', '하다/Verb', '그냥/Noun', '원/Noun', '짜다/Verb', '꽈배기/Noun', '먹다/Verb', '기분/Noun', '들다/Verb', ',/Punctuation', '니/Noun', '멀다/Adjective', '지다/Verb', '다/Adverb', '우리/Noun', '던킨도너츠/Noun', '도/Noun', '먹다/Verb', '수/Noun', '있다/Adjective', '맛/Noun', './Punctuation', '굳이/Noun', './Punctuation', '점/Noun', '더/Noun', '주다/Verb', '상자/Noun', '예쁘다/Adjective', '?/Punctuation']\n",
            "['도넛/Noun', '맛/Noun', '괜찮다/Adjective', '줄/Noun', '서서/Noun', '먹다/Verb', '정도/Noun', '아니다/Adjective', '거/Noun', '같다/Adjective', './Punctuation', '주말/Noun', '사람/Noun', '많다/Adjective', '앉다/Verb', '먹다/Verb', '건/Noun', '거/Noun', '이/Suffix', '불가능하다/Adjective', '끄다/Verb', '같다/Adjective', './Punctuation', '개인/Noun', '적/Suffix', '살구/Noun', '로즈메리/Noun', '도넛/Noun', '맛/Noun', '특이하다/Adjective', '좋다/Adjective', './Punctuation']\n",
            "['케이크/Noun', '쏘다/Verb', '쏘다/Verb', '주방/Noun', '다/Adverb', '들여다보다/Verb', '재미있다/Adjective']\n",
            "['진짜/Noun', '녹다/Verb', '크루아상/Noun', '진짜/Noun', '맛있다/Adjective', '!!!!/Punctuation', '약간/Noun', '오설록/Noun', '맛/Noun', '제조/Noun', '맛/Noun']\n",
            "['쏘다/Verb', '쏘다/Verb', '크림/Noun', '빵/Noun', '크림/Noun', '달/Noun', '않다/Verb', '맛있다/Adjective', './Punctuation']\n",
            "['좋다/Adjective']\n",
            "['맛/Noun', '가격/Noun', '쏘다/Verb', '쏘다/Verb']\n",
            "['알다/Verb', '동생/Noun', '맛있다/Adjective', '대서/Noun', '먹다/Verb', '응/Noun', '?/Punctuation', '이/Noun', '정말/Noun', '맛있다/Adjective', '건가/Noun', '?/Punctuation', '안/Noun', '크림/Noun', '느끼하다/Adjective', '별로/Noun', './Punctuation', '종류/Noun', '별로/Noun', '먹다/Verb', '보다/Verb', '별로/Noun', 'ㅠ/KoreanParticle', '근/Modifier', '데/Noun', '산/Noun', '공원/Noun', '돌다/Verb', '보다/Verb', '다/Adverb', '들다/Verb', '여기/Noun', '빵/Noun', '비닐/Noun', '들다/Verb', '다니다/Verb', './Punctuation', '마케팅/Noun', '승리/Noun']\n",
            "['나쁘다/Adjective', '않다/Verb']\n",
            "['도넛/Noun', '맛있다/Adjective', '분위기/Noun', '좋다/Adjective', '용동/Noun', '네/Suffix', '자주/Noun', '가다/Verb', '굳이/Noun', '멀리/Noun', '오다/Verb', '건/Noun', '아니다/Adjective', '그냥/Noun', '동네/Noun', '카페/Noun', '자주/Noun', '가기/Noun', '최고/Noun', '요/Noun', './Punctuation']\n",
            "['좋다/Adjective']\n",
            "['점주/Noun', '싶다/Verb', '그렇다/Adjective', '못/VerbPrefix', '하다/Verb', '좀/Noun', '주다/Verb', './Punctuation', '진짜/Noun', '도넛/Noun', '종류/Noun', '다/Adverb', '떨어지다/Verb', '공지/Noun', '하다/Verb', '하다/Verb', '게/Noun', '맞다/Verb', '그렇다/Adjective', '것/Noun', '없다/Adjective', '포장/Noun', '해오다/Verb', '넛/Noun', '잘못/Noun', '담다/Verb', '솔직하다/Adjective', '왜/Noun', '그렇게/Adverb', '유명하다/Adjective', '모르다/Verb', './Punctuation', '개별/Noun', '다/Adverb', '특히/Adverb', '앙/Adverb', '버터/Noun', '버터/Noun', '맛/Noun', '없다/Adjective', '그냥/Noun', '팥/Noun', '맛/Noun', '안/Noun', '나/Noun', '시장/Noun', '너츠/Noun', '똑같다/Adjective', '듯/Noun']\n",
            "['줄/Noun', '서서/Noun', '먹다/Verb', '곳/Noun', '아니다/Adjective', './Punctuation', '오다/Verb', '틀리다/Verb', '매우/Noun', '불만족/Noun', './Punctuation', '가다/Verb', '성비/Noun', '최악/Noun', './Punctuation']\n",
            "['보통/Noun']\n",
            "['비싸다/Adjective', '시장/Noun', '도넛/Noun', '말/Noun', '딱이다/Adjective', '생각/Noun', '드네/Noun', '사람/Noun', '다르다/Adjective', '전/Noun', '그렇게/Adverb', '맛있다/Adjective', '도넛/Noun', '모르다/Verb']\n",
            "['구/Modifier', '성비/Noun', '글쎄/Noun', '이/Noun', '빵/Noun', '맛있다/Adjective', '조금/Noun', '비싸다/Adjective', '발레/Noun', '두/Noun', '비싸다/Adjective', '비싸다/Adjective', '.../Punctuation', '원/Modifier', '이면/Noun', '빵/Noun', '하나/Noun', '값/Noun', 'ㅋ/KoreanParticle']\n",
            "['주말/Noun', '앉다/Verb', '먹기/Noun', '어려움/Noun', 'ㅠㅠ/KoreanParticle', '근데/Adverb', '도넛/Noun', '포함/Noun', '모든/Noun', '디저트/Noun', '맛있다/Adjective', '가게/Noun', '되다/Verb']\n",
            "['좋다/Adjective']\n",
            "['평범하다/Adjective', '맛/Noun', '그리고/Conjunction', '애견/Noun', '동반/Noun', '면서/Noun', '바/Noun', '테이블/Noun', '(?)/Punctuation', '앉다/Verb', '요/Noun', '??/Punctuation', '그렇다/Adjective', '강아지/Noun', '어디/Noun', '두/Noun', '건지다/Verb', '내/Noun', '엉덩이/Noun', '올/Modifier', '리기/Noun', '힘드다/Adjective', '엄청/Adverb', '좁다/Adjective', '의자/Noun', '그리고/Conjunction', '매우/Noun', '높다/Adjective', '테이블/Noun', '흠/Noun', '애견/Noun', '동반/Noun', '시/Noun', '앉다/Verb', '수/Noun', '있다/Adjective', '테이블/Noun', '제한/Noun', '되어다/Verb', '있다/Adjective', '설사/Noun', '자리/Noun', '있다/Adjective', '다른/Noun', '손님/Noun', '옆/Noun', '앉다/Verb', '있다/Adjective', '못/Noun', '앉다/Verb', '함/Noun', '(????)/Punctuation']\n",
            "['크림/Noun', '커스터드/Noun', '인생/Noun', '커스터드/Noun', '엄청/Adverb', '부드럽다/Adjective', '맛/Noun', '요/Noun', 'ㅎㅎ/KoreanParticle']\n",
            "['오다/Verb', '.../Punctuation', '맛있다/Adjective', './Punctuation', '일단/Noun', '엄청/Adverb', '단도/Noun', '노츠/Noun', '생각/Noun', '하다/Verb', '들다/Verb', '안/Noun', '돼다/Verb', './Punctuation', '마/Noun', '일드/Noun', '맛/Noun', '맛있다/Adjective', '맛/Noun', '담다/Verb', '있다/Adjective']\n",
            "['ㅠㅠ/KoreanParticle', '종류/Noun', '정도/Noun', '먹다/Verb', '그냥/Noun', '그냥/Noun', '../Punctuation', '별로/Noun', '../Punctuation']\n",
            "['초코/Noun', '푸딩/Noun', ',/Punctuation', '라즈베리/Noun', '도넛/Noun', '존/Noun', '만/Noun', '입/Noun', '먹다/Verb', '행복하다/Adjective', '맛/Noun', './Punctuation', '도넛/Noun', '별로/Noun', '안/Noun', '좋아하다/Adjective', '여기/Noun', '도넛/Noun', '진짜/Noun', '맛있다/Adjective', '크리스마스/Noun', '귀엽다/Adjective', '꾸미다/Verb', '놓다/Verb', '더/Noun', '기분/Noun', '좋다/Adjective']\n",
            "['도넛/Noun', '메인/Noun', '솔직하다/Adjective', '기대/Noun', '이/Noun', '하다/Verb', '(/Punctuation', '비싸다/Adjective', '시장/Noun', '도넛/Noun', ')./Punctuation', '커피/Noun', '다른/Noun', '디저트/Noun', '먹다/Verb', '만/Modifier', '한/Modifier', '데/Noun', '산/Noun', '공원/Noun', '오다/Verb', '굳이/Noun', '갈다/Verb', '만/Noun', '장소/Noun', '인/Suffix', '의문/Noun']\n",
            "['도넛/Noun', '맛있다/Adjective', '빵/Noun', '고르다/Verb', '하다/Verb', '딱하다/Adjective', '눈/Noun', '들어오다/Verb', '게/Noun', '없다/Adjective', '버터/Noun', '도넛/Noun', '맛있다/Adjective']\n",
            "['의문/Noun', '평점/Noun', '도넛/Noun', '맛/Noun', '집/Noun', '넛/Noun', '맛있다/Adjective', '보다/Verb', '(/Punctuation', '먹다/Verb', '보다/Verb', '그냥/Noun', '평범/Noun', ')/Punctuation', '얼그레이/Noun', '케이크/Noun', '진짜/Noun', '..../Punctuation', '너/Noun', '맛/Noun', 'ㅋ/KoreanParticle', '옆/Noun', '테이블/Noun', '들/Suffix', '케이크/Noun', '다/Adverb', '남다/Verb', '가다/Verb', '.../Punctuation', '남기다/Verb', '이유/Noun', '있다/Adjective', '그리고/Conjunction', '주방/Noun', '보이다/Verb', '스텝/Noun', '중/Noun', '여드름/Noun', '지성/Noun', '기름기/Noun', '있다/Adjective', '피부/Noun', '남자/Noun', '분/Suffix', '손/Noun', '얼굴/Noun', '막/Noun', '벅벅/Noun', '오래/Adverb', '긁다/Verb', '.../Punctuation', '그/Noun', '손/Noun', '다시/Noun', '케이크/Noun', '상자/Noun', '접다/Verb', '작업/Noun', '하다/Verb', '걸/Noun', '보고/Noun', '개인/Noun', '적/Suffix', '비위/Noun', '.../Punctuation']\n",
            "['사람/Noun', '많다/Adjective', '맛있다/Adjective', '인테리어/Noun', '패키지/Noun', '디자인/Noun', '예쁘다/Adjective', '종종/Noun', '가다/Verb', '싶다/Verb', '카페/Noun']\n",
            "['비싸다/Adjective', ',/Punctuation', '자리다/Adjective', '많다/Adjective', '않다/Verb', ',/Punctuation', '그렇다/Adjective', '맛있다/Adjective', '도넛/Noun', '가게/Noun', '이다/Adjective', './Punctuation', '처음/Noun', '하다/Verb', '입/Noun', '먹다/Verb', '때/Noun', \"'/Punctuation\", '아이/Noun', '래서/Noun', '내/Noun', '힘들다/Adjective', '직장/Noun', '다니다/Verb', '돈/Noun', '벌다/Verb', '도넛/Noun', '사/Noun', '먹다/Verb', \"!'/Punctuation\", '생각/Noun', '들다/Verb', './Punctuation', '입/Noun', '사르르/Noun', '녹다/Verb', '행복하다/Adjective', '기분/Noun', '듭니/Noun', '.!!/Punctuation']\n",
            "['도넛/Noun', '맛있다/Adjective']\n",
            "['fres/Alpha', 'hdonuts/Alpha']\n",
            "['빵/Noun', '좋다/Adjective', '커피/Noun', '값/Noun', '적당하다/Adjective', '자리/Noun', '좀/Noun', '치우다/Verb', '이다/Verb', '그래도/Adverb', '벨벳/Noun', '소재/Noun', '자/Noun', '빵가루/Noun', '머리카락/Noun', '고/Noun', '정리/Noun', '안/Noun', '되어다/Verb', '있다/Adjective', '손님/Noun', '들/Suffix', '털다/Verb', '앉다/Verb']\n",
            "['맛있다/Adjective', '!!/Punctuation', '인테리어/Noun', '예쁘다/Adjective', '맛있다/Adjective', '!/Punctuation', '안/Noun', '직접/Noun', '만들다/Verb', '모습/Noun', '볼/Noun', '수/Noun', '있다/Adjective', '좋다/Adjective', '!/Punctuation', '사람/Noun', '많다/Adjective', '회전/Noun', '빠르다/Adjective', '!/Punctuation']\n",
            "['좋다/Adjective']\n",
            "['밀크/Noun', '치즈케이크/Noun', ',/Punctuation', '아메리카노/Noun', ',/Punctuation', '도넛/Noun', '류/Noun', '다양하다/Adjective', '케이크/Noun', '들/Suffix', '너무/Adverb', '예쁘다/Adjective', '맛있다/Adjective', './Punctuation', '웨이팅/Noun', '길다/Adjective', ',/Punctuation', '발레/Noun', '제한/Noun', '시간/Noun', '시간/Noun', '반/Noun']\n",
            "['알바/Noun', '불친절하다/Adjective', '또/Noun', '가다/Verb', '싶다/Verb', '집/Noun']\n",
            "['밀크/Noun', '치즈/Noun', '딜/Noun', '라이트/Noun', '케이크/Noun', '맛있다/Adjective', 'ㅋㅋㅋ/KoreanParticle', '아아/Noun', '신맛/Noun', '고요/Noun', '케이크/Noun', '가격/Noun', '대가/Noun', './Punctuation', '좀/Noun', '비싸다/Adjective', '편/Noun', 'ㅠㅠ/KoreanParticle', '얼/Noun', '그레이/Noun', '이드/Noun', '마셧는/Noun', '데/Noun', '괜찮다/Adjective', 'ㅋㅋ/KoreanParticle']\n",
            "['생/Noun', '과일/Noun', '주스/Noun', '맛있다/Adjective', '디저트/Noun', '메뉴/Noun', '너무/Adverb', '사랑/Noun', '하다/Verb']\n",
            "['부드럽다/Adjective', '맛있다/Adjective']\n",
            "['최고/Noun']\n",
            "['좋다/Adjective']\n",
            "['보통/Noun']\n",
            "['케이크/Noun', ',/Punctuation', '예쁘다/Adjective', '맛있다/Adjective', '❤️/Foreign']\n",
            "['최고/Noun']\n",
            "['텀블러/Noun', '구매/Noun', '하다/Verb', '계산/Noun', '전/Noun', '흠집/Noun', '눈/Noun', '보이/Noun', '말/Noun', '해달라다/Verb', ',/Punctuation', '찜찜하다/Adjective', '자국/Noun', '있다/Adjective', '바꾸다/Verb', '달래다/Verb', '갸우뚱/Adverb', '하다/Verb', '제스처/Noun', '기본/Noun', '적/Suffix', '예의/Noun', '없다/Adjective', '것/Noun', '아니다/Adjective', '?/Punctuation', '아무리/Adverb', '자유분방하다/Adjective', '분위기/Noun', '블루/Noun', '보틀/Noun', '이르다/Verb', '점원/Noun', '팔짱/Noun', '끼/Noun', '있다/Adjective', '다/Adverb', '던지다/Verb', '.../Punctuation', '여러/Modifier', '모로/Noun', '서비스/Noun', '교육/Noun', '시급하다/Adjective', '보이다/Verb', ';/Punctuation']\n",
            "['브랜딩/Noun', '좋다/Adjective', '예/Noun', './Punctuation']\n",
            "['맛/Noun', '있다/Adjective', ',/Punctuation', '직원/Noun', '들/Suffix', '정말/Noun', '친절하다/Adjective', '서비스/Noun', '최고/Noun']\n",
            "['최고/Noun']\n",
            "['별로/Noun']\n",
            "['직원/Noun', '분들/Suffix', '너무/Adverb', '친절하다/Adjective']\n",
            "['역시/Noun', '믿다/Verb', '먹다/Verb', '블루/Noun', '보틀/Noun', '다른/Noun', '지점/Noun', '조용하다/Adjective', '좋다/Adjective']\n",
            "['다른/Noun', '지점/Noun', '맛있다/Adjective', '요/Noun', '응대/Noun', '너무/Adverb', '친절하다/Adjective', '../Punctuation', '또/Noun', '방문/Noun', '싶다/Verb']\n",
            "['하다/Verb', '번/Noun', '쯤/Suffix', '가보다/Verb', '만/Noun', '곳/Noun']\n",
            "['직원/Noun', '분들/Suffix', '친절하다/Adjective', '이/Noun', '맛/Noun', '생각/Noun', '평범하다/Adjective', '양/Noun', '적다/Verb']\n",
            "['고소하다/Adjective', './Punctuation', '다른/Noun', '지점/Noun', '여유/Noun', '워/Noun']\n",
            "['최고/Noun']\n",
            "['좁다/Adjective', '아쉽다/Adjective', 'ㅠ/KoreanParticle']\n",
            "['직원/Noun', '들/Suffix', '매우/Noun', '매우/Noun', '매우/Noun', '친절하다/Adjective', './Punctuation', '음료/Noun', '음/Noun', '...../Punctuation', '블루/Noun', '보틀/Noun', '본점/Noun', '이/Noun', '맛/Noun', '이/Determiner', '라면/Noun', '왜/Noun', '유명하다/Adjective', '자다/Verb', '모르다/Verb', './Punctuation', '젤/Noun', '유명하다/Adjective', '라테/Noun', '집/Noun', '만들다/Verb', '콜드/Noun', '브루/Noun', '우유/Noun', '넣다/Verb', '시럽/Noun', '적당/Noun', '량/Noun', '넣다/Verb', '거/Noun', '맛/Noun', '완벽하다/Adjective', '똑같다/Adjective', './Punctuation', '휘/Noun', '이/Noun', '시/Noun', '인생/Noun', '최악/Noun', './Punctuation', '여기/Noun', '갈다/Verb', '분/Noun', '들/Suffix', '베이커리/Noun', '제발/Noun', '시키다/Verb', '말다/Verb', '좋다/Adjective', './Punctuation']\n",
            "['보통/Noun']\n",
            "['직원/Noun', '들/Suffix', '친절하다/Adjective', '라테/Noun', '고소하다/Adjective', '맛있다/Adjective']\n",
            "['뭐/Noun', '먹다/Verb', '한참/Noun', '고민/Noun', '하/Suffix', '직원/Noun', '분/Suffix', '친절하다/Adjective', '설명/Noun', '해주다/Verb', './Punctuation', '맛있다/Adjective', '커피/Noun', '감사하다/Verb', ':)/Punctuation']\n",
            "['이/Noun', '정말/Noun', '블루/Noun', '보틀/Noun', '?/Punctuation']\n",
            "['친절하다/Adjective', '좋다/Adjective']\n",
            "['원두/Noun', '구매/Noun', '설명/Noun', '잘/VerbPrefix', '해주다/Verb', '정말/Noun', '도움/Noun', '돼다/Verb', './Punctuation']\n",
            "['직원/Noun', '분들/Suffix', '아주/Noun', '친절하다/Adjective']\n",
            "['레몬/Noun', '쿠키/Noun', '맛있다/Adjective', './Punctuation', '종이/Noun', '빨대/Noun', ',/Punctuation', '싱겁다/Adjective', '커피/Noun', '실망/Noun', './Punctuation']\n",
            "['좋다/Adjective']\n",
            "['보통/Noun']\n",
            "['불친절하다/Adjective', './Punctuation', '배/Noun', '부르다/Verb', '듯/Noun']\n",
            "['아메리카노/Noun', '맛있다/Adjective', '놀라다/Verb', '플/Exclamation', '로트/Noun', '맛있다/Adjective', '!!/Punctuation', '사람/Noun', '안/Noun', '많다/Adjective', '자주/Noun', '오다/Verb', '싶다/Verb']\n",
            "['좋다/Adjective']\n",
            "['쏘다/Verb', '쏘다/Verb', './Punctuation', '그냥/Noun', '테이크아웃/Noun', '하다/Verb', '좋다/Adjective']\n"
          ],
          "name": "stdout"
        },
        {
          "output_type": "error",
          "ename": "KeyboardInterrupt",
          "evalue": "ignored",
          "traceback": [
            "\u001b[0;31m---------------------------------------------------------------------------\u001b[0m",
            "\u001b[0;31mKeyboardInterrupt\u001b[0m                         Traceback (most recent call last)",
            "\u001b[0;32m<ipython-input-17-4dba9ae39050>\u001b[0m in \u001b[0;36m<module>\u001b[0;34m()\u001b[0m\n\u001b[1;32m      8\u001b[0m   \u001b[0mtext1\u001b[0m \u001b[0;34m=\u001b[0m \u001b[0mclean_punc\u001b[0m\u001b[0;34m(\u001b[0m\u001b[0mtext\u001b[0m\u001b[0;34m,\u001b[0m \u001b[0mpunct\u001b[0m\u001b[0;34m,\u001b[0m \u001b[0mpunct_mapping\u001b[0m\u001b[0;34m)\u001b[0m\u001b[0;34m\u001b[0m\u001b[0;34m\u001b[0m\u001b[0m\n\u001b[1;32m      9\u001b[0m   \u001b[0mtext2\u001b[0m \u001b[0;34m=\u001b[0m \u001b[0;34m''\u001b[0m\u001b[0;34m.\u001b[0m\u001b[0mjoin\u001b[0m\u001b[0;34m(\u001b[0m\u001b[0mclean_text\u001b[0m\u001b[0;34m(\u001b[0m\u001b[0mtext1\u001b[0m\u001b[0;34m)\u001b[0m\u001b[0;34m)\u001b[0m\u001b[0;34m\u001b[0m\u001b[0;34m\u001b[0m\u001b[0m\n\u001b[0;32m---> 10\u001b[0;31m   \u001b[0mtext3\u001b[0m \u001b[0;34m=\u001b[0m \u001b[0mspacing\u001b[0m\u001b[0;34m(\u001b[0m\u001b[0mtext2\u001b[0m\u001b[0;34m)\u001b[0m\u001b[0;34m\u001b[0m\u001b[0;34m\u001b[0m\u001b[0m\n\u001b[0m\u001b[1;32m     11\u001b[0m   \u001b[0mtext4\u001b[0m \u001b[0;34m=\u001b[0m \u001b[0mgrammar_check\u001b[0m\u001b[0;34m(\u001b[0m\u001b[0mtext3\u001b[0m\u001b[0;34m)\u001b[0m\u001b[0;34m\u001b[0m\u001b[0;34m\u001b[0m\u001b[0m\n\u001b[1;32m     12\u001b[0m  \u001b[0;31m#text5 = tokenizing(text4)\u001b[0m\u001b[0;34m\u001b[0m\u001b[0;34m\u001b[0m\u001b[0;34m\u001b[0m\u001b[0m\n",
            "\u001b[0;32m/usr/local/lib/python3.6/dist-packages/pykospacing/kospacing.py\u001b[0m in \u001b[0;36mspacing\u001b[0;34m(sent)\u001b[0m\n\u001b[1;32m     66\u001b[0m                                for ss in splitted_sent])\n\u001b[1;32m     67\u001b[0m     \u001b[0;32melse\u001b[0m\u001b[0;34m:\u001b[0m\u001b[0;34m\u001b[0m\u001b[0;34m\u001b[0m\u001b[0m\n\u001b[0;32m---> 68\u001b[0;31m         \u001b[0mspaced_sent\u001b[0m \u001b[0;34m=\u001b[0m \u001b[0mPredSpacing\u001b[0m\u001b[0;34m.\u001b[0m\u001b[0mget_spaced_sent\u001b[0m\u001b[0;34m(\u001b[0m\u001b[0msent\u001b[0m\u001b[0;34m)\u001b[0m\u001b[0;34m\u001b[0m\u001b[0;34m\u001b[0m\u001b[0m\n\u001b[0m\u001b[1;32m     69\u001b[0m     \u001b[0;32mreturn\u001b[0m \u001b[0mspaced_sent\u001b[0m\u001b[0;34m.\u001b[0m\u001b[0mstrip\u001b[0m\u001b[0;34m(\u001b[0m\u001b[0;34m)\u001b[0m\u001b[0;34m\u001b[0m\u001b[0;34m\u001b[0m\u001b[0m\n",
            "\u001b[0;32m/usr/local/lib/python3.6/dist-packages/pykospacing/kospacing.py\u001b[0m in \u001b[0;36mget_spaced_sent\u001b[0;34m(self, raw_sent)\u001b[0m\n\u001b[1;32m     35\u001b[0m             \u001b[0mword2idx_dic\u001b[0m\u001b[0;34m=\u001b[0m\u001b[0mself\u001b[0m\u001b[0;34m.\u001b[0m\u001b[0m_w2idx\u001b[0m\u001b[0;34m,\u001b[0m \u001b[0msequences\u001b[0m\u001b[0;34m=\u001b[0m\u001b[0msents_in\u001b[0m\u001b[0;34m,\u001b[0m \u001b[0mmaxlen\u001b[0m\u001b[0;34m=\u001b[0m\u001b[0;36m200\u001b[0m\u001b[0;34m,\u001b[0m\u001b[0;34m\u001b[0m\u001b[0;34m\u001b[0m\u001b[0m\n\u001b[1;32m     36\u001b[0m             padding='post', truncating='post')\n\u001b[0;32m---> 37\u001b[0;31m         \u001b[0mresults\u001b[0m \u001b[0;34m=\u001b[0m \u001b[0mself\u001b[0m\u001b[0;34m.\u001b[0m\u001b[0m_model\u001b[0m\u001b[0;34m.\u001b[0m\u001b[0mpredict\u001b[0m\u001b[0;34m(\u001b[0m\u001b[0mmat_in\u001b[0m\u001b[0;34m)\u001b[0m\u001b[0;34m\u001b[0m\u001b[0;34m\u001b[0m\u001b[0m\n\u001b[0m\u001b[1;32m     38\u001b[0m         \u001b[0mmat_set\u001b[0m \u001b[0;34m=\u001b[0m \u001b[0mresults\u001b[0m\u001b[0;34m[\u001b[0m\u001b[0;36m0\u001b[0m\u001b[0;34m,\u001b[0m \u001b[0;34m]\u001b[0m\u001b[0;34m\u001b[0m\u001b[0;34m\u001b[0m\u001b[0m\n\u001b[1;32m     39\u001b[0m         preds = np.array(\n",
            "\u001b[0;32m/usr/local/lib/python3.6/dist-packages/tensorflow/python/keras/engine/training.py\u001b[0m in \u001b[0;36mpredict\u001b[0;34m(self, x, batch_size, verbose, steps, callbacks, max_queue_size, workers, use_multiprocessing)\u001b[0m\n\u001b[1;32m   1623\u001b[0m       \u001b[0mcallbacks\u001b[0m\u001b[0;34m.\u001b[0m\u001b[0mon_predict_begin\u001b[0m\u001b[0;34m(\u001b[0m\u001b[0;34m)\u001b[0m\u001b[0;34m\u001b[0m\u001b[0;34m\u001b[0m\u001b[0m\n\u001b[1;32m   1624\u001b[0m       \u001b[0mbatch_outputs\u001b[0m \u001b[0;34m=\u001b[0m \u001b[0;32mNone\u001b[0m\u001b[0;34m\u001b[0m\u001b[0;34m\u001b[0m\u001b[0m\n\u001b[0;32m-> 1625\u001b[0;31m       \u001b[0;32mfor\u001b[0m \u001b[0m_\u001b[0m\u001b[0;34m,\u001b[0m \u001b[0miterator\u001b[0m \u001b[0;32min\u001b[0m \u001b[0mdata_handler\u001b[0m\u001b[0;34m.\u001b[0m\u001b[0menumerate_epochs\u001b[0m\u001b[0;34m(\u001b[0m\u001b[0;34m)\u001b[0m\u001b[0;34m:\u001b[0m  \u001b[0;31m# Single epoch.\u001b[0m\u001b[0;34m\u001b[0m\u001b[0;34m\u001b[0m\u001b[0m\n\u001b[0m\u001b[1;32m   1626\u001b[0m         \u001b[0;32mwith\u001b[0m \u001b[0mdata_handler\u001b[0m\u001b[0;34m.\u001b[0m\u001b[0mcatch_stop_iteration\u001b[0m\u001b[0;34m(\u001b[0m\u001b[0;34m)\u001b[0m\u001b[0;34m:\u001b[0m\u001b[0;34m\u001b[0m\u001b[0;34m\u001b[0m\u001b[0m\n\u001b[1;32m   1627\u001b[0m           \u001b[0;32mfor\u001b[0m \u001b[0mstep\u001b[0m \u001b[0;32min\u001b[0m \u001b[0mdata_handler\u001b[0m\u001b[0;34m.\u001b[0m\u001b[0msteps\u001b[0m\u001b[0;34m(\u001b[0m\u001b[0;34m)\u001b[0m\u001b[0;34m:\u001b[0m\u001b[0;34m\u001b[0m\u001b[0;34m\u001b[0m\u001b[0m\n",
            "\u001b[0;32m/usr/local/lib/python3.6/dist-packages/tensorflow/python/keras/engine/data_adapter.py\u001b[0m in \u001b[0;36menumerate_epochs\u001b[0;34m(self)\u001b[0m\n\u001b[1;32m   1131\u001b[0m     \u001b[0;34m\"\"\"Yields `(epoch, tf.data.Iterator)`.\"\"\"\u001b[0m\u001b[0;34m\u001b[0m\u001b[0;34m\u001b[0m\u001b[0m\n\u001b[1;32m   1132\u001b[0m     \u001b[0;32mwith\u001b[0m \u001b[0mself\u001b[0m\u001b[0;34m.\u001b[0m\u001b[0m_truncate_execution_to_epoch\u001b[0m\u001b[0;34m(\u001b[0m\u001b[0;34m)\u001b[0m\u001b[0;34m:\u001b[0m\u001b[0;34m\u001b[0m\u001b[0;34m\u001b[0m\u001b[0m\n\u001b[0;32m-> 1133\u001b[0;31m       \u001b[0mdata_iterator\u001b[0m \u001b[0;34m=\u001b[0m \u001b[0miter\u001b[0m\u001b[0;34m(\u001b[0m\u001b[0mself\u001b[0m\u001b[0;34m.\u001b[0m\u001b[0m_dataset\u001b[0m\u001b[0;34m)\u001b[0m\u001b[0;34m\u001b[0m\u001b[0;34m\u001b[0m\u001b[0m\n\u001b[0m\u001b[1;32m   1134\u001b[0m       \u001b[0;32mfor\u001b[0m \u001b[0mepoch\u001b[0m \u001b[0;32min\u001b[0m \u001b[0mrange\u001b[0m\u001b[0;34m(\u001b[0m\u001b[0mself\u001b[0m\u001b[0;34m.\u001b[0m\u001b[0m_initial_epoch\u001b[0m\u001b[0;34m,\u001b[0m \u001b[0mself\u001b[0m\u001b[0;34m.\u001b[0m\u001b[0m_epochs\u001b[0m\u001b[0;34m)\u001b[0m\u001b[0;34m:\u001b[0m\u001b[0;34m\u001b[0m\u001b[0;34m\u001b[0m\u001b[0m\n\u001b[1;32m   1135\u001b[0m         \u001b[0;32mif\u001b[0m \u001b[0mself\u001b[0m\u001b[0;34m.\u001b[0m\u001b[0m_insufficient_data\u001b[0m\u001b[0;34m:\u001b[0m  \u001b[0;31m# Set by `catch_stop_iteration`.\u001b[0m\u001b[0;34m\u001b[0m\u001b[0;34m\u001b[0m\u001b[0m\n",
            "\u001b[0;32m/usr/local/lib/python3.6/dist-packages/tensorflow/python/data/ops/dataset_ops.py\u001b[0m in \u001b[0;36m__iter__\u001b[0;34m(self)\u001b[0m\n\u001b[1;32m    420\u001b[0m     \u001b[0;32mif\u001b[0m \u001b[0mcontext\u001b[0m\u001b[0;34m.\u001b[0m\u001b[0mexecuting_eagerly\u001b[0m\u001b[0;34m(\u001b[0m\u001b[0;34m)\u001b[0m \u001b[0;32mor\u001b[0m \u001b[0mops\u001b[0m\u001b[0;34m.\u001b[0m\u001b[0minside_function\u001b[0m\u001b[0;34m(\u001b[0m\u001b[0;34m)\u001b[0m\u001b[0;34m:\u001b[0m\u001b[0;34m\u001b[0m\u001b[0;34m\u001b[0m\u001b[0m\n\u001b[1;32m    421\u001b[0m       \u001b[0;32mwith\u001b[0m \u001b[0mops\u001b[0m\u001b[0;34m.\u001b[0m\u001b[0mcolocate_with\u001b[0m\u001b[0;34m(\u001b[0m\u001b[0mself\u001b[0m\u001b[0;34m.\u001b[0m\u001b[0m_variant_tensor\u001b[0m\u001b[0;34m)\u001b[0m\u001b[0;34m:\u001b[0m\u001b[0;34m\u001b[0m\u001b[0;34m\u001b[0m\u001b[0m\n\u001b[0;32m--> 422\u001b[0;31m         \u001b[0;32mreturn\u001b[0m \u001b[0miterator_ops\u001b[0m\u001b[0;34m.\u001b[0m\u001b[0mOwnedIterator\u001b[0m\u001b[0;34m(\u001b[0m\u001b[0mself\u001b[0m\u001b[0;34m)\u001b[0m\u001b[0;34m\u001b[0m\u001b[0;34m\u001b[0m\u001b[0m\n\u001b[0m\u001b[1;32m    423\u001b[0m     \u001b[0;32melse\u001b[0m\u001b[0;34m:\u001b[0m\u001b[0;34m\u001b[0m\u001b[0;34m\u001b[0m\u001b[0m\n\u001b[1;32m    424\u001b[0m       raise RuntimeError(\"__iter__() is only supported inside of tf.function \"\n",
            "\u001b[0;32m/usr/local/lib/python3.6/dist-packages/tensorflow/python/data/ops/iterator_ops.py\u001b[0m in \u001b[0;36m__init__\u001b[0;34m(self, dataset, components, element_spec)\u001b[0m\n\u001b[1;32m    680\u001b[0m       \u001b[0;32mif\u001b[0m \u001b[0;34m(\u001b[0m\u001b[0mcomponents\u001b[0m \u001b[0;32mis\u001b[0m \u001b[0;32mnot\u001b[0m \u001b[0;32mNone\u001b[0m \u001b[0;32mor\u001b[0m \u001b[0melement_spec\u001b[0m \u001b[0;32mis\u001b[0m \u001b[0;32mnot\u001b[0m \u001b[0;32mNone\u001b[0m\u001b[0;34m)\u001b[0m\u001b[0;34m:\u001b[0m\u001b[0;34m\u001b[0m\u001b[0;34m\u001b[0m\u001b[0m\n\u001b[1;32m    681\u001b[0m         \u001b[0;32mraise\u001b[0m \u001b[0mValueError\u001b[0m\u001b[0;34m(\u001b[0m\u001b[0merror_message\u001b[0m\u001b[0;34m)\u001b[0m\u001b[0;34m\u001b[0m\u001b[0;34m\u001b[0m\u001b[0m\n\u001b[0;32m--> 682\u001b[0;31m       \u001b[0mself\u001b[0m\u001b[0;34m.\u001b[0m\u001b[0m_create_iterator\u001b[0m\u001b[0;34m(\u001b[0m\u001b[0mdataset\u001b[0m\u001b[0;34m)\u001b[0m\u001b[0;34m\u001b[0m\u001b[0;34m\u001b[0m\u001b[0m\n\u001b[0m\u001b[1;32m    683\u001b[0m \u001b[0;34m\u001b[0m\u001b[0m\n\u001b[1;32m    684\u001b[0m   \u001b[0;32mdef\u001b[0m \u001b[0m_create_iterator\u001b[0m\u001b[0;34m(\u001b[0m\u001b[0mself\u001b[0m\u001b[0;34m,\u001b[0m \u001b[0mdataset\u001b[0m\u001b[0;34m)\u001b[0m\u001b[0;34m:\u001b[0m\u001b[0;34m\u001b[0m\u001b[0;34m\u001b[0m\u001b[0m\n",
            "\u001b[0;32m/usr/local/lib/python3.6/dist-packages/tensorflow/python/data/ops/iterator_ops.py\u001b[0m in \u001b[0;36m_create_iterator\u001b[0;34m(self, dataset)\u001b[0m\n\u001b[1;32m    703\u001b[0m               \u001b[0moutput_types\u001b[0m\u001b[0;34m=\u001b[0m\u001b[0mself\u001b[0m\u001b[0;34m.\u001b[0m\u001b[0m_flat_output_types\u001b[0m\u001b[0;34m,\u001b[0m\u001b[0;34m\u001b[0m\u001b[0;34m\u001b[0m\u001b[0m\n\u001b[1;32m    704\u001b[0m               output_shapes=self._flat_output_shapes))\n\u001b[0;32m--> 705\u001b[0;31m       \u001b[0mgen_dataset_ops\u001b[0m\u001b[0;34m.\u001b[0m\u001b[0mmake_iterator\u001b[0m\u001b[0;34m(\u001b[0m\u001b[0mds_variant\u001b[0m\u001b[0;34m,\u001b[0m \u001b[0mself\u001b[0m\u001b[0;34m.\u001b[0m\u001b[0m_iterator_resource\u001b[0m\u001b[0;34m)\u001b[0m\u001b[0;34m\u001b[0m\u001b[0;34m\u001b[0m\u001b[0m\n\u001b[0m\u001b[1;32m    706\u001b[0m       \u001b[0;31m# Delete the resource when this object is deleted\u001b[0m\u001b[0;34m\u001b[0m\u001b[0;34m\u001b[0m\u001b[0;34m\u001b[0m\u001b[0m\n\u001b[1;32m    707\u001b[0m       self._resource_deleter = IteratorResourceDeleter(\n",
            "\u001b[0;32m/usr/local/lib/python3.6/dist-packages/tensorflow/python/ops/gen_dataset_ops.py\u001b[0m in \u001b[0;36mmake_iterator\u001b[0;34m(dataset, iterator, name)\u001b[0m\n\u001b[1;32m   2970\u001b[0m     \u001b[0;32mtry\u001b[0m\u001b[0;34m:\u001b[0m\u001b[0;34m\u001b[0m\u001b[0;34m\u001b[0m\u001b[0m\n\u001b[1;32m   2971\u001b[0m       _result = pywrap_tfe.TFE_Py_FastPathExecute(\n\u001b[0;32m-> 2972\u001b[0;31m         _ctx, \"MakeIterator\", name, dataset, iterator)\n\u001b[0m\u001b[1;32m   2973\u001b[0m       \u001b[0;32mreturn\u001b[0m \u001b[0m_result\u001b[0m\u001b[0;34m\u001b[0m\u001b[0;34m\u001b[0m\u001b[0m\n\u001b[1;32m   2974\u001b[0m     \u001b[0;32mexcept\u001b[0m \u001b[0m_core\u001b[0m\u001b[0;34m.\u001b[0m\u001b[0m_NotOkStatusException\u001b[0m \u001b[0;32mas\u001b[0m \u001b[0me\u001b[0m\u001b[0;34m:\u001b[0m\u001b[0;34m\u001b[0m\u001b[0;34m\u001b[0m\u001b[0m\n",
            "\u001b[0;31mKeyboardInterrupt\u001b[0m: "
          ]
        }
      ]
    },
    {
      "cell_type": "code",
      "metadata": {
        "id": "pT-dE0Z-3vN1"
      },
      "source": [
        "\r\n"
      ],
      "execution_count": null,
      "outputs": []
    }
  ]
}