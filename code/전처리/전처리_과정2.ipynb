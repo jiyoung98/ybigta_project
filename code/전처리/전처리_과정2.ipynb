{
  "nbformat": 4,
  "nbformat_minor": 0,
  "metadata": {
    "colab": {
      "name": "전처리 과정2.ipynb",
      "provenance": []
    },
    "kernelspec": {
      "name": "python3",
      "display_name": "Python 3"
    }
  },
  "cells": [
    {
      "cell_type": "code",
      "metadata": {
        "id": "xqH5lSvKMBx4"
      },
      "source": [
        "import numpy as np\r\n",
        "import pandas as pd\r\n",
        "\r\n",
        "# tokenizer 불러오기\r\n",
        "from nltk.tokenize import word_tokenize, WordPunctTokenizer"
      ],
      "execution_count": 1,
      "outputs": []
    },
    {
      "cell_type": "code",
      "metadata": {
        "colab": {
          "base_uri": "https://localhost:8080/",
          "height": 876
        },
        "id": "l4xjdVjfMNE4",
        "outputId": "28b45d42-fa11-4027-f24a-6d1a084f66ec"
      },
      "source": [
        "data = pd.read_csv('/content/drive/MyDrive/신입프로젝트/traindata.csv')\r\n",
        "data.dropna(inplace = True)\r\n",
        "data.head(28)"
      ],
      "execution_count": 16,
      "outputs": [
        {
          "output_type": "execute_result",
          "data": {
            "text/html": [
              "<div>\n",
              "<style scoped>\n",
              "    .dataframe tbody tr th:only-of-type {\n",
              "        vertical-align: middle;\n",
              "    }\n",
              "\n",
              "    .dataframe tbody tr th {\n",
              "        vertical-align: top;\n",
              "    }\n",
              "\n",
              "    .dataframe thead th {\n",
              "        text-align: right;\n",
              "    }\n",
              "</style>\n",
              "<table border=\"1\" class=\"dataframe\">\n",
              "  <thead>\n",
              "    <tr style=\"text-align: right;\">\n",
              "      <th></th>\n",
              "      <th>Unnamed: 0</th>\n",
              "      <th>0</th>\n",
              "      <th>1</th>\n",
              "      <th>2</th>\n",
              "    </tr>\n",
              "  </thead>\n",
              "  <tbody>\n",
              "    <tr>\n",
              "      <th>0</th>\n",
              "      <td>0</td>\n",
              "      <td>카페노티드 청담</td>\n",
              "      <td>도넛 맛은 맛있음 대신 포장해서 갈거면 인내심 길러가야함 뭔가 포장하는 방식이 바뀌...</td>\n",
              "      <td>3점</td>\n",
              "    </tr>\n",
              "    <tr>\n",
              "      <th>1</th>\n",
              "      <td>1</td>\n",
              "      <td>카페노티드 청담</td>\n",
              "      <td>계산해주는 직원도 불친절하고 크로플도 두개시켰는데 집에 와서 열어보니 한개만 줬네요...</td>\n",
              "      <td>1점</td>\n",
              "    </tr>\n",
              "    <tr>\n",
              "      <th>2</th>\n",
              "      <td>2</td>\n",
              "      <td>카페노티드 청담</td>\n",
              "      <td>좋아요</td>\n",
              "      <td>4점</td>\n",
              "    </tr>\n",
              "    <tr>\n",
              "      <th>3</th>\n",
              "      <td>3</td>\n",
              "      <td>카페노티드 청담</td>\n",
              "      <td>최고예요</td>\n",
              "      <td>5점</td>\n",
              "    </tr>\n",
              "    <tr>\n",
              "      <th>4</th>\n",
              "      <td>4</td>\n",
              "      <td>카페노티드 청담</td>\n",
              "      <td>빵들 다 맛있고 저렴한데다 매장 분위기도 좋은데 직원들끼리 좀 소통이 안되는 느낌이...</td>\n",
              "      <td>3점</td>\n",
              "    </tr>\n",
              "    <tr>\n",
              "      <th>5</th>\n",
              "      <td>5</td>\n",
              "      <td>카페노티드 청담</td>\n",
              "      <td>최고예요</td>\n",
              "      <td>5점</td>\n",
              "    </tr>\n",
              "    <tr>\n",
              "      <th>6</th>\n",
              "      <td>6</td>\n",
              "      <td>카페노티드 청담</td>\n",
              "      <td>먹고싶었는데 많이 안달아서 진짜 더 좋았던거같아요 줄 정리도 빨라서 좋았습니다</td>\n",
              "      <td>5점</td>\n",
              "    </tr>\n",
              "    <tr>\n",
              "      <th>7</th>\n",
              "      <td>7</td>\n",
              "      <td>카페노티드 청담</td>\n",
              "      <td>최고예요</td>\n",
              "      <td>5점</td>\n",
              "    </tr>\n",
              "    <tr>\n",
              "      <th>8</th>\n",
              "      <td>8</td>\n",
              "      <td>카페노티드 청담</td>\n",
              "      <td>노티드 맛있어요 ㅠㅠㅍ</td>\n",
              "      <td>5점</td>\n",
              "    </tr>\n",
              "    <tr>\n",
              "      <th>9</th>\n",
              "      <td>9</td>\n",
              "      <td>카페노티드 청담</td>\n",
              "      <td>아쉬워요ㅠㅠ처음 노티드 알게 되고 먹었을 때의 설렘과 감동이 어느 순간부터는 안 느...</td>\n",
              "      <td>3점</td>\n",
              "    </tr>\n",
              "    <tr>\n",
              "      <th>10</th>\n",
              "      <td>10</td>\n",
              "      <td>카페노티드 청담</td>\n",
              "      <td>최고예요</td>\n",
              "      <td>5점</td>\n",
              "    </tr>\n",
              "    <tr>\n",
              "      <th>11</th>\n",
              "      <td>11</td>\n",
              "      <td>카페노티드 청담</td>\n",
              "      <td>느끼하지 않고 막 달지 않아서 난 맛있던뎅, 개취인듯. 커피도 무난함.</td>\n",
              "      <td>4점</td>\n",
              "    </tr>\n",
              "    <tr>\n",
              "      <th>12</th>\n",
              "      <td>12</td>\n",
              "      <td>카페노티드 청담</td>\n",
              "      <td>최고예요</td>\n",
              "      <td>5점</td>\n",
              "    </tr>\n",
              "    <tr>\n",
              "      <th>13</th>\n",
              "      <td>13</td>\n",
              "      <td>카페노티드 청담</td>\n",
              "      <td>당 떨어질 때 꼭 가보세요.</td>\n",
              "      <td>5점</td>\n",
              "    </tr>\n",
              "    <tr>\n",
              "      <th>14</th>\n",
              "      <td>14</td>\n",
              "      <td>카페노티드 청담</td>\n",
              "      <td>최고예요</td>\n",
              "      <td>5점</td>\n",
              "    </tr>\n",
              "    <tr>\n",
              "      <th>15</th>\n",
              "      <td>15</td>\n",
              "      <td>카페노티드 청담</td>\n",
              "      <td>노티드는 사랑</td>\n",
              "      <td>4점</td>\n",
              "    </tr>\n",
              "    <tr>\n",
              "      <th>16</th>\n",
              "      <td>16</td>\n",
              "      <td>카페노티드 청담</td>\n",
              "      <td>줄 길었는데 맛은 걍 쏘쏘</td>\n",
              "      <td>4점</td>\n",
              "    </tr>\n",
              "    <tr>\n",
              "      <th>17</th>\n",
              "      <td>17</td>\n",
              "      <td>카페노티드 청담</td>\n",
              "      <td>최고예요</td>\n",
              "      <td>5점</td>\n",
              "    </tr>\n",
              "    <tr>\n",
              "      <th>18</th>\n",
              "      <td>18</td>\n",
              "      <td>카페노티드 청담</td>\n",
              "      <td>낮에 사서 바로 먹을때 맛났는데 저녁에 먹으니 빵이 딱딱해지고 감흥이 없네 그리고 ...</td>\n",
              "      <td>3점</td>\n",
              "    </tr>\n",
              "    <tr>\n",
              "      <th>19</th>\n",
              "      <td>19</td>\n",
              "      <td>카페노티드 청담</td>\n",
              "      <td>맛있는데 줄 엄청 길어짐 음료는 그닥</td>\n",
              "      <td>3점</td>\n",
              "    </tr>\n",
              "    <tr>\n",
              "      <th>20</th>\n",
              "      <td>20</td>\n",
              "      <td>카페노티드 청담</td>\n",
              "      <td>귀엽</td>\n",
              "      <td>5점</td>\n",
              "    </tr>\n",
              "    <tr>\n",
              "      <th>21</th>\n",
              "      <td>21</td>\n",
              "      <td>카페노티드 청담</td>\n",
              "      <td>ㅈㅁㅌ</td>\n",
              "      <td>4점</td>\n",
              "    </tr>\n",
              "    <tr>\n",
              "      <th>22</th>\n",
              "      <td>22</td>\n",
              "      <td>카페노티드 청담</td>\n",
              "      <td>커스터드크림 진해요. 명란빵은 별로. 빵 자체가 맛있지는 않음..</td>\n",
              "      <td>4점</td>\n",
              "    </tr>\n",
              "    <tr>\n",
              "      <th>23</th>\n",
              "      <td>23</td>\n",
              "      <td>카페노티드 청담</td>\n",
              "      <td>맛있는 던킨도넛 딱 그 말이 맞다</td>\n",
              "      <td>3점</td>\n",
              "    </tr>\n",
              "    <tr>\n",
              "      <th>24</th>\n",
              "      <td>24</td>\n",
              "      <td>카페노티드 청담</td>\n",
              "      <td>좀 더 맛있는 던킨도넛 이즈니버터도넛: 밍밍한데 묘하게 맛남 스마일케이크: 촉촉 부...</td>\n",
              "      <td>4점</td>\n",
              "    </tr>\n",
              "    <tr>\n",
              "      <th>25</th>\n",
              "      <td>25</td>\n",
              "      <td>카페노티드 청담</td>\n",
              "      <td>마싯긴한데 단건 너무 담 &amp; 사람이 조오오올라게 많음</td>\n",
              "      <td>3점</td>\n",
              "    </tr>\n",
              "    <tr>\n",
              "      <th>26</th>\n",
              "      <td>26</td>\n",
              "      <td>카페노티드 청담</td>\n",
              "      <td>우유생크림짱 인테리어 이사가고나서 감성은 조금 떨어졌으나 좌석 많아져서 굿</td>\n",
              "      <td>5점</td>\n",
              "    </tr>\n",
              "    <tr>\n",
              "      <th>27</th>\n",
              "      <td>27</td>\n",
              "      <td>카페노티드 청담</td>\n",
              "      <td>궁금해서 한번쯤 먹어볼만한 ㅎㅎ</td>\n",
              "      <td>3점</td>\n",
              "    </tr>\n",
              "  </tbody>\n",
              "</table>\n",
              "</div>"
            ],
            "text/plain": [
              "    Unnamed: 0         0                                                  1   2\n",
              "0            0  카페노티드 청담  도넛 맛은 맛있음 대신 포장해서 갈거면 인내심 길러가야함 뭔가 포장하는 방식이 바뀌...  3점\n",
              "1            1  카페노티드 청담  계산해주는 직원도 불친절하고 크로플도 두개시켰는데 집에 와서 열어보니 한개만 줬네요...  1점\n",
              "2            2  카페노티드 청담                                                좋아요  4점\n",
              "3            3  카페노티드 청담                                               최고예요  5점\n",
              "4            4  카페노티드 청담  빵들 다 맛있고 저렴한데다 매장 분위기도 좋은데 직원들끼리 좀 소통이 안되는 느낌이...  3점\n",
              "5            5  카페노티드 청담                                               최고예요  5점\n",
              "6            6  카페노티드 청담        먹고싶었는데 많이 안달아서 진짜 더 좋았던거같아요 줄 정리도 빨라서 좋았습니다  5점\n",
              "7            7  카페노티드 청담                                               최고예요  5점\n",
              "8            8  카페노티드 청담                                       노티드 맛있어요 ㅠㅠㅍ  5점\n",
              "9            9  카페노티드 청담  아쉬워요ㅠㅠ처음 노티드 알게 되고 먹었을 때의 설렘과 감동이 어느 순간부터는 안 느...  3점\n",
              "10          10  카페노티드 청담                                               최고예요  5점\n",
              "11          11  카페노티드 청담           느끼하지 않고 막 달지 않아서 난 맛있던뎅, 개취인듯. 커피도 무난함.   4점\n",
              "12          12  카페노티드 청담                                               최고예요  5점\n",
              "13          13  카페노티드 청담                                    당 떨어질 때 꼭 가보세요.  5점\n",
              "14          14  카페노티드 청담                                               최고예요  5점\n",
              "15          15  카페노티드 청담                                            노티드는 사랑  4점\n",
              "16          16  카페노티드 청담                                     줄 길었는데 맛은 걍 쏘쏘  4점\n",
              "17          17  카페노티드 청담                                               최고예요  5점\n",
              "18          18  카페노티드 청담  낮에 사서 바로 먹을때 맛났는데 저녁에 먹으니 빵이 딱딱해지고 감흥이 없네 그리고 ...  3점\n",
              "19          19  카페노티드 청담                               맛있는데 줄 엄청 길어짐 음료는 그닥  3점\n",
              "20          20  카페노티드 청담                                                 귀엽  5점\n",
              "21          21  카페노티드 청담                                                ㅈㅁㅌ  4점\n",
              "22          22  카페노티드 청담               커스터드크림 진해요. 명란빵은 별로. 빵 자체가 맛있지는 않음..  4점\n",
              "23          23  카페노티드 청담                                 맛있는 던킨도넛 딱 그 말이 맞다  3점\n",
              "24          24  카페노티드 청담  좀 더 맛있는 던킨도넛 이즈니버터도넛: 밍밍한데 묘하게 맛남 스마일케이크: 촉촉 부...  4점\n",
              "25          25  카페노티드 청담                      마싯긴한데 단건 너무 담 & 사람이 조오오올라게 많음  3점\n",
              "26          26  카페노티드 청담          우유생크림짱 인테리어 이사가고나서 감성은 조금 떨어졌으나 좌석 많아져서 굿  5점\n",
              "27          27  카페노티드 청담                                  궁금해서 한번쯤 먹어볼만한 ㅎㅎ  3점"
            ]
          },
          "metadata": {
            "tags": []
          },
          "execution_count": 16
        }
      ]
    },
    {
      "cell_type": "code",
      "metadata": {
        "id": "hX-O8hriMaAv"
      },
      "source": [
        "import re\r\n",
        "\r\n",
        "punct = \"/-'?!.,#$%\\'()*+-/:;<=>@[\\\\]^_`{|}~\" + '\"\"“”’' + '∞θ÷α•à−β∅³π‘₹´°£€\\×™√²—–&' \r\n",
        "punct_mapping = {\"‘\": \"'\", \"₹\": \"e\", \"´\": \"'\", \"°\": \"\", \"€\": \"e\", \"™\": \"tm\", \"√\": \" sqrt \", \"×\": \"x\", \"²\": \"2\",\r\n",
        "                 \"—\": \"-\", \"–\": \"-\", \"’\": \"'\", \"_\": \"-\", \"`\": \"'\", '“': '\"', '”': '\"', '“': '\"', \"£\": \"e\", '∞': 'infinity', \r\n",
        "                 'θ': 'theta', '÷': '/', 'α': 'alpha', '•': '.', 'à': 'a', '−': '-', 'β': 'beta', '∅': '', '³': '3', 'π': 'pi'} \r\n",
        "\r\n",
        "def clean_punc(text, punct, mapping): \r\n",
        "  for p in mapping: \r\n",
        "    text = text.replace(p, mapping[p]) \r\n",
        "  for p in punct: \r\n",
        "    text = text.replace(p, f' {p} ') \r\n",
        "    specials = {'\\u200b': ' ', '…': ' ... ', '\\ufeff': '', 'करना': '', 'है': ''} \r\n",
        "  for s in specials: \r\n",
        "    text = text.replace(s, specials[s]) \r\n",
        "   \r\n",
        "  return text.strip() \r\n",
        "\r\n",
        "\r\n",
        "\r\n",
        "def clean_text(texts): \r\n",
        "  corpus = [] \r\n",
        "  for i in range(0, len(texts)): \r\n",
        "    review = re.sub(r'[@%\\\\*=()/~#&\\+á?\\xc3\\xa1\\-\\|\\.\\:\\;\\!\\-\\,\\_\\~\\$\\'\\\"]', '',str(texts[i])) #remove punctuation \r\n",
        "    review = re.sub(r'\\d+','', str(texts[i]))# remove number \r\n",
        "    review = review.lower() #lower case \r\n",
        "    review = re.sub(r'\\s+', ' ', review) #remove extra space \r\n",
        "    review = re.sub(r'<[^>]+>','',review) #remove Html tags \r\n",
        "    review = re.sub(r'\\s+', ' ', review) #remove spaces \r\n",
        "    review = re.sub(r\"^\\s+\", '', review) #remove space from start \r\n",
        "    review = re.sub(r'\\s+$', '', review) #remove space from the end \r\n",
        "    review = re.sub(r'♥','',review)\r\n",
        "    review = re.sub(r'~','',review)\r\n",
        "    review = re.sub(r'😱','',review)\r\n",
        "    corpus.append(review) \r\n",
        "  return corpus\r\n",
        "\r\n",
        "\r\n",
        "\r\n",
        "# removing emoji\r\n",
        "\r\n",
        "def rmEmoji(text):\r\n",
        "  review = text.encode('utf-8', 'ignore').decode('utf-8')\r\n",
        "  return review\r\n",
        "\r\n",
        "def rmEmoji_ascii(inputString):\r\n",
        "  review = example.encode('ascii','ignore').decode('ascii')\r\n",
        "  return review\r\n"
      ],
      "execution_count": 3,
      "outputs": []
    },
    {
      "cell_type": "code",
      "metadata": {
        "colab": {
          "base_uri": "https://localhost:8080/"
        },
        "id": "H9xpurNkMm-j",
        "outputId": "fe46ee4b-6ab5-4c11-c87a-310426182581"
      },
      "source": [
        "!pip install git+https://github.com/ssut/py-hanspell.git\r\n",
        "\r\n",
        "from hanspell import spell_checker\r\n",
        "def grammar_check(text):\r\n",
        "  spelled_sent = spell_checker.check(text)\r\n",
        "  hanspell_sent = spelled_sent.checked\r\n",
        "  return hanspell_sent\r\n",
        "\r\n"
      ],
      "execution_count": 4,
      "outputs": [
        {
          "output_type": "stream",
          "text": [
            "Collecting git+https://github.com/ssut/py-hanspell.git\n",
            "  Cloning https://github.com/ssut/py-hanspell.git to /tmp/pip-req-build-4gnuxnfk\n",
            "  Running command git clone -q https://github.com/ssut/py-hanspell.git /tmp/pip-req-build-4gnuxnfk\n",
            "Requirement already satisfied (use --upgrade to upgrade): py-hanspell==1.1 from git+https://github.com/ssut/py-hanspell.git in /usr/local/lib/python3.6/dist-packages\n",
            "Requirement already satisfied: requests in /usr/local/lib/python3.6/dist-packages (from py-hanspell==1.1) (2.23.0)\n",
            "Requirement already satisfied: certifi>=2017.4.17 in /usr/local/lib/python3.6/dist-packages (from requests->py-hanspell==1.1) (2020.12.5)\n",
            "Requirement already satisfied: idna<3,>=2.5 in /usr/local/lib/python3.6/dist-packages (from requests->py-hanspell==1.1) (2.10)\n",
            "Requirement already satisfied: chardet<4,>=3.0.2 in /usr/local/lib/python3.6/dist-packages (from requests->py-hanspell==1.1) (3.0.4)\n",
            "Requirement already satisfied: urllib3!=1.25.0,!=1.25.1,<1.26,>=1.21.1 in /usr/local/lib/python3.6/dist-packages (from requests->py-hanspell==1.1) (1.24.3)\n",
            "Building wheels for collected packages: py-hanspell\n",
            "  Building wheel for py-hanspell (setup.py) ... \u001b[?25l\u001b[?25hdone\n",
            "  Created wheel for py-hanspell: filename=py_hanspell-1.1-cp36-none-any.whl size=4854 sha256=c553e875cb179a83debab2fcd853650ba827288eff15733cc4eaae781bcc4347\n",
            "  Stored in directory: /tmp/pip-ephem-wheel-cache-bkjqbi72/wheels/0a/25/d1/e5e96476dbb1c318cc26c992dd493394fe42b0c204b3e65588\n",
            "Successfully built py-hanspell\n"
          ],
          "name": "stdout"
        }
      ]
    },
    {
      "cell_type": "code",
      "metadata": {
        "colab": {
          "base_uri": "https://localhost:8080/",
          "height": 35
        },
        "id": "wXlaF77BbOxG",
        "outputId": "078d9b44-2d54-47c5-fe4c-02b025f3e7d6"
      },
      "source": [
        "words = '다시는거기에가지안을꺼야'\r\n",
        "checked = grammar_check(words)\r\n",
        "checked"
      ],
      "execution_count": 15,
      "outputs": [
        {
          "output_type": "execute_result",
          "data": {
            "application/vnd.google.colaboratory.intrinsic+json": {
              "type": "string"
            },
            "text/plain": [
              "'다시는 거기에 가지 않을 거야'"
            ]
          },
          "metadata": {
            "tags": []
          },
          "execution_count": 15
        }
      ]
    },
    {
      "cell_type": "code",
      "metadata": {
        "colab": {
          "base_uri": "https://localhost:8080/"
        },
        "id": "Ha9qjGkyNxZX",
        "outputId": "cd15ec96-47aa-4c67-845f-8c91a96c6533"
      },
      "source": [
        "!pip install soynlp\r\n",
        "import urllib.request\r\n",
        "from soynlp import DoublespaceLineCorpus\r\n",
        "from soynlp.word import WordExtractor\r\n",
        "urllib.request.urlretrieve(\"https://raw.githubusercontent.com/lovit/soynlp/master/tutorials/2016-10-20.txt\", filename=\"2016-10-20.txt\")\r\n",
        "corpus = DoublespaceLineCorpus(\"2016-10-20.txt\")\r\n",
        "word_extractor = WordExtractor()\r\n",
        "word_extractor.train(corpus)\r\n",
        "word_score_table = word_extractor.extract()\r\n",
        "\r\n",
        "from soynlp.tokenizer import LTokenizer\r\n",
        "scores = {word:score.cohesion_forward for word, score in word_score_table.items()}\r\n",
        "l_tokenizer = LTokenizer(scores=scores)\r\n",
        "\r\n",
        "def tokenizing(text):\r\n",
        "  return l_tokenizer.tokenize(text, flatten=False)\r\n"
      ],
      "execution_count": 5,
      "outputs": [
        {
          "output_type": "stream",
          "text": [
            "Requirement already satisfied: soynlp in /usr/local/lib/python3.6/dist-packages (0.0.493)\n",
            "Requirement already satisfied: scikit-learn>=0.20.0 in /usr/local/lib/python3.6/dist-packages (from soynlp) (0.22.2.post1)\n",
            "Requirement already satisfied: numpy>=1.12.1 in /usr/local/lib/python3.6/dist-packages (from soynlp) (1.19.5)\n",
            "Requirement already satisfied: scipy>=1.1.0 in /usr/local/lib/python3.6/dist-packages (from soynlp) (1.4.1)\n",
            "Requirement already satisfied: psutil>=5.0.1 in /usr/local/lib/python3.6/dist-packages (from soynlp) (5.4.8)\n",
            "Requirement already satisfied: joblib>=0.11 in /usr/local/lib/python3.6/dist-packages (from scikit-learn>=0.20.0->soynlp) (1.0.0)\n",
            "training was done. used memory 1.145 Gb\n",
            "all cohesion probabilities was computed. # words = 223348\n",
            "all branching entropies was computed # words = 361598\n",
            "all accessor variety was computed # words = 361598\n"
          ],
          "name": "stdout"
        }
      ]
    },
    {
      "cell_type": "code",
      "metadata": {
        "colab": {
          "base_uri": "https://localhost:8080/",
          "height": 35
        },
        "id": "drnodLJTZmI4",
        "outputId": "efd6a0c7-70b5-4029-c215-998205be0a47"
      },
      "source": [
        "test_sample1 = data['1'][0]\r\n",
        "test_sample1"
      ],
      "execution_count": 27,
      "outputs": [
        {
          "output_type": "execute_result",
          "data": {
            "application/vnd.google.colaboratory.intrinsic+json": {
              "type": "string"
            },
            "text/plain": [
              "'도넛 맛은 맛있음 대신 포장해서 갈거면 인내심 길러가야함 뭔가 포장하는 방식이 바뀌어야 할거같음'"
            ]
          },
          "metadata": {
            "tags": []
          },
          "execution_count": 27
        }
      ]
    },
    {
      "cell_type": "code",
      "metadata": {
        "colab": {
          "base_uri": "https://localhost:8080/",
          "height": 35
        },
        "id": "PKX2kJROamLZ",
        "outputId": "1d59af55-215b-4e19-81cb-0106eb917d49"
      },
      "source": [
        "test_sample2 = clean_punc(test_sample1, punct, punct_mapping)\r\n",
        "test_sample2"
      ],
      "execution_count": 28,
      "outputs": [
        {
          "output_type": "execute_result",
          "data": {
            "application/vnd.google.colaboratory.intrinsic+json": {
              "type": "string"
            },
            "text/plain": [
              "'도넛 맛은 맛있음 대신 포장해서 갈거면 인내심 길러가야함 뭔가 포장하는 방식이 바뀌어야 할거같음'"
            ]
          },
          "metadata": {
            "tags": []
          },
          "execution_count": 28
        }
      ]
    },
    {
      "cell_type": "code",
      "metadata": {
        "colab": {
          "base_uri": "https://localhost:8080/",
          "height": 35
        },
        "id": "v6rDLcTTamHi",
        "outputId": "d71e38e1-531d-494c-8b8c-be2abd089b48"
      },
      "source": [
        "test_sample3 = ''.join(clean_text(test_sample2))\r\n",
        "test_sample3"
      ],
      "execution_count": 29,
      "outputs": [
        {
          "output_type": "execute_result",
          "data": {
            "application/vnd.google.colaboratory.intrinsic+json": {
              "type": "string"
            },
            "text/plain": [
              "'도넛맛은맛있음대신포장해서갈거면인내심길러가야함뭔가포장하는방식이바뀌어야할거같음'"
            ]
          },
          "metadata": {
            "tags": []
          },
          "execution_count": 29
        }
      ]
    },
    {
      "cell_type": "code",
      "metadata": {
        "colab": {
          "base_uri": "https://localhost:8080/"
        },
        "id": "gefQ4fEqddai",
        "outputId": "8f797a40-7f81-4429-e97f-a6a57bab6855"
      },
      "source": [
        "!pip install git+https://github.com/haven-jeon/PyKoSpacing.git\r\n",
        "\r\n",
        "from pykospacing import spacing\r\n"
      ],
      "execution_count": 7,
      "outputs": [
        {
          "output_type": "stream",
          "text": [
            "Collecting git+https://github.com/haven-jeon/PyKoSpacing.git\n",
            "  Cloning https://github.com/haven-jeon/PyKoSpacing.git to /tmp/pip-req-build-nppv_or1\n",
            "  Running command git clone -q https://github.com/haven-jeon/PyKoSpacing.git /tmp/pip-req-build-nppv_or1\n",
            "Requirement already satisfied (use --upgrade to upgrade): pykospacing==0.4 from git+https://github.com/haven-jeon/PyKoSpacing.git in /usr/local/lib/python3.6/dist-packages\n",
            "Requirement already satisfied: tensorflow==2.4.0 in /usr/local/lib/python3.6/dist-packages (from pykospacing==0.4) (2.4.0)\n",
            "Requirement already satisfied: keras>=2.4.3 in /usr/local/lib/python3.6/dist-packages (from pykospacing==0.4) (2.4.3)\n",
            "Requirement already satisfied: h5py==2.10.0 in /usr/local/lib/python3.6/dist-packages (from pykospacing==0.4) (2.10.0)\n",
            "Requirement already satisfied: argparse>=1.4.0 in /usr/local/lib/python3.6/dist-packages (from pykospacing==0.4) (1.4.0)\n",
            "Requirement already satisfied: flatbuffers~=1.12.0 in /usr/local/lib/python3.6/dist-packages (from tensorflow==2.4.0->pykospacing==0.4) (1.12)\n",
            "Requirement already satisfied: absl-py~=0.10 in /usr/local/lib/python3.6/dist-packages (from tensorflow==2.4.0->pykospacing==0.4) (0.10.0)\n",
            "Requirement already satisfied: typing-extensions~=3.7.4 in /usr/local/lib/python3.6/dist-packages (from tensorflow==2.4.0->pykospacing==0.4) (3.7.4.3)\n",
            "Requirement already satisfied: gast==0.3.3 in /usr/local/lib/python3.6/dist-packages (from tensorflow==2.4.0->pykospacing==0.4) (0.3.3)\n",
            "Requirement already satisfied: grpcio~=1.32.0 in /usr/local/lib/python3.6/dist-packages (from tensorflow==2.4.0->pykospacing==0.4) (1.32.0)\n",
            "Requirement already satisfied: tensorboard~=2.4 in /usr/local/lib/python3.6/dist-packages (from tensorflow==2.4.0->pykospacing==0.4) (2.4.1)\n",
            "Requirement already satisfied: astunparse~=1.6.3 in /usr/local/lib/python3.6/dist-packages (from tensorflow==2.4.0->pykospacing==0.4) (1.6.3)\n",
            "Requirement already satisfied: termcolor~=1.1.0 in /usr/local/lib/python3.6/dist-packages (from tensorflow==2.4.0->pykospacing==0.4) (1.1.0)\n",
            "Requirement already satisfied: tensorflow-estimator<2.5.0,>=2.4.0rc0 in /usr/local/lib/python3.6/dist-packages (from tensorflow==2.4.0->pykospacing==0.4) (2.4.0)\n",
            "Requirement already satisfied: six~=1.15.0 in /usr/local/lib/python3.6/dist-packages (from tensorflow==2.4.0->pykospacing==0.4) (1.15.0)\n",
            "Requirement already satisfied: numpy~=1.19.2 in /usr/local/lib/python3.6/dist-packages (from tensorflow==2.4.0->pykospacing==0.4) (1.19.5)\n",
            "Requirement already satisfied: keras-preprocessing~=1.1.2 in /usr/local/lib/python3.6/dist-packages (from tensorflow==2.4.0->pykospacing==0.4) (1.1.2)\n",
            "Requirement already satisfied: wrapt~=1.12.1 in /usr/local/lib/python3.6/dist-packages (from tensorflow==2.4.0->pykospacing==0.4) (1.12.1)\n",
            "Requirement already satisfied: opt-einsum~=3.3.0 in /usr/local/lib/python3.6/dist-packages (from tensorflow==2.4.0->pykospacing==0.4) (3.3.0)\n",
            "Requirement already satisfied: protobuf>=3.9.2 in /usr/local/lib/python3.6/dist-packages (from tensorflow==2.4.0->pykospacing==0.4) (3.12.4)\n",
            "Requirement already satisfied: wheel~=0.35 in /usr/local/lib/python3.6/dist-packages (from tensorflow==2.4.0->pykospacing==0.4) (0.36.2)\n",
            "Requirement already satisfied: google-pasta~=0.2 in /usr/local/lib/python3.6/dist-packages (from tensorflow==2.4.0->pykospacing==0.4) (0.2.0)\n",
            "Requirement already satisfied: scipy>=0.14 in /usr/local/lib/python3.6/dist-packages (from keras>=2.4.3->pykospacing==0.4) (1.4.1)\n",
            "Requirement already satisfied: pyyaml in /usr/local/lib/python3.6/dist-packages (from keras>=2.4.3->pykospacing==0.4) (3.13)\n",
            "Requirement already satisfied: werkzeug>=0.11.15 in /usr/local/lib/python3.6/dist-packages (from tensorboard~=2.4->tensorflow==2.4.0->pykospacing==0.4) (1.0.1)\n",
            "Requirement already satisfied: markdown>=2.6.8 in /usr/local/lib/python3.6/dist-packages (from tensorboard~=2.4->tensorflow==2.4.0->pykospacing==0.4) (3.3.3)\n",
            "Requirement already satisfied: requests<3,>=2.21.0 in /usr/local/lib/python3.6/dist-packages (from tensorboard~=2.4->tensorflow==2.4.0->pykospacing==0.4) (2.23.0)\n",
            "Requirement already satisfied: setuptools>=41.0.0 in /usr/local/lib/python3.6/dist-packages (from tensorboard~=2.4->tensorflow==2.4.0->pykospacing==0.4) (53.0.0)\n",
            "Requirement already satisfied: google-auth-oauthlib<0.5,>=0.4.1 in /usr/local/lib/python3.6/dist-packages (from tensorboard~=2.4->tensorflow==2.4.0->pykospacing==0.4) (0.4.2)\n",
            "Requirement already satisfied: tensorboard-plugin-wit>=1.6.0 in /usr/local/lib/python3.6/dist-packages (from tensorboard~=2.4->tensorflow==2.4.0->pykospacing==0.4) (1.8.0)\n",
            "Requirement already satisfied: google-auth<2,>=1.6.3 in /usr/local/lib/python3.6/dist-packages (from tensorboard~=2.4->tensorflow==2.4.0->pykospacing==0.4) (1.25.0)\n",
            "Requirement already satisfied: importlib-metadata; python_version < \"3.8\" in /usr/local/lib/python3.6/dist-packages (from markdown>=2.6.8->tensorboard~=2.4->tensorflow==2.4.0->pykospacing==0.4) (3.4.0)\n",
            "Requirement already satisfied: idna<3,>=2.5 in /usr/local/lib/python3.6/dist-packages (from requests<3,>=2.21.0->tensorboard~=2.4->tensorflow==2.4.0->pykospacing==0.4) (2.10)\n",
            "Requirement already satisfied: urllib3!=1.25.0,!=1.25.1,<1.26,>=1.21.1 in /usr/local/lib/python3.6/dist-packages (from requests<3,>=2.21.0->tensorboard~=2.4->tensorflow==2.4.0->pykospacing==0.4) (1.24.3)\n",
            "Requirement already satisfied: certifi>=2017.4.17 in /usr/local/lib/python3.6/dist-packages (from requests<3,>=2.21.0->tensorboard~=2.4->tensorflow==2.4.0->pykospacing==0.4) (2020.12.5)\n",
            "Requirement already satisfied: chardet<4,>=3.0.2 in /usr/local/lib/python3.6/dist-packages (from requests<3,>=2.21.0->tensorboard~=2.4->tensorflow==2.4.0->pykospacing==0.4) (3.0.4)\n",
            "Requirement already satisfied: requests-oauthlib>=0.7.0 in /usr/local/lib/python3.6/dist-packages (from google-auth-oauthlib<0.5,>=0.4.1->tensorboard~=2.4->tensorflow==2.4.0->pykospacing==0.4) (1.3.0)\n",
            "Requirement already satisfied: rsa<5,>=3.1.4; python_version >= \"3.6\" in /usr/local/lib/python3.6/dist-packages (from google-auth<2,>=1.6.3->tensorboard~=2.4->tensorflow==2.4.0->pykospacing==0.4) (4.7)\n",
            "Requirement already satisfied: pyasn1-modules>=0.2.1 in /usr/local/lib/python3.6/dist-packages (from google-auth<2,>=1.6.3->tensorboard~=2.4->tensorflow==2.4.0->pykospacing==0.4) (0.2.8)\n",
            "Requirement already satisfied: cachetools<5.0,>=2.0.0 in /usr/local/lib/python3.6/dist-packages (from google-auth<2,>=1.6.3->tensorboard~=2.4->tensorflow==2.4.0->pykospacing==0.4) (4.2.1)\n",
            "Requirement already satisfied: zipp>=0.5 in /usr/local/lib/python3.6/dist-packages (from importlib-metadata; python_version < \"3.8\"->markdown>=2.6.8->tensorboard~=2.4->tensorflow==2.4.0->pykospacing==0.4) (3.4.0)\n",
            "Requirement already satisfied: oauthlib>=3.0.0 in /usr/local/lib/python3.6/dist-packages (from requests-oauthlib>=0.7.0->google-auth-oauthlib<0.5,>=0.4.1->tensorboard~=2.4->tensorflow==2.4.0->pykospacing==0.4) (3.1.0)\n",
            "Requirement already satisfied: pyasn1>=0.1.3 in /usr/local/lib/python3.6/dist-packages (from rsa<5,>=3.1.4; python_version >= \"3.6\"->google-auth<2,>=1.6.3->tensorboard~=2.4->tensorflow==2.4.0->pykospacing==0.4) (0.4.8)\n",
            "Building wheels for collected packages: pykospacing\n",
            "  Building wheel for pykospacing (setup.py) ... \u001b[?25l\u001b[?25hdone\n",
            "  Created wheel for pykospacing: filename=pykospacing-0.4-cp36-none-any.whl size=2255638 sha256=aae5737c68ce03e1351e4325fc1c8dcf2707125bb6f428d74850a917ad0517b9\n",
            "  Stored in directory: /tmp/pip-ephem-wheel-cache-41lyqwg9/wheels/4d/45/58/e26cb2b7f6a063d234158c6fd1e5700f6e15b99d67154340ba\n",
            "Successfully built pykospacing\n"
          ],
          "name": "stdout"
        }
      ]
    },
    {
      "cell_type": "code",
      "metadata": {
        "colab": {
          "base_uri": "https://localhost:8080/",
          "height": 35
        },
        "id": "pGqZqGi-amEb",
        "outputId": "aefc4e6e-b650-45d5-b4c9-c7b2698f5677"
      },
      "source": [
        "test_sample5 = grammar_check(test_sample4)\r\n",
        "test_sample5"
      ],
      "execution_count": 33,
      "outputs": [
        {
          "output_type": "execute_result",
          "data": {
            "application/vnd.google.colaboratory.intrinsic+json": {
              "type": "string"
            },
            "text/plain": [
              "'도넛 맛은 맛있음 대신 포장해서 갈 거면 인내심 길러 가야 함 뭔가 포장하는 방식이 바뀌어야 할 거 같음'"
            ]
          },
          "metadata": {
            "tags": []
          },
          "execution_count": 33
        }
      ]
    },
    {
      "cell_type": "code",
      "metadata": {
        "colab": {
          "base_uri": "https://localhost:8080/"
        },
        "id": "iblR3bFfal_G",
        "outputId": "f2bffb8d-65a7-4da7-eee2-ecc09da249bc"
      },
      "source": [
        "test_sample6 = tokenizing(test_sample5)\r\n",
        "test_sample6"
      ],
      "execution_count": 34,
      "outputs": [
        {
          "output_type": "execute_result",
          "data": {
            "text/plain": [
              "[('도넛', ''),\n",
              " ('맛은', ''),\n",
              " ('맛있', '음'),\n",
              " ('대신', ''),\n",
              " ('포장해서', ''),\n",
              " ('갈', ''),\n",
              " ('거면', ''),\n",
              " ('인내심', ''),\n",
              " ('길러', ''),\n",
              " ('가야', ''),\n",
              " ('함', ''),\n",
              " ('뭔가', ''),\n",
              " ('포장하는', ''),\n",
              " ('방식이', ''),\n",
              " ('바뀌어야', ''),\n",
              " ('할', ''),\n",
              " ('거', ''),\n",
              " ('같음', '')]"
            ]
          },
          "metadata": {
            "tags": []
          },
          "execution_count": 34
        }
      ]
    },
    {
      "cell_type": "code",
      "metadata": {
        "id": "sr_xayGHOx0q"
      },
      "source": [
        "# normalizer는 아직 미완\r\n",
        "from soynlp.normalizer import *\r\n"
      ],
      "execution_count": 6,
      "outputs": []
    },
    {
      "cell_type": "code",
      "metadata": {
        "colab": {
          "base_uri": "https://localhost:8080/"
        },
        "id": "YZPcf4a5O8IC",
        "outputId": "6d4c27c7-c490-4840-ad66-a945f0c3e2c5"
      },
      "source": [
        "!pip install konlpy \r\n",
        "from konlpy.tag import Okt\r\n",
        "okt = Okt()\r\n",
        "\r\n",
        "def tokenize_tagged(text):\r\n",
        "  #형태소와 품사를 join\r\n",
        "\r\n",
        "  temp_X = okt.pos(text, norm=True, stem=True) # 토큰화\r\n",
        "  temp_X = [word for word in temp_X if not word in stop_words] # 불용어 제거\r\n",
        "  return ['/'.join(t) for t in temp_X]\r\n",
        "  \r\n",
        "  #return ['/'.join(t) for t in okt.pos(text, norm=True, stem=True)]"
      ],
      "execution_count": 11,
      "outputs": [
        {
          "output_type": "stream",
          "text": [
            "Requirement already satisfied: konlpy in /usr/local/lib/python3.6/dist-packages (0.5.2)\n",
            "Requirement already satisfied: JPype1>=0.7.0 in /usr/local/lib/python3.6/dist-packages (from konlpy) (1.2.1)\n",
            "Requirement already satisfied: colorama in /usr/local/lib/python3.6/dist-packages (from konlpy) (0.4.4)\n",
            "Requirement already satisfied: lxml>=4.1.0 in /usr/local/lib/python3.6/dist-packages (from konlpy) (4.2.6)\n",
            "Requirement already satisfied: tweepy>=3.7.0 in /usr/local/lib/python3.6/dist-packages (from konlpy) (3.10.0)\n",
            "Requirement already satisfied: numpy>=1.6 in /usr/local/lib/python3.6/dist-packages (from konlpy) (1.19.5)\n",
            "Requirement already satisfied: beautifulsoup4==4.6.0 in /usr/local/lib/python3.6/dist-packages (from konlpy) (4.6.0)\n",
            "Requirement already satisfied: typing-extensions; python_version < \"3.8\" in /usr/local/lib/python3.6/dist-packages (from JPype1>=0.7.0->konlpy) (3.7.4.3)\n",
            "Requirement already satisfied: requests-oauthlib>=0.7.0 in /usr/local/lib/python3.6/dist-packages (from tweepy>=3.7.0->konlpy) (1.3.0)\n",
            "Requirement already satisfied: requests[socks]>=2.11.1 in /usr/local/lib/python3.6/dist-packages (from tweepy>=3.7.0->konlpy) (2.23.0)\n",
            "Requirement already satisfied: six>=1.10.0 in /usr/local/lib/python3.6/dist-packages (from tweepy>=3.7.0->konlpy) (1.15.0)\n",
            "Requirement already satisfied: oauthlib>=3.0.0 in /usr/local/lib/python3.6/dist-packages (from requests-oauthlib>=0.7.0->tweepy>=3.7.0->konlpy) (3.1.0)\n",
            "Requirement already satisfied: idna<3,>=2.5 in /usr/local/lib/python3.6/dist-packages (from requests[socks]>=2.11.1->tweepy>=3.7.0->konlpy) (2.10)\n",
            "Requirement already satisfied: chardet<4,>=3.0.2 in /usr/local/lib/python3.6/dist-packages (from requests[socks]>=2.11.1->tweepy>=3.7.0->konlpy) (3.0.4)\n",
            "Requirement already satisfied: certifi>=2017.4.17 in /usr/local/lib/python3.6/dist-packages (from requests[socks]>=2.11.1->tweepy>=3.7.0->konlpy) (2020.12.5)\n",
            "Requirement already satisfied: urllib3!=1.25.0,!=1.25.1,<1.26,>=1.21.1 in /usr/local/lib/python3.6/dist-packages (from requests[socks]>=2.11.1->tweepy>=3.7.0->konlpy) (1.24.3)\n",
            "Requirement already satisfied: PySocks!=1.5.7,>=1.5.6; extra == \"socks\" in /usr/local/lib/python3.6/dist-packages (from requests[socks]>=2.11.1->tweepy>=3.7.0->konlpy) (1.7.1)\n"
          ],
          "name": "stdout"
        }
      ]
    },
    {
      "cell_type": "code",
      "metadata": {
        "colab": {
          "base_uri": "https://localhost:8080/"
        },
        "id": "HPa-yQZ0hHUc",
        "outputId": "eaf3e037-82b1-41c9-9020-5b440d3fd573"
      },
      "source": [
        "# stemming\r\n",
        "!pip install soylemma==0.2.0\r\n",
        "from soylemma import Lemmatizer\r\n",
        "\r\n",
        "lemmatizer = Lemmatizer()\r\n",
        "\r\n",
        "# or\r\n",
        "lemmatizer = Lemmatizer(dictionary_name='default')\r\n",
        "\r\n",
        "text = '달렸는데'\r\n",
        "print(lemmatizer.lemmatize(text))"
      ],
      "execution_count": 40,
      "outputs": [
        {
          "output_type": "stream",
          "text": [
            "Collecting soylemma==0.2.0\n",
            "\u001b[?25l  Downloading https://files.pythonhosted.org/packages/03/f5/d612c52b363a1e04b2df6dbde86bedd84035ba3d07651c586dcfdac50b53/soylemma-0.2.0-py3-none-any.whl (124kB)\n",
            "\r\u001b[K     |██▋                             | 10kB 17.5MB/s eta 0:00:01\r\u001b[K     |█████▎                          | 20kB 22.0MB/s eta 0:00:01\r\u001b[K     |████████                        | 30kB 10.9MB/s eta 0:00:01\r\u001b[K     |██████████▋                     | 40kB 8.7MB/s eta 0:00:01\r\u001b[K     |█████████████▏                  | 51kB 7.1MB/s eta 0:00:01\r\u001b[K     |███████████████▉                | 61kB 6.9MB/s eta 0:00:01\r\u001b[K     |██████████████████▌             | 71kB 7.2MB/s eta 0:00:01\r\u001b[K     |█████████████████████▏          | 81kB 8.0MB/s eta 0:00:01\r\u001b[K     |███████████████████████▊        | 92kB 7.8MB/s eta 0:00:01\r\u001b[K     |██████████████████████████▍     | 102kB 8.1MB/s eta 0:00:01\r\u001b[K     |█████████████████████████████   | 112kB 8.1MB/s eta 0:00:01\r\u001b[K     |███████████████████████████████▊| 122kB 8.1MB/s eta 0:00:01\r\u001b[K     |████████████████████████████████| 133kB 8.1MB/s \n",
            "\u001b[?25hInstalling collected packages: soylemma\n",
            "Successfully installed soylemma-0.2.0\n",
            "[('달리다', 'Verb')]\n"
          ],
          "name": "stdout"
        }
      ]
    },
    {
      "cell_type": "code",
      "metadata": {
        "colab": {
          "base_uri": "https://localhost:8080/"
        },
        "id": "Y-4rmITWk24C",
        "outputId": "a256b7b1-92e4-41da-cf6f-51fdb944f7fe"
      },
      "source": [
        "text = '달리다'\r\n",
        "lemmatizer.lemmatize(text)"
      ],
      "execution_count": 55,
      "outputs": [
        {
          "output_type": "execute_result",
          "data": {
            "text/plain": [
              "[]"
            ]
          },
          "metadata": {
            "tags": []
          },
          "execution_count": 55
        }
      ]
    },
    {
      "cell_type": "code",
      "metadata": {
        "colab": {
          "base_uri": "https://localhost:8080/",
          "height": 1000
        },
        "id": "KomjWlTjQCtt",
        "outputId": "2aa0dfcc-bc26-4c0d-83ef-713191cb9035"
      },
      "source": [
        "#main()\r\n",
        "token_list = []\r\n",
        "i = 0\r\n",
        "for text in data['1']:\r\n",
        "  i += 1\r\n",
        "  print(str(i) + '번째 리뷰!')\r\n",
        "  text1 = clean_punc(text, punct, punct_mapping)\r\n",
        "  text2 = ''.join(clean_text(text1))\r\n",
        "  text3 = spacing(text2)\r\n",
        "  text4 = grammar_check(text3)\r\n",
        "  text5 = tokenizing(text4)\r\n",
        "  text_ = tokenize_tagged(text4)\r\n",
        "  token_list.append(text_)\r\n",
        "\r\n",
        "  print(text_)"
      ],
      "execution_count": 14,
      "outputs": [
        {
          "output_type": "stream",
          "text": [
            "1번째 리뷰!\n",
            "['도넛/Noun', '맛/Noun', '은/Josa', '맛있다/Adjective', '대신/Noun', '포장/Noun', '하다/Verb', '갈다/Verb', '거/Noun', '면/Josa', '인내심/Noun', '기르다/Verb', '가야/Noun', '함/Noun', '뭔가/Noun', '포장/Noun', '하다/Verb', '방식/Noun', '이/Josa', '바뀌다/Verb', '하다/Verb', '거/Noun', '같다/Adjective']\n",
            "2번째 리뷰!\n",
            "['계산/Noun', '해주다/Verb', '직원/Noun', '도/Josa', '불친절하다/Adjective', '크다/Verb', '프로도/Noun', '두/Noun', '개시/Noun', '켜다/Verb', '집/Noun', '에/Josa', '오다/Verb', '열/Modifier', '어보/Noun', '니/Josa', '하다/Verb', '개/Noun', '만/Josa', '주다/Verb', '...../Punctuation', '다시다/Verb', '안/Noun', '갈다/Verb', '예정/Noun', '이다/Adjective', '../Punctuation']\n",
            "3번째 리뷰!\n",
            "['좋다/Adjective']\n",
            "4번째 리뷰!\n",
            "['최고/Noun', '예요/Josa']\n",
            "5번째 리뷰!\n",
            "['빵/Noun', '들/Suffix', '더/Noun', '맛있다/Adjective', '저렴하다/Adjective', '데/Noun', '다/Josa', '매장/Noun', '분위기/Noun', '도/Josa', '좋다/Adjective', '직원/Noun', '들/Suffix', '끼리/Noun', '좀/Noun', '소통/Noun', '이/Josa', '안/Noun', '되다/Verb', '느낌/Noun', '이라/Josa', '아쉽다/Adjective', '계산/Noun', '하다/Verb', '때/Noun', '빵/Noun', '은/Josa', '어디서/Adverb', '받다/Verb', '케이크/Noun', '는/Josa', '어디서/Adverb', '받다/Verb', '미리/Noun', '말씀/Noun', '해주다/Verb', '../Punctuation']\n",
            "6번째 리뷰!\n",
            "['최고/Noun', '예요/Josa']\n",
            "7번째 리뷰!\n",
            "['먹다/Verb', '싶다/Verb', '많이/Adverb', '안/Noun', '달다/Verb', '진짜/Noun', '더/Noun', '좋다/Adjective', '거/Noun', '같다/Adjective', '줄/Noun', '정리/Noun', '도/Josa', '빨/Noun', '라서/Josa', '좋다/Adjective']\n",
            "8번째 리뷰!\n",
            "['최고/Noun', '예요/Josa']\n",
            "9번째 리뷰!\n",
            "['노/Noun', '티스/Noun', '맛있다/Adjective', 'ㅠㅠㅍ/KoreanParticle']\n",
            "10번째 리뷰!\n",
            "['아쉽다/Adjective', 'ㅠㅠ/KoreanParticle', '처음/Noun', '노/Noun', '티스/Noun', '알/Noun', '게/Josa', '되다/Verb', '먹다/Verb', '때/Noun', '의/Josa', '설레다/Adjective', '감동/Noun', '이/Josa', '어느/Adverb', '순간/Noun', '부터는/Josa', '안/Noun', '느껴지다/Verb', './Punctuation', '하다/Verb', '입/Noun', '베다/Verb', '물/Noun', '고/Josa', '눈/Noun', '이/Josa', '뜨이다/Verb', '오다/Verb', '진짜/Noun', '빵/Noun', '이/Josa', '이렇게/Adverb', '다르다/Adjective', '수/Noun', '있다/Adjective', '하다/Verb', '그땐/Noun', '돈/Noun', '이/Josa', '없다/Adjective', '한두/Modifier', '개/Noun', '밖에/Josa', '못/Noun', '먹다/Verb', '지금/Noun', '은/Josa', '많이/Adverb', '살/Noun', '수/Noun', '있다/Adjective', '감동/Noun', '의/Josa', '맛/Noun', '이/Josa', '없다/Adjective', 'ㅜㅜ/KoreanParticle', '그렇게/Adverb', '되다/Verb', '지다/Verb', '몇/Noun', '번/Noun', '돼다/Verb', '혹시/Noun', '나/Josa', '혹시/Noun', '나/Josa', '하다/Verb', '기/Modifier', '대감/Noun', '에/Josa', ',/Punctuation', '처음/Noun', '그/Noun', '맛/Noun', '을/Josa', '잊다/Verb', '수가/Noun', '없다/Adjective', '또/Noun', '사/Noun', '먹다/Verb', '.../Punctuation']\n",
            "11번째 리뷰!\n",
            "['최고/Noun', '예요/Josa']\n",
            "12번째 리뷰!\n",
            "['느끼하다/Adjective', '않다/Verb', '막/Noun', '달리/Noun', '않다/Verb', '난/Noun', '맛있다/Adjective', '뎅/Noun', ',/Punctuation', '개취/Noun', '인/Josa', '듯/Noun', './Punctuation', '커피/Noun', '도/Josa', '무난/Noun', '함/Noun', './Punctuation']\n",
            "13번째 리뷰!\n",
            "['최고/Noun', '예요/Josa']\n",
            "14번째 리뷰!\n",
            "['당/Noun', '떨어지다/Verb', '때/Noun', '꼭/Noun', '가보다/Verb', './Punctuation']\n",
            "15번째 리뷰!\n",
            "['최고/Noun', '예요/Josa']\n",
            "16번째 리뷰!\n",
            "['노티/Noun', '들다/Verb', '사랑/Noun']\n",
            "17번째 리뷰!\n",
            "['줄/Noun', '길다/Adjective', '맛/Noun', '은/Josa', '걍/Adverb', '쏘다/Verb', '쏘다/Verb']\n",
            "18번째 리뷰!\n",
            "['최고/Noun', '예요/Josa']\n",
            "19번째 리뷰!\n",
            "['낮/Noun', '에/Josa', '사서/Noun', '바로/Noun', '먹다/Verb', '때/Noun', '맛/Noun', '나다/Verb', '저녁/Noun', '에/Josa', '먹다/Verb', '빵/Noun', '이/Josa', '딱딱하다/Adjective', '감흥/Noun', '이/Josa', '없다/Adjective', '그리고/Conjunction', '카야/Noun', './Punctuation', '앙/Adverb', '버터/Noun', '벼로/Noun', '이다/Adjective', '디다/Noun', './Punctuation', '비추다/Verb', '!/Punctuation']\n",
            "20번째 리뷰!\n",
            "['맛있다/Adjective', '줄/Noun', '엄청/Adverb', '길/Noun', '어짐/Noun', '음료/Noun', '는/Josa', '그다지/Noun']\n",
            "21번째 리뷰!\n",
            "['귀엽다/Adjective']\n",
            "22번째 리뷰!\n",
            "['ㅈㅁㅌ/KoreanParticle']\n",
            "23번째 리뷰!\n",
            "['커스터드/Noun', '크림/Noun', '진해/Noun', '요/Josa', './Punctuation', '명란/Noun', '빵/Noun', '은/Josa', '별로/Noun', './Punctuation', '빵/Noun', '자체/Noun', '가/Josa', '맛있다/Adjective', '않다/Verb', '../Punctuation']\n",
            "24번째 리뷰!\n",
            "['맛있다/Adjective', '던킨/Noun', '도넛/Noun', '딱/Adverb', '그/Noun', '말/Noun', '이/Josa', '맞다/Verb']\n",
            "25번째 리뷰!\n",
            "['좀/Noun', '더/Noun', '맛있다/Adjective', '던킨/Noun', '도넛/Noun', '이즈/Noun', '니/Josa', '버터/Noun', '도넛/Noun', ':/Punctuation', '밍밍/Noun', '한/Determiner', '데/Noun', '묘/Noun', '하다/Verb', '맛/Noun', '남/Noun', '스마일/Noun', '케이크/Noun', ':/Punctuation', '촉촉/Noun', '부드럽다/Adjective', '맛/Noun', '남/Noun', '토요일/Noun', '시/Noun', '기준/Noun', ',/Punctuation', '분/Noun', '이/Josa', '상/Noun', '대기/Noun']\n",
            "26번째 리뷰!\n"
          ],
          "name": "stdout"
        },
        {
          "output_type": "error",
          "ename": "ParseError",
          "evalue": "ignored",
          "traceback": [
            "\u001b[0;36m  File \u001b[0;32m\"<string>\"\u001b[0;36m, line \u001b[0;32munknown\u001b[0m\n\u001b[0;31mParseError\u001b[0m\u001b[0;31m:\u001b[0m not well-formed (invalid token): line 1, column 55\n"
          ]
        }
      ]
    },
    {
      "cell_type": "code",
      "metadata": {
        "colab": {
          "base_uri": "https://localhost:8080/"
        },
        "id": "xahiZmvrfjIl",
        "outputId": "19a6edaf-9d4b-41ee-e412-b57647121935"
      },
      "source": [
        "import nltk\r\n",
        "from nltk.corpus import stopwords \r\n",
        "from nltk.tokenize import word_tokenize \r\n",
        "# NLTK Data 다운\r\n",
        "nltk.download('punkt')\r\n",
        "nltk.download('wordnet')\r\n",
        "nltk.download('stopwords')\r\n",
        "\r\n",
        "stop_words = open('/content/drive/MyDrive/신입프로젝트/korean_stopwords.txt').read()\r\n",
        "\r\n",
        "\r\n",
        "# 위의 불용어는 명사가 아닌 단어 중에서 저자가 임의로 선정한 것으로 실제 의미있는 선정 기준이 아님\r\n",
        "stop_words=stop_words.split('\\n')"
      ],
      "execution_count": 10,
      "outputs": [
        {
          "output_type": "stream",
          "text": [
            "[nltk_data] Downloading package punkt to /root/nltk_data...\n",
            "[nltk_data]   Package punkt is already up-to-date!\n",
            "[nltk_data] Downloading package wordnet to /root/nltk_data...\n",
            "[nltk_data]   Package wordnet is already up-to-date!\n",
            "[nltk_data] Downloading package stopwords to /root/nltk_data...\n",
            "[nltk_data]   Package stopwords is already up-to-date!\n"
          ],
          "name": "stdout"
        }
      ]
    },
    {
      "cell_type": "code",
      "metadata": {
        "id": "pT-dE0Z-3vN1"
      },
      "source": [
        ""
      ],
      "execution_count": null,
      "outputs": []
    }
  ]
}