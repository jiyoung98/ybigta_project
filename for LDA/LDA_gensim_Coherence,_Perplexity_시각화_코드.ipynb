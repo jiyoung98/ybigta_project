{
  "nbformat": 4,
  "nbformat_minor": 0,
  "metadata": {
    "colab": {
      "name": "LDA_gensim_Coherence, Perplexity 시각화 코드.ipynb",
      "provenance": [],
      "machine_shape": "hm"
    },
    "kernelspec": {
      "name": "python3",
      "display_name": "Python 3"
    },
    "accelerator": "GPU"
  },
  "cells": [
    {
      "cell_type": "code",
      "metadata": {
        "id": "bxO4SWTlq5gK"
      },
      "source": [
        "import pandas as pd\r\n",
        "import numpy as np\r\n",
        "import re"
      ],
      "execution_count": 1,
      "outputs": []
    },
    {
      "cell_type": "code",
      "metadata": {
        "colab": {
          "base_uri": "https://localhost:8080/"
        },
        "id": "SbM7p5Yvidkq",
        "outputId": "d0c1616d-a003-4a6d-a9b1-eeed8ff73b6d"
      },
      "source": [
        "from google.colab import drive\n",
        "drive.mount('/content/drive')"
      ],
      "execution_count": 2,
      "outputs": [
        {
          "output_type": "stream",
          "text": [
            "Mounted at /content/drive\n"
          ],
          "name": "stdout"
        }
      ]
    },
    {
      "cell_type": "code",
      "metadata": {
        "id": "zse2vEEf030O",
        "colab": {
          "base_uri": "https://localhost:8080/",
          "height": 297
        },
        "outputId": "646be925-136b-4fc2-d211-80b2f749e373"
      },
      "source": [
        "lda_train = pd.read_csv('/content/drive/MyDrive/Ybigta/신입기수 프로젝트/for LDA/train_data_lda.csv')\r\n",
        "lda_train.head()"
      ],
      "execution_count": 4,
      "outputs": [
        {
          "output_type": "execute_result",
          "data": {
            "text/html": [
              "<div>\n",
              "<style scoped>\n",
              "    .dataframe tbody tr th:only-of-type {\n",
              "        vertical-align: middle;\n",
              "    }\n",
              "\n",
              "    .dataframe tbody tr th {\n",
              "        vertical-align: top;\n",
              "    }\n",
              "\n",
              "    .dataframe thead th {\n",
              "        text-align: right;\n",
              "    }\n",
              "</style>\n",
              "<table border=\"1\" class=\"dataframe\">\n",
              "  <thead>\n",
              "    <tr style=\"text-align: right;\">\n",
              "      <th></th>\n",
              "      <th>Unnamed: 0</th>\n",
              "      <th>row_num</th>\n",
              "      <th>location</th>\n",
              "      <th>cafe_name</th>\n",
              "      <th>review</th>\n",
              "      <th>label</th>\n",
              "      <th>new_review</th>\n",
              "      <th>preprocessed</th>\n",
              "      <th>category</th>\n",
              "    </tr>\n",
              "  </thead>\n",
              "  <tbody>\n",
              "    <tr>\n",
              "      <th>0</th>\n",
              "      <td>0</td>\n",
              "      <td>0</td>\n",
              "      <td>강남역</td>\n",
              "      <td>카페노티드 청담</td>\n",
              "      <td>그냥 그렇다 생각했는데 다른 곳에서 도넛 먹고나면? ㄷ ㄷ 킹티드 .. 잘되는 이유...</td>\n",
              "      <td>4</td>\n",
              "      <td>그냥/Noun,그렇다/Adjective,생각/Noun,하다/Verb,다른/Noun,...</td>\n",
              "      <td>그냥 그렇다 생각 다른 곳 넛 킹 드 이유 있다 그냥 갤러리아 지하 게 갑자기 확장...</td>\n",
              "      <td>unlabeled</td>\n",
              "    </tr>\n",
              "    <tr>\n",
              "      <th>1</th>\n",
              "      <td>1</td>\n",
              "      <td>1</td>\n",
              "      <td>강남역</td>\n",
              "      <td>카페노티드 청담</td>\n",
              "      <td>우유크림 개맛있슴 근데 그만큼 혼잡해서 또 가고싶지 않은 곳..</td>\n",
              "      <td>3</td>\n",
              "      <td>우유/Noun,크림/Noun,개/Noun,맛있다/Adjective,근데/Adverb...</td>\n",
              "      <td>우유 크림 개 맛있다 혼잡하다 또 곳</td>\n",
              "      <td>unlabeled</td>\n",
              "    </tr>\n",
              "    <tr>\n",
              "      <th>2</th>\n",
              "      <td>2</td>\n",
              "      <td>2</td>\n",
              "      <td>강남역</td>\n",
              "      <td>카페노티드 청담</td>\n",
              "      <td>도넛은 맛있는데 종업원들 대응이 너무 느려요. 한남이랑 삼성점도 가봤는데 여기가 유...</td>\n",
              "      <td>2</td>\n",
              "      <td>도넛/Noun,맛있다/Adjective,종업원/Noun,대응/Noun,너무/Adve...</td>\n",
              "      <td>도넛 맛있다 종업원 대응 느리다 한남 삼성 점도 여기 손 느리다 듯 직원 많다 왜 ...</td>\n",
              "      <td>unlabeled</td>\n",
              "    </tr>\n",
              "    <tr>\n",
              "      <th>3</th>\n",
              "      <td>3</td>\n",
              "      <td>3</td>\n",
              "      <td>강남역</td>\n",
              "      <td>카페노티드 청담</td>\n",
              "      <td>도넛이 맛은 있는데 줄이 진짜 너엉어ㅓㅓ어어어어무 길다 예약해서 가져갈거면 가고 가...</td>\n",
              "      <td>4</td>\n",
              "      <td>도넛/Noun,맛/Noun,있다/Adjective,줄이다/Verb,진짜/Noun,너...</td>\n",
              "      <td>도넛 맛 있다 진짜 엉 어어 무길 예약 거 절대 못</td>\n",
              "      <td>unlabeled</td>\n",
              "    </tr>\n",
              "    <tr>\n",
              "      <th>4</th>\n",
              "      <td>5</td>\n",
              "      <td>5</td>\n",
              "      <td>강남역</td>\n",
              "      <td>카페노티드 청담</td>\n",
              "      <td>바닐라맛 맛있어요! 도넛 사는데.. 40분? 기다린거 같네요 . 이왕 간김에 조각 ...</td>\n",
              "      <td>4</td>\n",
              "      <td>바닐라/Noun,맛/Noun,맛있다/Adjective,도/Noun,넛/Noun,살다...</td>\n",
              "      <td>바닐라 맛 맛있다 도 넛 분 거 같다 이 왕관 김 조각 케이크 사고 살라 다시 줄 ...</td>\n",
              "      <td>unlabeled</td>\n",
              "    </tr>\n",
              "  </tbody>\n",
              "</table>\n",
              "</div>"
            ],
            "text/plain": [
              "   Unnamed: 0  ...   category\n",
              "0           0  ...  unlabeled\n",
              "1           1  ...  unlabeled\n",
              "2           2  ...  unlabeled\n",
              "3           3  ...  unlabeled\n",
              "4           5  ...  unlabeled\n",
              "\n",
              "[5 rows x 9 columns]"
            ]
          },
          "metadata": {
            "tags": []
          },
          "execution_count": 4
        }
      ]
    },
    {
      "cell_type": "code",
      "metadata": {
        "colab": {
          "base_uri": "https://localhost:8080/"
        },
        "id": "6rQowm8-0eB-",
        "outputId": "8c55428e-e611-4667-994c-1e2eef948903"
      },
      "source": [
        "corpus = []\r\n",
        "stop_w = ['최고','하나','별로','있다', '없다', '진짜','좋다','카페' ,'이다', '좋다','아니다', '좀','같다','금방']\r\n",
        "\r\n",
        "for i in lda_train.preprocessed:\r\n",
        "  sub1 = re.sub('라떼|라테|아메리카노', '커피', i)\r\n",
        "  sub2 = re.sub('케이크|스콘|마카롱', '디저트', sub1)\r\n",
        "  inner = []\r\n",
        "  for t in sub2.split(' '):\r\n",
        "    if t not in stop_w:\r\n",
        "      inner.append(t)\r\n",
        "  corpus.append(' '.join(inner))\r\n",
        "\r\n",
        "corpus[:10]"
      ],
      "execution_count": 5,
      "outputs": [
        {
          "output_type": "execute_result",
          "data": {
            "text/plain": [
              "['그냥 그렇다 생각 다른 곳 넛 킹 드 이유 그냥 갤러리아 지하 게 갑자기 확장 이전 웨이 팅 뭐',\n",
              " '우유 크림 개 맛있다 혼잡하다 또 곳',\n",
              " '도넛 맛있다 종업원 대응 느리다 한남 삼성 점도 여기 손 느리다 듯 직원 많다 왜 느리다 이해 안',\n",
              " '도넛 맛 엉 어어 무길 예약 거 절대 못',\n",
              " '바닐라 맛 맛있다 도 넛 분 거 이 왕관 김 조각 디저트 사고 살라 다시 줄 못 사서 아쉽다 이 점 개선 꼭 부탁드리다',\n",
              " '도넛 맛 맛있다 대신 포장 거 인내심 가야 함 뭔가 포장 방식 거',\n",
              " '계산 직원 불친절하다 프로도 두 개시 집 어보 개 안 예정',\n",
              " '빵 더 맛있다 저렴하다 데 매장 분위기 직원 끼리 소통 안 느낌 아쉽다 계산 때 빵 디저트 미리 말씀',\n",
              " '안 더 거 줄 정리 빨',\n",
              " '노 티스 맛있다']"
            ]
          },
          "metadata": {
            "tags": []
          },
          "execution_count": 5
        }
      ]
    },
    {
      "cell_type": "code",
      "metadata": {
        "id": "spsTQH0B1-k0"
      },
      "source": [
        ""
      ],
      "execution_count": null,
      "outputs": []
    },
    {
      "cell_type": "markdown",
      "metadata": {
        "id": "GLkYdv66KzVR"
      },
      "source": [
        "# LDA 모델링은 여기서부터~ "
      ]
    },
    {
      "cell_type": "code",
      "metadata": {
        "id": "L0duv06R-xT5",
        "colab": {
          "base_uri": "https://localhost:8080/"
        },
        "outputId": "e13f8e84-d337-44bd-93e4-6c2c01e3e103"
      },
      "source": [
        "corpus_gen = []\r\n",
        "for i in corpus:\r\n",
        "  inner = i.split(' ')\r\n",
        "  corpus_gen.append(inner)\r\n",
        "\r\n",
        "\r\n",
        "corpus_gen[:2]"
      ],
      "execution_count": 9,
      "outputs": [
        {
          "output_type": "execute_result",
          "data": {
            "text/plain": [
              "[['그냥',\n",
              "  '그렇다',\n",
              "  '생각',\n",
              "  '다른',\n",
              "  '곳',\n",
              "  '넛',\n",
              "  '킹',\n",
              "  '드',\n",
              "  '이유',\n",
              "  '그냥',\n",
              "  '갤러리아',\n",
              "  '지하',\n",
              "  '게',\n",
              "  '갑자기',\n",
              "  '확장',\n",
              "  '이전',\n",
              "  '웨이',\n",
              "  '팅',\n",
              "  '뭐'],\n",
              " ['우유', '크림', '개', '맛있다', '혼잡하다', '또', '곳']]"
            ]
          },
          "metadata": {
            "tags": []
          },
          "execution_count": 9
        }
      ]
    },
    {
      "cell_type": "code",
      "metadata": {
        "colab": {
          "base_uri": "https://localhost:8080/"
        },
        "id": "lKG2JChjFcmo",
        "outputId": "900c8b0e-b433-4737-d724-5e1a2295c7b8"
      },
      "source": [
        "!pip install gensim\r\n",
        "from gensim import models\r\n",
        "import gensim"
      ],
      "execution_count": 10,
      "outputs": [
        {
          "output_type": "stream",
          "text": [
            "Requirement already satisfied: gensim in /usr/local/lib/python3.6/dist-packages (3.6.0)\n",
            "Requirement already satisfied: smart-open>=1.2.1 in /usr/local/lib/python3.6/dist-packages (from gensim) (4.1.2)\n",
            "Requirement already satisfied: scipy>=0.18.1 in /usr/local/lib/python3.6/dist-packages (from gensim) (1.4.1)\n",
            "Requirement already satisfied: six>=1.5.0 in /usr/local/lib/python3.6/dist-packages (from gensim) (1.15.0)\n",
            "Requirement already satisfied: numpy>=1.11.3 in /usr/local/lib/python3.6/dist-packages (from gensim) (1.19.5)\n"
          ],
          "name": "stdout"
        }
      ]
    },
    {
      "cell_type": "code",
      "metadata": {
        "colab": {
          "base_uri": "https://localhost:8080/"
        },
        "id": "JtOopifa_Hmh",
        "outputId": "9d1c46f0-3270-44fe-f567-2983547f15b6"
      },
      "source": [
        "from gensim import corpora\r\n",
        "dictionary = corpora.Dictionary(corpus_gen)\r\n",
        "corpus = [dictionary.doc2bow(text) for text in corpus_gen]\r\n",
        "print(corpus[1]) # 수행된 결과에서 두번째 뉴스 출력. 첫번째 문서의 인덱스는 0"
      ],
      "execution_count": 12,
      "outputs": [
        {
          "output_type": "stream",
          "text": [
            "[(3, 1), (18, 1), (19, 1), (20, 1), (21, 1), (22, 1), (23, 1)]\n"
          ],
          "name": "stdout"
        }
      ]
    },
    {
      "cell_type": "markdown",
      "metadata": {
        "id": "KIL1h2pvxtsy"
      },
      "source": [
        "# Coherence 시각화 코드"
      ]
    },
    {
      "cell_type": "code",
      "metadata": {
        "id": "Figd-lQEEKrT"
      },
      "source": [
        "from gensim.models import CoherenceModel\r\n",
        "import matplotlib.pyplot as plt\r\n",
        "%matplotlib inline\r\n",
        "\r\n",
        "coherence_values=[]\r\n",
        "for i in range(2,7):\r\n",
        "  ldamodel = gensim.models.LdaModel(corpus, num_topics = i, id2word=dictionary, passes = 100)\r\n",
        "  coherence_model_lda = CoherenceModel(model=ldamodel, texts=corpus_gen, dictionary=dictionary, topn=10)\r\n",
        "  coherence_lda = coherence_model_lda.get_coherence()\r\n",
        "  coherence_values.append(coherence_lda)"
      ],
      "execution_count": 19,
      "outputs": []
    },
    {
      "cell_type": "code",
      "metadata": {
        "id": "QlcxOeqNHZZM",
        "colab": {
          "base_uri": "https://localhost:8080/"
        },
        "outputId": "bd653d08-0603-4479-a0d0-273e4524c14e"
      },
      "source": [
        "for i in range(len(coherence_values)):\r\n",
        "  print(coherence_values[i])"
      ],
      "execution_count": 20,
      "outputs": [
        {
          "output_type": "stream",
          "text": [
            "0.43000222646373154\n",
            "0.42062936826606684\n",
            "0.44306530415853557\n",
            "0.4379561296194738\n",
            "0.44474007087578254\n"
          ],
          "name": "stdout"
        }
      ]
    },
    {
      "cell_type": "code",
      "metadata": {
        "colab": {
          "base_uri": "https://localhost:8080/",
          "height": 278
        },
        "id": "0HKlpNW5Ep26",
        "outputId": "f5b686cf-d064-49d8-cd93-d886f4617681"
      },
      "source": [
        "x=range(2,7)\r\n",
        "plt.plot(x, coherence_values)\r\n",
        "plt.xlabel(\"number of topics\")\r\n",
        "plt.ylabel(\"coherence score\")\r\n",
        "plt.show()"
      ],
      "execution_count": 21,
      "outputs": [
        {
          "output_type": "display_data",
          "data": {
            "image/png": "[encoded data removed]",
            "text/plain": [
              "<Figure size 432x288 with 1 Axes>"
            ]
          },
          "metadata": {
            "tags": [],
            "needs_background": "light"
          }
        }
      ]
    },
    {
      "cell_type": "markdown",
      "metadata": {
        "id": "mZuEaKWBIBB-"
      },
      "source": [
        "##Perplexity 시각화 코드"
      ]
    },
    {
      "cell_type": "code",
      "metadata": {
        "id": "ifL31VKwIFHY"
      },
      "source": [
        "import matplotlib.pyplot as plt\r\n",
        "%matplotlib inline\r\n",
        "\r\n",
        "perplexity_values=[]\r\n",
        "for i in range(2,7):\r\n",
        "  ldamodel = gensim.models.LdaModel(corpus, num_topics = i, id2word=dictionary, passes = 100)\r\n",
        "  perplexity_values.append(ldamodel.log_perplexity(corpus))"
      ],
      "execution_count": 22,
      "outputs": []
    },
    {
      "cell_type": "code",
      "metadata": {
        "colab": {
          "base_uri": "https://localhost:8080/",
          "height": 278
        },
        "id": "b6Eu9gurIFJ0",
        "outputId": "38333405-a498-4e42-a040-e832164e31f4"
      },
      "source": [
        "x=range(2,7)\r\n",
        "plt.plot(x, perplexity_values)\r\n",
        "plt.xlabel(\"number of topics\")\r\n",
        "plt.ylabel(\"perplexity score\")\r\n",
        "plt.show()"
      ],
      "execution_count": 23,
      "outputs": [
        {
          "output_type": "display_data",
          "data": {
            "image/png": "[encoded data removed]",
            "text/plain": [
              "<Figure size 432x288 with 1 Axes>"
            ]
          },
          "metadata": {
            "tags": [],
            "needs_background": "light"
          }
        }
      ]
    },
    {
      "cell_type": "code",
      "metadata": {
        "id": "YQjd8W5LIFNB"
      },
      "source": [
        ""
      ],
      "execution_count": null,
      "outputs": []
    },
    {
      "cell_type": "code",
      "metadata": {
        "id": "GKu0v7BzIFR8"
      },
      "source": [
        ""
      ],
      "execution_count": null,
      "outputs": []
    },
    {
      "cell_type": "code",
      "metadata": {
        "id": "bt_80hMGBaGx"
      },
      "source": [
        ""
      ],
      "execution_count": null,
      "outputs": []
    }
  ]
}