{
  "nbformat": 4,
  "nbformat_minor": 0,
  "metadata": {
    "colab": {
      "name": "lstm_classification(최종).ipynb",
      "provenance": []
    },
    "kernelspec": {
      "name": "python3",
      "display_name": "Python 3"
    }
  },
  "cells": [
    {
      "cell_type": "code",
      "metadata": {
        "id": "Y4bP0oqQhAui"
      },
      "source": [
        "from keras.preprocessing.text import Tokenizer\r\n",
        "from keras.preprocessing.sequence import pad_sequences"
      ],
      "execution_count": null,
      "outputs": []
    },
    {
      "cell_type": "code",
      "metadata": {
        "id": "g45X-137hDFU"
      },
      "source": [
        "tokenizer = Tokenizer(5012)"
      ],
      "execution_count": null,
      "outputs": []
    },
    {
      "cell_type": "code",
      "metadata": {
        "colab": {
          "base_uri": "https://localhost:8080/"
        },
        "id": "OUO4ZL6FhDKS",
        "outputId": "b7c1097b-a979-46d0-a340-afaa4b610b15"
      },
      "source": [
        "!pip install konlpy \r\n",
        "import pandas as pd\r\n",
        "import numpy as np\r\n",
        "%matplotlib inline\r\n",
        "import matplotlib.pyplot as plt\r\n",
        "import re\r\n",
        "import urllib.request\r\n",
        "from konlpy.tag import Okt\r\n",
        "from tensorflow.keras.preprocessing.text import Tokenizer\r\n",
        "from tensorflow.keras.preprocessing.sequence import pad_sequences"
      ],
      "execution_count": null,
      "outputs": [
        {
          "output_type": "stream",
          "text": [
            "Requirement already satisfied: konlpy in /usr/local/lib/python3.7/dist-packages (0.5.2)\n",
            "Requirement already satisfied: numpy>=1.6 in /usr/local/lib/python3.7/dist-packages (from konlpy) (1.19.5)\n",
            "Requirement already satisfied: JPype1>=0.7.0 in /usr/local/lib/python3.7/dist-packages (from konlpy) (1.2.1)\n",
            "Requirement already satisfied: beautifulsoup4==4.6.0 in /usr/local/lib/python3.7/dist-packages (from konlpy) (4.6.0)\n",
            "Requirement already satisfied: lxml>=4.1.0 in /usr/local/lib/python3.7/dist-packages (from konlpy) (4.2.6)\n",
            "Requirement already satisfied: colorama in /usr/local/lib/python3.7/dist-packages (from konlpy) (0.4.4)\n",
            "Requirement already satisfied: tweepy>=3.7.0 in /usr/local/lib/python3.7/dist-packages (from konlpy) (3.10.0)\n",
            "Requirement already satisfied: typing-extensions; python_version < \"3.8\" in /usr/local/lib/python3.7/dist-packages (from JPype1>=0.7.0->konlpy) (3.7.4.3)\n",
            "Requirement already satisfied: requests[socks]>=2.11.1 in /usr/local/lib/python3.7/dist-packages (from tweepy>=3.7.0->konlpy) (2.23.0)\n",
            "Requirement already satisfied: requests-oauthlib>=0.7.0 in /usr/local/lib/python3.7/dist-packages (from tweepy>=3.7.0->konlpy) (1.3.0)\n",
            "Requirement already satisfied: six>=1.10.0 in /usr/local/lib/python3.7/dist-packages (from tweepy>=3.7.0->konlpy) (1.15.0)\n",
            "Requirement already satisfied: urllib3!=1.25.0,!=1.25.1,<1.26,>=1.21.1 in /usr/local/lib/python3.7/dist-packages (from requests[socks]>=2.11.1->tweepy>=3.7.0->konlpy) (1.24.3)\n",
            "Requirement already satisfied: chardet<4,>=3.0.2 in /usr/local/lib/python3.7/dist-packages (from requests[socks]>=2.11.1->tweepy>=3.7.0->konlpy) (3.0.4)\n",
            "Requirement already satisfied: certifi>=2017.4.17 in /usr/local/lib/python3.7/dist-packages (from requests[socks]>=2.11.1->tweepy>=3.7.0->konlpy) (2020.12.5)\n",
            "Requirement already satisfied: idna<3,>=2.5 in /usr/local/lib/python3.7/dist-packages (from requests[socks]>=2.11.1->tweepy>=3.7.0->konlpy) (2.10)\n",
            "Requirement already satisfied: PySocks!=1.5.7,>=1.5.6; extra == \"socks\" in /usr/local/lib/python3.7/dist-packages (from requests[socks]>=2.11.1->tweepy>=3.7.0->konlpy) (1.7.1)\n",
            "Requirement already satisfied: oauthlib>=3.0.0 in /usr/local/lib/python3.7/dist-packages (from requests-oauthlib>=0.7.0->tweepy>=3.7.0->konlpy) (3.1.0)\n"
          ],
          "name": "stdout"
        }
      ]
    },
    {
      "cell_type": "code",
      "metadata": {
        "id": "vURHPuQihDH9"
      },
      "source": [
        "import json\r\n",
        "\r\n",
        "with open('/content/drive/MyDrive/Ybigta/신입기수 프로젝트/model/wordIndex_classification.json') as json_file:\r\n",
        "  word_index = json.load(json_file)\r\n",
        "  tokenizer.word_index = word_index\r\n",
        "\r\n",
        "from keras.models import load_model\r\n",
        "model = load_model('/content/drive/MyDrive/Ybigta/신입기수 프로젝트/model/lstm_classification.h5')"
      ],
      "execution_count": null,
      "outputs": []
    },
    {
      "cell_type": "code",
      "metadata": {
        "id": "Yv7oziZ2hDM-"
      },
      "source": [
        "okt = Okt()\r\n",
        "stopwords = ['의','가','이','은','들','는','좀','잘','걍','과','도','를','으로','자','에','와','한','하다']"
      ],
      "execution_count": null,
      "outputs": []
    },
    {
      "cell_type": "code",
      "metadata": {
        "id": "BU5n5kbthDPg"
      },
      "source": [
        "max_len=50"
      ],
      "execution_count": null,
      "outputs": []
    },
    {
      "cell_type": "code",
      "metadata": {
        "id": "vVNbu41UmgQ5"
      },
      "source": [
        ""
      ],
      "execution_count": null,
      "outputs": []
    },
    {
      "cell_type": "code",
      "metadata": {
        "id": "tENKx85lmgTc"
      },
      "source": [
        "def topic_predict(new_sentence):\r\n",
        "  new_sentence = okt.morphs(new_sentence, stem=True) # 토큰화\r\n",
        "  new_sentence = [word for word in new_sentence if not word in stopwords] # 불용어 제거\r\n",
        "  encoded = tokenizer.texts_to_sequences([new_sentence]) # 정수 인코딩\r\n",
        "  pad_new = pad_sequences(encoded, maxlen = max_len) # 패딩\r\n",
        "  for i in range(4):\r\n",
        "    x = model.predict(pad_new)[0][i]\r\n",
        "    x = float(x)\r\n",
        "    print(str(i+1) + \"번 주제일 확률은 {:4.2} 입니다.\\n\".format(x)) # 예측\r\n"
      ],
      "execution_count": null,
      "outputs": []
    },
    {
      "cell_type": "code",
      "metadata": {
        "colab": {
          "base_uri": "https://localhost:8080/"
        },
        "id": "lDh6yqw6muCL",
        "outputId": "fa6e7379-de73-4c8d-b29d-8c6b2c07948a"
      },
      "source": [
        "topic_predict('여기 카페는 분위기도 좋고 인테리어도 마음에 들어요')"
      ],
      "execution_count": null,
      "outputs": [
        {
          "output_type": "stream",
          "text": [
            "1번 주제일 확률은 0.67 입니다.\n",
            "\n",
            "2번 주제일 확률은 0.0071 입니다.\n",
            "\n",
            "3번 주제일 확률은 0.31 입니다.\n",
            "\n",
            "4번 주제일 확률은 0.011 입니다.\n",
            "\n"
          ],
          "name": "stdout"
        }
      ]
    },
    {
      "cell_type": "code",
      "metadata": {
        "colab": {
          "base_uri": "https://localhost:8080/"
        },
        "id": "yQFCw-0WmuEL",
        "outputId": "57480bfa-4586-4cb8-d006-0115191c103b"
      },
      "source": [
        "topic_predict('커피가 맛있습니다! 정말 맛있어요!ㅎㅎ')"
      ],
      "execution_count": null,
      "outputs": [
        {
          "output_type": "stream",
          "text": [
            "1번 주제일 확률은 0.71 입니다.\n",
            "\n",
            "2번 주제일 확률은 0.11 입니다.\n",
            "\n",
            "3번 주제일 확률은 0.012 입니다.\n",
            "\n",
            "4번 주제일 확률은 0.17 입니다.\n",
            "\n"
          ],
          "name": "stdout"
        }
      ]
    },
    {
      "cell_type": "code",
      "metadata": {
        "colab": {
          "base_uri": "https://localhost:8080/"
        },
        "id": "DhagjcSbmuGn",
        "outputId": "ecaba1ee-0837-41f8-96af-336f3838bb45"
      },
      "source": [
        "topic_predict('직원분들이 너무 친절하세요ㅜㅜ 또 오고 싶어지는 가게입니다!')"
      ],
      "execution_count": null,
      "outputs": [
        {
          "output_type": "stream",
          "text": [
            "1번 주제일 확률은 0.38 입니다.\n",
            "\n",
            "2번 주제일 확률은 0.62 입니다.\n",
            "\n",
            "3번 주제일 확률은 0.0012 입니다.\n",
            "\n",
            "4번 주제일 확률은 4.9e-06 입니다.\n",
            "\n"
          ],
          "name": "stdout"
        }
      ]
    },
    {
      "cell_type": "code",
      "metadata": {
        "id": "gpwSy0AO30T0"
      },
      "source": [
        ""
      ],
      "execution_count": null,
      "outputs": []
    },
    {
      "cell_type": "code",
      "metadata": {
        "id": "Bh6ay10e-QxR"
      },
      "source": [
        "def best_topic_predict(new_sentence):\r\n",
        "  new_sentence = okt.morphs(new_sentence, stem=True) # 토큰화\r\n",
        "  new_sentence = [word for word in new_sentence if not word in stopwords] # 불용어 제거\r\n",
        "  encoded = tokenizer.texts_to_sequences([new_sentence]) # 정수 인코딩\r\n",
        "  pad_new = pad_sequences(encoded, maxlen = max_len) # 패딩\r\n",
        "  max = 0\r\n",
        "  for i in range(4):\r\n",
        "    \r\n",
        "    if model.predict(pad_new)[0][i] > max:\r\n",
        "      max = model.predict(pad_new)[0][i]\r\n",
        "      maxnumber = i\r\n",
        "\r\n",
        "  x = float(max)\r\n",
        "\r\n",
        "  print(str(maxnumber+1) + \"번 주제일 확률이 {:4.2} 으로 가장 높습니다!\\n\".format(x)) # 예측"
      ],
      "execution_count": null,
      "outputs": []
    },
    {
      "cell_type": "code",
      "metadata": {
        "colab": {
          "base_uri": "https://localhost:8080/"
        },
        "id": "O5WZyadH-Q0_",
        "outputId": "9855064b-64f2-4e63-980b-b166201fbfe5"
      },
      "source": [
        "best_topic_predict('직원분들이 너무 친절하세요ㅜㅜ 또 오고 싶어지는 가게입니다!')"
      ],
      "execution_count": null,
      "outputs": [
        {
          "output_type": "stream",
          "text": [
            "2번 주제일 확률은 0.62 으로 가장 높습니다!\n",
            "\n"
          ],
          "name": "stdout"
        }
      ]
    },
    {
      "cell_type": "code",
      "metadata": {
        "colab": {
          "base_uri": "https://localhost:8080/"
        },
        "id": "UZMXMu8T-Q2v",
        "outputId": "fba00002-2d26-4509-ebe2-b05829f17f1d"
      },
      "source": [
        "best_topic_predict('커피가 맛있습니다! 정말 맛있어요!ㅎㅎ')"
      ],
      "execution_count": null,
      "outputs": [
        {
          "output_type": "stream",
          "text": [
            "1번 주제일 확률은 0.71 으로 가장 높습니다!\n",
            "\n"
          ],
          "name": "stdout"
        }
      ]
    },
    {
      "cell_type": "code",
      "metadata": {
        "id": "wucnm97R-Q5k"
      },
      "source": [
        ""
      ],
      "execution_count": null,
      "outputs": []
    },
    {
      "cell_type": "code",
      "metadata": {
        "id": "4Qyv75NG-Q84"
      },
      "source": [
        ""
      ],
      "execution_count": null,
      "outputs": []
    }
  ]
}